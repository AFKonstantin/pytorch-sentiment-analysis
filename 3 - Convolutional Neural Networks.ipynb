{
 "cells": [
  {
   "cell_type": "code",
   "execution_count": 1,
   "id": "b1797021",
   "metadata": {},
   "outputs": [],
   "source": [
    "import collections\n",
    "\n",
    "import datasets\n",
    "import matplotlib.pyplot as plt\n",
    "import numpy as np\n",
    "import torch\n",
    "import torch.nn as nn\n",
    "import torch.optim as optim\n",
    "import torchtext\n",
    "import tqdm"
   ]
  },
  {
   "cell_type": "code",
   "execution_count": 2,
   "id": "0d5b5146",
   "metadata": {},
   "outputs": [],
   "source": [
    "seed = 1234\n",
    "\n",
    "np.random.seed(seed)\n",
    "torch.manual_seed(seed)\n",
    "torch.cuda.manual_seed(seed)\n",
    "torch.backends.cudnn.deterministic = True"
   ]
  },
  {
   "cell_type": "code",
   "execution_count": 3,
   "id": "1f9cda19",
   "metadata": {},
   "outputs": [],
   "source": [
    "train_data, test_data = datasets.load_dataset(\"imdb\", split=[\"train\", \"test\"])\n",
    "using_dbpedia = False"
   ]
  },
  {
   "cell_type": "code",
   "execution_count": 12,
   "id": "8da8833c",
   "metadata": {},
   "outputs": [],
   "source": [
    "train_data, test_data = datasets.load_dataset(\"fancyzhx/dbpedia_14\", split=[\"train\", \"test\"])\n",
    "using_dbpedia = True"
   ]
  },
  {
   "cell_type": "markdown",
   "id": "94a615da",
   "metadata": {},
   "source": [
    "## prepare"
   ]
  },
  {
   "cell_type": "markdown",
   "id": "7afb92a6",
   "metadata": {},
   "source": [
    "###### for now reduce in size to save time"
   ]
  },
  {
   "cell_type": "code",
   "execution_count": 114,
   "id": "97ed128f",
   "metadata": {},
   "outputs": [
    {
     "name": "stdout",
     "output_type": "stream",
     "text": [
      "Original train_data length: 42000\n",
      "Original test_data length: 7000\n",
      "Reduced train_data length: 4200\n",
      "Reduced test_data length: 700\n"
     ]
    }
   ],
   "source": [
    "### sample and reduce poth splits to 10% of the original size\n",
    "\n",
    "\n",
    "print(f\"Original train_data length: {len(train_data)}\")\n",
    "print(f\"Original test_data length: {len(test_data)}\")\n",
    "\n",
    "\n",
    "train_data = train_data.select(indices=np.random.choice(len(train_data), len(train_data)//10))\n",
    "test_data = test_data.select(indices=np.random.choice(len(test_data), len(test_data)//10))\n",
    "\n",
    "print(f\"Reduced train_data length: {len(train_data)}\")\n",
    "print(f\"Reduced test_data length: {len(test_data)}\")"
   ]
  },
  {
   "cell_type": "code",
   "execution_count": 115,
   "id": "1c78956b",
   "metadata": {},
   "outputs": [],
   "source": [
    "subclass_names = [\n",
    "    'company', 'educational institution', 'artist', 'athlete', \n",
    "    'office holder', 'mean of transportation', 'building', \n",
    "    'natural place', 'village', 'animal', 'plant', \n",
    "    'album', 'film', 'writtenWork'\n",
    "]\n",
    "\n",
    "\n",
    "\n",
    "ont_1_mapping = {\n",
    "        0: 1, # company : other\n",
    "        1: 1, # educational institution : other\n",
    "        2: 0, # artist : person\n",
    "        3: 0, # athlete : person\n",
    "        4: 0, # office holder : person\n",
    "        5: 1, # mean of transportation : other\n",
    "        6: 2, # building : place\n",
    "        7: 2, # natural place : place\n",
    "        8: 2, # village : place\n",
    "        9: 3, # animal : organism\n",
    "        10: 3, # plant : organism\n",
    "        11: 4, # album : artwork\n",
    "        12: 4, # film : artwork\n",
    "        13: 4, # writtenWork : artwork\n",
    "    }\n",
    "\n",
    "\n",
    "\n",
    "superclass_names = [\"other\", \"person\", \"place\", \"organism\", \"artwork\"]"
   ]
  },
  {
   "cell_type": "code",
   "execution_count": 15,
   "id": "7318b0e8",
   "metadata": {},
   "outputs": [
    {
     "data": {
      "application/vnd.jupyter.widget-view+json": {
       "model_id": "89b68eeaa11942d891491626cc86bd42",
       "version_major": 2,
       "version_minor": 0
      },
      "text/plain": [
       "Map:   0%|          | 0/56000 [00:00<?, ? examples/s]"
      ]
     },
     "metadata": {},
     "output_type": "display_data"
    },
    {
     "name": "stdout",
     "output_type": "stream",
     "text": [
      "<class 'list'>\n",
      "56000\n"
     ]
    },
    {
     "data": {
      "application/vnd.jupyter.widget-view+json": {
       "model_id": "b9403b14a7ef4c1ab38d725febd5113d",
       "version_major": 2,
       "version_minor": 0
      },
      "text/plain": [
       "Map:   0%|          | 0/7000 [00:00<?, ? examples/s]"
      ]
     },
     "metadata": {},
     "output_type": "display_data"
    },
    {
     "name": "stdout",
     "output_type": "stream",
     "text": [
      "<class 'list'>\n",
      "7000\n"
     ]
    }
   ],
   "source": [
    "# superclasses = [ont_1_mapping[subclass] for subclass in selected_subclass_lables.tolist()]\n",
    "\n",
    "\n",
    "\n",
    "\n",
    "\n",
    "\n",
    "def change_labels(batch):\n",
    "    # Extract `ids` as a list of tensors\n",
    "    labels = batch[\"label\"]\n",
    "    \n",
    "    print(type(labels))\n",
    "    print(len(labels))\n",
    "\n",
    "    superclasses = [ont_1_mapping[subclass] for subclass in labels]\n",
    "\n",
    "    # Replace `label` with `superclass`\n",
    "    batch[\"labels\"] = superclasses\n",
    "    batch[\"subclasses\"] = labels\n",
    "\n",
    "\n",
    "\n",
    "    return batch\n",
    "\n",
    "# Apply padding function to each batch in the dataset\n",
    "# dataset = test_data.map(pad_to_max_length, batched=True, batch_size=len(test_data))\n",
    "\n",
    "train_data = train_data.map(change_labels, batched=True, batch_size=len(train_data))\n",
    "test_data = test_data.map(change_labels, batched=True, batch_size=len(test_data))"
   ]
  },
  {
   "cell_type": "code",
   "execution_count": 116,
   "id": "48f4c1f6",
   "metadata": {},
   "outputs": [],
   "source": [
    "tokenizer = torchtext.data.utils.get_tokenizer(\"basic_english\")"
   ]
  },
  {
   "cell_type": "code",
   "execution_count": 117,
   "id": "4815a1f5",
   "metadata": {},
   "outputs": [],
   "source": [
    "###use  either the \"tiles\" or the \"content\" for tokenizations \n",
    "def tokenize_example_content(example, tokenizer, max_length):\n",
    "    tokens = tokenizer(example[\"content\"])[:max_length]\n",
    "    return {\"tokens\": tokens}\n",
    "\n",
    "def tokenize_example_title(example, tokenizer, max_length):\n",
    "    tokens = tokenizer(example[\"title\"])[:max_length]\n",
    "    return {\"tokens\": tokens}\n",
    "\n",
    "\n",
    "\n",
    "def tokenize_example(example, tokenizer, max_length):\n",
    "    tokens = tokenizer(example[\"text\"])[:max_length]\n",
    "    return {\"tokens\": tokens}"
   ]
  },
  {
   "cell_type": "code",
   "execution_count": 118,
   "id": "eca685b6",
   "metadata": {},
   "outputs": [
    {
     "data": {
      "application/vnd.jupyter.widget-view+json": {
       "model_id": "cd5d12a0d09f4f5aa38ec95f8bd1d324",
       "version_major": 2,
       "version_minor": 0
      },
      "text/plain": [
       "Map:   0%|          | 0/4200 [00:00<?, ? examples/s]"
      ]
     },
     "metadata": {},
     "output_type": "display_data"
    },
    {
     "data": {
      "application/vnd.jupyter.widget-view+json": {
       "model_id": "178f14ddb008484d9a592a533ceb4a17",
       "version_major": 2,
       "version_minor": 0
      },
      "text/plain": [
       "Map:   0%|          | 0/700 [00:00<?, ? examples/s]"
      ]
     },
     "metadata": {},
     "output_type": "display_data"
    }
   ],
   "source": [
    "max_length = 256\n",
    "\n",
    "if using_dbpedia:\n",
    "    train_data = train_data.map(\n",
    "        tokenize_example_content, fn_kwargs={\"tokenizer\": tokenizer, \"max_length\": max_length}\n",
    "    )\n",
    "    test_data = test_data.map(\n",
    "        tokenize_example_content, fn_kwargs={\"tokenizer\": tokenizer, \"max_length\": max_length}\n",
    "    )\n",
    "else:\n",
    "\n",
    "    train_data = train_data.map(\n",
    "        tokenize_example, fn_kwargs={\"tokenizer\": tokenizer, \"max_length\": max_length}\n",
    "    )\n",
    "    test_data = test_data.map(\n",
    "        tokenize_example, fn_kwargs={\"tokenizer\": tokenizer, \"max_length\": max_length}\n",
    "    )"
   ]
  },
  {
   "cell_type": "code",
   "execution_count": 119,
   "id": "cb53b268",
   "metadata": {},
   "outputs": [],
   "source": [
    "test_size = 0.25\n",
    "\n",
    "train_valid_data = train_data.train_test_split(test_size=test_size)\n",
    "train_data = train_valid_data[\"train\"]\n",
    "valid_data = train_valid_data[\"test\"]"
   ]
  },
  {
   "cell_type": "code",
   "execution_count": 120,
   "id": "a7f7d1d7",
   "metadata": {},
   "outputs": [],
   "source": [
    "min_freq = 5\n",
    "special_tokens = [\"<unk>\", \"<pad>\"]\n",
    "\n",
    "vocab = torchtext.vocab.build_vocab_from_iterator(\n",
    "    train_data[\"tokens\"],\n",
    "    min_freq=min_freq,\n",
    "    specials=special_tokens,\n",
    ")"
   ]
  },
  {
   "cell_type": "code",
   "execution_count": 121,
   "id": "d029794a",
   "metadata": {},
   "outputs": [],
   "source": [
    "unk_index = vocab[\"<unk>\"]\n",
    "pad_index = vocab[\"<pad>\"]"
   ]
  },
  {
   "cell_type": "code",
   "execution_count": 122,
   "id": "03aa4514",
   "metadata": {},
   "outputs": [],
   "source": [
    "vocab.set_default_index(unk_index)"
   ]
  },
  {
   "cell_type": "code",
   "execution_count": 123,
   "id": "0133bdd3",
   "metadata": {},
   "outputs": [],
   "source": [
    "def numericalize_example(example, vocab):\n",
    "    ids = vocab.lookup_indices(example[\"tokens\"])\n",
    "    return {\"ids\": ids}"
   ]
  },
  {
   "cell_type": "code",
   "execution_count": 124,
   "id": "558fd52a",
   "metadata": {},
   "outputs": [
    {
     "data": {
      "application/vnd.jupyter.widget-view+json": {
       "model_id": "01e4f4a6e866445aa5c638ae0565f8d3",
       "version_major": 2,
       "version_minor": 0
      },
      "text/plain": [
       "Map:   0%|          | 0/3150 [00:00<?, ? examples/s]"
      ]
     },
     "metadata": {},
     "output_type": "display_data"
    },
    {
     "name": "stdout",
     "output_type": "stream",
     "text": [
      "[0 1 2 3 4]\n"
     ]
    }
   ],
   "source": [
    "def test_debug(batch):\n",
    "    labels = batch[\"labels\"]\n",
    "    lables_np = np.array(labels)\n",
    "\n",
    "    unique = np.unique(lables_np)\n",
    "    print(unique)\n",
    "    return batch\n",
    "\n",
    "\n",
    "train_data = train_data.map(test_debug, batched=True, batch_size=len(train_data))"
   ]
  },
  {
   "cell_type": "code",
   "execution_count": 25,
   "id": "a8deac4e",
   "metadata": {},
   "outputs": [
    {
     "data": {
      "application/vnd.jupyter.widget-view+json": {
       "model_id": "c84fc5a7020544e9b0605f3e57948402",
       "version_major": 2,
       "version_minor": 0
      },
      "text/plain": [
       "Map:   0%|          | 0/42000 [00:00<?, ? examples/s]"
      ]
     },
     "metadata": {},
     "output_type": "display_data"
    },
    {
     "data": {
      "application/vnd.jupyter.widget-view+json": {
       "model_id": "9d253d9aa3fb400b859069e4b18a9635",
       "version_major": 2,
       "version_minor": 0
      },
      "text/plain": [
       "Map:   0%|          | 0/14000 [00:00<?, ? examples/s]"
      ]
     },
     "metadata": {},
     "output_type": "display_data"
    },
    {
     "data": {
      "application/vnd.jupyter.widget-view+json": {
       "model_id": "b7ae1d74a4af4faab138337f01cf9fb2",
       "version_major": 2,
       "version_minor": 0
      },
      "text/plain": [
       "Map:   0%|          | 0/7000 [00:00<?, ? examples/s]"
      ]
     },
     "metadata": {},
     "output_type": "display_data"
    }
   ],
   "source": [
    "train_data = train_data.map(numericalize_example, fn_kwargs={\"vocab\": vocab})\n",
    "valid_data = valid_data.map(numericalize_example, fn_kwargs={\"vocab\": vocab})\n",
    "test_data = test_data.map(numericalize_example, fn_kwargs={\"vocab\": vocab})"
   ]
  },
  {
   "cell_type": "code",
   "execution_count": null,
   "id": "29f4bd82",
   "metadata": {},
   "outputs": [],
   "source": [
    "train_data = train_data.with_format(type=\"torch\", columns=[\"ids\", \"label\"])\n",
    "valid_data = valid_data.with_format(type=\"torch\", columns=[\"ids\", \"label\"])\n",
    "test_data = test_data.with_format(type=\"torch\", columns=[\"ids\", \"label\"])\n",
    "\n",
    "\n",
    "##TODO retain the subclass data..."
   ]
  },
  {
   "cell_type": "code",
   "execution_count": 27,
   "id": "aa8b61f1",
   "metadata": {},
   "outputs": [
    {
     "data": {
      "application/vnd.jupyter.widget-view+json": {
       "model_id": "ec8b882818f8474684ab6016d0aa977a",
       "version_major": 2,
       "version_minor": 0
      },
      "text/plain": [
       "Map:   0%|          | 0/42000 [00:00<?, ? examples/s]"
      ]
     },
     "metadata": {},
     "output_type": "display_data"
    },
    {
     "data": {
      "application/vnd.jupyter.widget-view+json": {
       "model_id": "e853de0c63e14af28801704cf71c6283",
       "version_major": 2,
       "version_minor": 0
      },
      "text/plain": [
       "Map:   0%|          | 0/14000 [00:00<?, ? examples/s]"
      ]
     },
     "metadata": {},
     "output_type": "display_data"
    },
    {
     "data": {
      "application/vnd.jupyter.widget-view+json": {
       "model_id": "a810c612b0ea4b5282ccb617cec8418b",
       "version_major": 2,
       "version_minor": 0
      },
      "text/plain": [
       "Map:   0%|          | 0/7000 [00:00<?, ? examples/s]"
      ]
     },
     "metadata": {},
     "output_type": "display_data"
    }
   ],
   "source": [
    "def pad_to_max_length(batch):\n",
    "    # Extract `ids` as a list of tensors\n",
    "    ids = batch[\"ids\"]\n",
    "    \n",
    "    # Pad each tensor in `ids` to the same length\n",
    "    padded_ids = nn.utils.rnn.pad_sequence(ids, batch_first=True, padding_value=pad_index)\n",
    "    \n",
    "    # Truncate to max_seq_len if necessary\n",
    "    if padded_ids.shape[1] > max_length:\n",
    "        padded_ids = padded_ids[:, :max_length]\n",
    "    \n",
    "    # Add padded data back to batch\n",
    "    batch[\"padded_ids\"] = [padded_ids[i] for i in range(len(padded_ids))]\n",
    "    return batch\n",
    "\n",
    "# Apply padding function to each batch in the dataset\n",
    "# dataset = test_data.map(pad_to_max_length, batched=True, batch_size=len(test_data))\n",
    "\n",
    "train_data = train_data.map(pad_to_max_length, batched=True, batch_size=len(train_data))\n",
    "valid_data = valid_data.map(pad_to_max_length, batched=True, batch_size=len(valid_data))\n",
    "test_data = test_data.map(pad_to_max_length, batched=True, batch_size=len(test_data))\n"
   ]
  },
  {
   "cell_type": "code",
   "execution_count": 28,
   "id": "93f5e575",
   "metadata": {},
   "outputs": [
    {
     "name": "stdout",
     "output_type": "stream",
     "text": [
      "dict_keys(['label', 'ids', 'padded_ids'])\n",
      "<class 'torch.Tensor'>\n",
      "<class 'torch.Tensor'>\n",
      "<class 'torch.Tensor'>\n",
      "tensor([ 1968,    13,   101,   492,     7,     6,   437,  1359,   102,   122,\n",
      "           12, 13624,  6181,     8,    75,     4,   142,    74,     2,     1,\n",
      "            1,     1,     1,     1,     1,     1,     1,     1,     1,     1,\n",
      "            1,     1,     1,     1,     1,     1,     1,     1,     1,     1,\n",
      "            1,     1,     1,     1,     1,     1,     1,     1,     1,     1,\n",
      "            1,     1,     1,     1,     1,     1,     1,     1,     1,     1,\n",
      "            1,     1,     1,     1,     1,     1,     1,     1,     1,     1,\n",
      "            1,     1,     1,     1,     1,     1,     1,     1,     1,     1,\n",
      "            1,     1,     1,     1,     1,     1,     1,     1,     1,     1,\n",
      "            1,     1,     1,     1,     1,     1,     1,     1,     1,     1,\n",
      "            1,     1,     1,     1,     1,     1,     1,     1,     1,     1,\n",
      "            1,     1,     1,     1,     1,     1,     1,     1,     1,     1,\n",
      "            1,     1,     1,     1,     1,     1,     1,     1,     1,     1,\n",
      "            1,     1,     1,     1,     1,     1,     1,     1,     1,     1,\n",
      "            1,     1,     1,     1,     1,     1,     1,     1,     1,     1,\n",
      "            1,     1,     1,     1,     1,     1,     1,     1,     1,     1,\n",
      "            1,     1,     1,     1,     1,     1,     1,     1,     1,     1,\n",
      "            1,     1,     1,     1,     1,     1,     1,     1,     1,     1,\n",
      "            1,     1,     1,     1,     1,     1,     1,     1,     1,     1,\n",
      "            1,     1,     1,     1,     1,     1,     1,     1,     1,     1,\n",
      "            1,     1,     1,     1,     1,     1,     1,     1,     1,     1,\n",
      "            1,     1,     1,     1,     1,     1,     1,     1,     1,     1,\n",
      "            1,     1,     1,     1,     1,     1,     1,     1,     1,     1,\n",
      "            1,     1,     1,     1,     1,     1,     1,     1,     1,     1,\n",
      "            1,     1,     1,     1,     1,     1,     1,     1,     1,     1,\n",
      "            1,     1,     1,     1,     1,     1])\n",
      "tensor([ 1968,    13,   101,   492,     7,     6,   437,  1359,   102,   122,\n",
      "           12, 13624,  6181,     8,    75,     4,   142,    74,     2])\n"
     ]
    }
   ],
   "source": [
    "for jj in train_data:\n",
    "    print(jj.keys())\n",
    "    for kk in jj.keys():\n",
    "        print(type(jj[kk]))\n",
    "\n",
    "    print(jj[\"padded_ids\"])\n",
    "    print(jj[\"ids\"])\n",
    "    break"
   ]
  },
  {
   "cell_type": "code",
   "execution_count": 29,
   "id": "e2d6971c",
   "metadata": {},
   "outputs": [
    {
     "name": "stdout",
     "output_type": "stream",
     "text": [
      "<class 'datasets.arrow_dataset.Dataset'>\n",
      "42000\n",
      "torch.Size([256])\n",
      "dict_keys(['label', 'ids', 'padded_ids'])\n",
      "torch.Size([256])\n",
      "dict_keys(['label', 'ids', 'padded_ids'])\n",
      "torch.Size([256])\n",
      "dict_keys(['label', 'ids', 'padded_ids'])\n",
      "torch.Size([256])\n",
      "dict_keys(['label', 'ids', 'padded_ids'])\n",
      "torch.Size([256])\n",
      "dict_keys(['label', 'ids', 'padded_ids'])\n",
      "torch.Size([256])\n",
      "dict_keys(['label', 'ids', 'padded_ids'])\n",
      "torch.Size([256])\n",
      "dict_keys(['label', 'ids', 'padded_ids'])\n",
      "torch.Size([256])\n",
      "dict_keys(['label', 'ids', 'padded_ids'])\n",
      "torch.Size([256])\n",
      "dict_keys(['label', 'ids', 'padded_ids'])\n",
      "torch.Size([256])\n",
      "dict_keys(['label', 'ids', 'padded_ids'])\n"
     ]
    }
   ],
   "source": [
    "db_train = train_data\n",
    "print(type(db_train))\n",
    "print(db_train.__len__())\n",
    "\n",
    "for i in range(10):\n",
    "    print(db_train[i][\"padded_ids\"].size())\n",
    "    print(db_train[i].keys())"
   ]
  },
  {
   "cell_type": "code",
   "execution_count": 30,
   "id": "e7325258",
   "metadata": {},
   "outputs": [],
   "source": [
    "def get_collate_fn(pad_index):\n",
    "    def collate_fn(batch):\n",
    "        batch_ids = [i[\"padded_ids\"] for i in batch]\n",
    "        # batch_ids = nn.utils.rnn.pad_sequence(\n",
    "        #     batch_ids, padding_value=pad_index, batch_first=True\n",
    "        # )\n",
    "        batch_ids = torch.stack(batch_ids)\n",
    "        batch_label = [i[\"label\"] for i in batch]\n",
    "        batch_label = torch.stack(batch_label)\n",
    "        batch = {\"ids\": batch_ids, \"label\": batch_label}\n",
    "        return batch\n",
    "\n",
    "    return collate_fn"
   ]
  },
  {
   "cell_type": "code",
   "execution_count": 31,
   "id": "a3ba6bc6",
   "metadata": {},
   "outputs": [],
   "source": [
    "def get_data_loader(dataset, batch_size, pad_index, shuffle=False):\n",
    "    collate_fn = get_collate_fn(pad_index)\n",
    "    data_loader = torch.utils.data.DataLoader(\n",
    "        dataset=dataset,\n",
    "        batch_size=batch_size,\n",
    "        collate_fn=collate_fn,\n",
    "        shuffle=shuffle,\n",
    "    )\n",
    "    return data_loader"
   ]
  },
  {
   "cell_type": "code",
   "execution_count": 32,
   "id": "be456751",
   "metadata": {},
   "outputs": [],
   "source": [
    "batch_size = 320\n",
    "\n",
    "train_data_loader = get_data_loader(train_data, batch_size, pad_index, shuffle=True)\n",
    "valid_data_loader = get_data_loader(valid_data, batch_size, pad_index)\n",
    "test_data_loader = get_data_loader(test_data, batch_size, pad_index)"
   ]
  },
  {
   "cell_type": "code",
   "execution_count": 33,
   "id": "1e7ec7b7",
   "metadata": {},
   "outputs": [
    {
     "name": "stdout",
     "output_type": "stream",
     "text": [
      "number of training samples:  42000\n",
      "275\n"
     ]
    }
   ],
   "source": [
    "print(\"number of training samples: \", len(train_data))\n",
    "print(1875-(batch_size * 5))"
   ]
  },
  {
   "cell_type": "code",
   "execution_count": 34,
   "id": "1946775f",
   "metadata": {},
   "outputs": [
    {
     "name": "stdout",
     "output_type": "stream",
     "text": [
      "Number of train batches: 132\n",
      "Number of valid batches: 44\n",
      "Number of test batches: 22\n"
     ]
    }
   ],
   "source": [
    "print(f\"Number of train batches: {len(train_data_loader)}\")\n",
    "print(f\"Number of valid batches: {len(valid_data_loader)}\")\n",
    "print(f\"Number of test batches: {len(test_data_loader)}\")"
   ]
  },
  {
   "cell_type": "markdown",
   "id": "6116c2a8",
   "metadata": {},
   "source": [
    "## model defintion"
   ]
  },
  {
   "cell_type": "code",
   "execution_count": 35,
   "id": "ce3903f7",
   "metadata": {},
   "outputs": [],
   "source": [
    "def register_save_activations_hook(model, model_activation_layer, activations_list):\n",
    "    \"\"\"Registers a forward pass hook that saves activations.\n",
    "    \n",
    "    Args:\n",
    "        model(nn.Module): A PyTorch model.\n",
    "        model_activation_layer(str): The name of the module in the network that\n",
    "            produces the activations of interest.\n",
    "        activations_list(List[torch.Tensor]) The list in which we should store the\n",
    "            model activations.\n",
    "    \"\"\"\n",
    "    def save_activations(model, inp, out):\n",
    "        # print(f\"save_activations: {out.size()}\")\n",
    "        activs = out.view(out.size(0), -1).detach().cpu()       \n",
    "        activations_list.append(activs)\n",
    "\n",
    "    for name, m in model.named_modules():\n",
    "        if name == model_activation_layer or \\\n",
    "          (isinstance(model, torch.nn.DataParallel) and \\\n",
    "           name.replace('module.', '') == model_activation_layer):\n",
    "            return m.register_forward_hook(save_activations)\n",
    "    return None"
   ]
  },
  {
   "cell_type": "code",
   "execution_count": 96,
   "id": "65cd046f",
   "metadata": {},
   "outputs": [],
   "source": [
    "class CNN(nn.Module):\n",
    "\n",
    "\n",
    "\n",
    "    def __init__(\n",
    "        self,\n",
    "        vocab_size,\n",
    "        embedding_dim,\n",
    "        n_filters,\n",
    "        filter_sizes,\n",
    "        output_dim,\n",
    "        dropout_rate,\n",
    "        pad_index,\n",
    "    ):\n",
    "        super().__init__()\n",
    "        self.embedding = nn.Embedding(vocab_size, embedding_dim, padding_idx=pad_index)\n",
    "        self.convs = nn.ModuleList(\n",
    "            [\n",
    "                nn.Conv1d(embedding_dim, n_filters, filter_size)\n",
    "                for filter_size in filter_sizes\n",
    "            ]\n",
    "        )\n",
    "        self.fc = nn.Linear(len(filter_sizes) * n_filters, output_dim)\n",
    "        self.dropout = nn.Dropout(dropout_rate)\n",
    "\n",
    "        ## last layer name\n",
    "        self.activation_layer_name =f\"convs.{len(filter_sizes)-1}\"\n",
    "\n",
    "    def _init_activations_hook(self, model, activations_list, layer_name):\n",
    "        \"\"\"Initializes the forward hook to save model activations.\"\"\"\n",
    "        # if isinstance(model, torch.nn.DataParallel):\n",
    "        #     activation_layer = f\"model.module.{layer_name}\"\n",
    "        # else:\n",
    "        #     activation_layer = f\"model.{layer_name}\"\n",
    "        activation_layer = layer_name\n",
    "        activations_handle = register_save_activations_hook(model, activation_layer,\n",
    "                                                            activations_list)\n",
    "        if activation_layer is not None:\n",
    "            assert activations_handle is not None, \\\n",
    "                f'No hook registered for activation_layer={activation_layer}'\n",
    "        return activations_handle\n",
    "\n",
    "\n",
    "    def forward(self, ids):\n",
    "        # ids = [batch size, seq len]\n",
    "        embedded = self.dropout(self.embedding(ids))\n",
    "        # embedded = [batch size, seq len, embedding dim]\n",
    "        embedded = embedded.permute(0, 2, 1)\n",
    "        # embedded = [batch size, embedding dim, seq len]\n",
    "        conved = [torch.relu(conv(embedded)) for conv in self.convs]\n",
    "        # conved_n = [batch size, n filters, seq len - filter_sizes[n] + 1]\n",
    "\n",
    "        print(conved[0].shape)\n",
    "        pooled = [conv.max(dim=-1).values for conv in conved]\n",
    "\n",
    "        print(pooled[0].shape)\n",
    "        # pooled_n = [batch size, n filters]\n",
    "        cat = self.dropout(torch.cat(pooled, dim=-1))\n",
    "        # cat = [batch size, n filters * len(filter_sizes)]\n",
    "        prediction = self.fc(cat)\n",
    "        # prediction = [batch size, output dim]\n",
    "        return prediction"
   ]
  },
  {
   "cell_type": "code",
   "execution_count": 97,
   "id": "ad3da9c4",
   "metadata": {},
   "outputs": [],
   "source": [
    "vocab_size = len(vocab)\n",
    "embedding_dim = 300\n",
    "n_filters = 100\n",
    "filter_sizes = [3, 5, 7]\n",
    "output_dim = len(train_data.unique(\"label\"))\n",
    "dropout_rate = 0.25\n",
    "\n",
    "model = CNN(\n",
    "    vocab_size,\n",
    "    embedding_dim,\n",
    "    n_filters,\n",
    "    filter_sizes,\n",
    "    output_dim,\n",
    "    dropout_rate,\n",
    "    pad_index,\n",
    ")"
   ]
  },
  {
   "cell_type": "markdown",
   "id": "54e20faa",
   "metadata": {},
   "source": [
    "## training settigs and hyper parameters"
   ]
  },
  {
   "cell_type": "code",
   "execution_count": 98,
   "id": "e5b9314c",
   "metadata": {},
   "outputs": [
    {
     "name": "stdout",
     "output_type": "stream",
     "text": [
      "The model has 6,845,714 trainable parameters\n"
     ]
    }
   ],
   "source": [
    "def count_parameters(model):\n",
    "    return sum(p.numel() for p in model.parameters() if p.requires_grad)\n",
    "\n",
    "\n",
    "print(f\"The model has {count_parameters(model):,} trainable parameters\")"
   ]
  },
  {
   "cell_type": "code",
   "execution_count": 99,
   "id": "48dd9079",
   "metadata": {},
   "outputs": [],
   "source": [
    "def initialize_weights(m):\n",
    "    if isinstance(m, nn.Linear):\n",
    "        nn.init.xavier_normal_(m.weight)\n",
    "        nn.init.zeros_(m.bias)\n",
    "    elif isinstance(m, nn.Conv1d):\n",
    "        nn.init.kaiming_normal_(m.weight, nonlinearity=\"relu\")\n",
    "        nn.init.zeros_(m.bias)"
   ]
  },
  {
   "cell_type": "code",
   "execution_count": 100,
   "id": "e455a168",
   "metadata": {},
   "outputs": [
    {
     "data": {
      "text/plain": [
       "CNN(\n",
       "  (embedding): Embedding(21304, 300, padding_idx=1)\n",
       "  (convs): ModuleList(\n",
       "    (0): Conv1d(300, 100, kernel_size=(3,), stride=(1,))\n",
       "    (1): Conv1d(300, 100, kernel_size=(5,), stride=(1,))\n",
       "    (2): Conv1d(300, 100, kernel_size=(7,), stride=(1,))\n",
       "  )\n",
       "  (fc): Linear(in_features=300, out_features=14, bias=True)\n",
       "  (dropout): Dropout(p=0.25, inplace=False)\n",
       ")"
      ]
     },
     "execution_count": 100,
     "metadata": {},
     "output_type": "execute_result"
    }
   ],
   "source": [
    "model.apply(initialize_weights)"
   ]
  },
  {
   "cell_type": "code",
   "execution_count": 101,
   "id": "cca8ce6b",
   "metadata": {},
   "outputs": [],
   "source": [
    "vectors = torchtext.vocab.GloVe()"
   ]
  },
  {
   "cell_type": "code",
   "execution_count": 102,
   "id": "e8f96c10",
   "metadata": {},
   "outputs": [],
   "source": [
    "pretrained_embedding = vectors.get_vecs_by_tokens(vocab.get_itos())"
   ]
  },
  {
   "cell_type": "code",
   "execution_count": 103,
   "id": "32414760",
   "metadata": {},
   "outputs": [
    {
     "name": "stdout",
     "output_type": "stream",
     "text": [
      "torch.Size([21304, 300])\n"
     ]
    }
   ],
   "source": [
    "print(pretrained_embedding.shape)"
   ]
  },
  {
   "cell_type": "code",
   "execution_count": 104,
   "id": "bb09a2aa",
   "metadata": {},
   "outputs": [],
   "source": [
    "model.embedding.weight.data = pretrained_embedding"
   ]
  },
  {
   "cell_type": "code",
   "execution_count": 105,
   "id": "7a5e39e9",
   "metadata": {},
   "outputs": [],
   "source": [
    "optimizer = optim.Adam(model.parameters())"
   ]
  },
  {
   "cell_type": "code",
   "execution_count": 106,
   "id": "e123ae07",
   "metadata": {},
   "outputs": [],
   "source": [
    "criterion = nn.CrossEntropyLoss()"
   ]
  },
  {
   "cell_type": "code",
   "execution_count": 107,
   "id": "825a973d",
   "metadata": {},
   "outputs": [
    {
     "data": {
      "text/plain": [
       "device(type='cuda')"
      ]
     },
     "execution_count": 107,
     "metadata": {},
     "output_type": "execute_result"
    }
   ],
   "source": [
    "device = torch.device(\"cuda\" if torch.cuda.is_available() else \"cpu\")\n",
    "\n",
    "device"
   ]
  },
  {
   "cell_type": "code",
   "execution_count": 108,
   "id": "f9512ae1",
   "metadata": {},
   "outputs": [],
   "source": [
    "model = model.to(device)\n",
    "criterion = criterion.to(device)"
   ]
  },
  {
   "cell_type": "code",
   "execution_count": 109,
   "id": "3cf2f1e1",
   "metadata": {},
   "outputs": [],
   "source": [
    "def get_accuracy(prediction, label):\n",
    "    batch_size, _ = prediction.shape\n",
    "    predicted_classes = prediction.argmax(dim=-1)\n",
    "    correct_predictions = predicted_classes.eq(label).sum()\n",
    "    accuracy = correct_predictions / batch_size\n",
    "    return accuracy"
   ]
  },
  {
   "cell_type": "markdown",
   "id": "39719ab6",
   "metadata": {},
   "source": [
    "## training"
   ]
  },
  {
   "cell_type": "code",
   "execution_count": 110,
   "id": "c3651ca7",
   "metadata": {},
   "outputs": [],
   "source": [
    "def train(data_loader, model, criterion, optimizer, device):\n",
    "    model.train()\n",
    "    epoch_losses = []\n",
    "    epoch_accs = []\n",
    "    epoch_activations = {}\n",
    "    epoch_labels = []\n",
    "\n",
    "\n",
    "    activation_handles = []\n",
    "\n",
    "    for conv in [\"convs.0\", \"convs.1\", \"convs.2\"]:\n",
    "    \n",
    "        conv_activations = []\n",
    "        activations_handle = model._init_activations_hook(model, conv_activations, conv)\n",
    "        activation_handles.append(activations_handle)\n",
    "        epoch_activations[conv] = conv_activations\n",
    "    debug_counter = 0\n",
    "\n",
    "    for batch in tqdm.tqdm(data_loader, desc=\"training...\"):\n",
    "        ids = batch[\"ids\"].to(device)\n",
    "        label = batch[\"label\"].to(device)\n",
    "        prediction = model(ids)\n",
    "        loss = criterion(prediction, label)\n",
    "        accuracy = get_accuracy(prediction, label)\n",
    "        optimizer.zero_grad()\n",
    "        loss.backward()\n",
    "        optimizer.step()\n",
    "        epoch_losses.append(loss.item())\n",
    "        epoch_accs.append(accuracy.item())\n",
    "        epoch_labels.append(label.detach().cpu())\n",
    "        \n",
    "        # print(label.shape)\n",
    "        # print(epoch_activations[-1].shape)\n",
    "\n",
    "        # print(\"debug_counter: \", debug_counter)\n",
    "        debug_counter += 1\n",
    "\n",
    "    for handle in activation_handles:\n",
    "        handle.remove()\n",
    "\n",
    "\n",
    "    return np.mean(epoch_losses), np.mean(epoch_accs), epoch_activations, epoch_labels"
   ]
  },
  {
   "cell_type": "code",
   "execution_count": 111,
   "id": "f2a96019",
   "metadata": {},
   "outputs": [],
   "source": [
    "def evaluate(data_loader, model, criterion, device):\n",
    "    model.eval()\n",
    "    epoch_losses = []\n",
    "    epoch_accs = []\n",
    "    epoch_activations = {}\n",
    "    epoch_labels = []\n",
    "\n",
    "    activation_handles = []\n",
    "\n",
    "    for conv in [\"convs.0\", \"convs.1\", \"convs.2\"]:\n",
    "    \n",
    "        conv_activations = []\n",
    "        activations_handle = model._init_activations_hook(model, conv_activations, conv)\n",
    "        activation_handles.append(activations_handle)\n",
    "        epoch_activations[conv] = conv_activations\n",
    "        \n",
    "    with torch.no_grad():\n",
    "        for batch in tqdm.tqdm(data_loader, desc=\"evaluating...\"):\n",
    "            ids = batch[\"ids\"].to(device)\n",
    "            label = batch[\"label\"].to(device)\n",
    "            prediction = model(ids)\n",
    "            loss = criterion(prediction, label)\n",
    "            accuracy = get_accuracy(prediction, label)\n",
    "            epoch_losses.append(loss.item())\n",
    "            epoch_accs.append(accuracy.item())\n",
    "            epoch_labels.append(label.detach().cpu())\n",
    "\n",
    "    for handle in activation_handles:\n",
    "        handle.remove()\n",
    "    return np.mean(epoch_losses), np.mean(epoch_accs), epoch_activations, epoch_labels"
   ]
  },
  {
   "cell_type": "code",
   "execution_count": 112,
   "id": "50126537",
   "metadata": {},
   "outputs": [],
   "source": [
    "from copy import deepcopy\n",
    "\n",
    "state_dict = deepcopy(model.state_dict()) "
   ]
  },
  {
   "cell_type": "code",
   "execution_count": 70,
   "id": "078e4965",
   "metadata": {},
   "outputs": [
    {
     "data": {
      "text/plain": [
       "<All keys matched successfully>"
      ]
     },
     "execution_count": 70,
     "metadata": {},
     "output_type": "execute_result"
    }
   ],
   "source": [
    "model.load_state_dict(state_dict)"
   ]
  },
  {
   "cell_type": "code",
   "execution_count": 67,
   "id": "aeb4a553",
   "metadata": {},
   "outputs": [],
   "source": [
    "imdb_loader_train = train_data_loader\n",
    "imdb_loader_valid = valid_data_loader"
   ]
  },
  {
   "cell_type": "code",
   "execution_count": 80,
   "id": "6c7e2071",
   "metadata": {},
   "outputs": [],
   "source": [
    "pedia_loader_train = train_data_loader\n",
    "pedia_loader_valid = valid_data_loader"
   ]
  },
  {
   "cell_type": "code",
   "execution_count": 68,
   "id": "8df5e1c1",
   "metadata": {},
   "outputs": [
    {
     "name": "stdout",
     "output_type": "stream",
     "text": [
      "torch.Size([320, 256])\n",
      "torch.Size([320])\n",
      "torch.Size([320, 256])\n",
      "torch.Size([320])\n",
      "torch.Size([320, 256])\n",
      "torch.Size([320])\n",
      "torch.Size([320, 256])\n",
      "torch.Size([320])\n",
      "torch.Size([320, 256])\n",
      "torch.Size([320])\n",
      "torch.Size([320, 256])\n",
      "torch.Size([320])\n",
      "torch.Size([320, 256])\n",
      "torch.Size([320])\n",
      "torch.Size([320, 256])\n",
      "torch.Size([320])\n",
      "torch.Size([320, 256])\n",
      "torch.Size([320])\n",
      "torch.Size([320, 256])\n",
      "torch.Size([320])\n",
      "torch.Size([320, 256])\n",
      "torch.Size([320])\n"
     ]
    },
    {
     "name": "stdout",
     "output_type": "stream",
     "text": [
      "torch.Size([320, 256])\n",
      "torch.Size([320])\n",
      "torch.Size([320, 256])\n",
      "torch.Size([320])\n",
      "torch.Size([320, 256])\n",
      "torch.Size([320])\n",
      "torch.Size([320, 256])\n",
      "torch.Size([320])\n",
      "torch.Size([320, 256])\n",
      "torch.Size([320])\n",
      "torch.Size([320, 256])\n",
      "torch.Size([320])\n",
      "torch.Size([320, 256])\n",
      "torch.Size([320])\n",
      "torch.Size([320, 256])\n",
      "torch.Size([320])\n",
      "torch.Size([320, 256])\n",
      "torch.Size([320])\n",
      "torch.Size([320, 256])\n",
      "torch.Size([320])\n",
      "torch.Size([320, 256])\n",
      "torch.Size([320])\n",
      "torch.Size([320, 256])\n",
      "torch.Size([320])\n",
      "torch.Size([320, 256])\n",
      "torch.Size([320])\n",
      "torch.Size([320, 256])\n",
      "torch.Size([320])\n",
      "torch.Size([320, 256])\n",
      "torch.Size([320])\n",
      "torch.Size([320, 256])\n",
      "torch.Size([320])\n",
      "torch.Size([320, 256])\n",
      "torch.Size([320])\n",
      "torch.Size([320, 256])\n",
      "torch.Size([320])\n",
      "torch.Size([320, 256])\n",
      "torch.Size([320])\n",
      "torch.Size([320, 256])\n",
      "torch.Size([320])\n",
      "torch.Size([320, 256])\n",
      "torch.Size([320])\n",
      "torch.Size([320, 256])\n",
      "torch.Size([320])\n",
      "torch.Size([320, 256])\n",
      "torch.Size([320])\n",
      "torch.Size([320, 256])\n",
      "torch.Size([320])\n",
      "torch.Size([320, 256])\n",
      "torch.Size([320])\n",
      "torch.Size([320, 256])\n",
      "torch.Size([320])\n",
      "torch.Size([320, 256])\n",
      "torch.Size([320])\n",
      "torch.Size([320, 256])\n",
      "torch.Size([320])\n",
      "torch.Size([320, 256])\n",
      "torch.Size([320])\n",
      "torch.Size([320, 256])\n",
      "torch.Size([320])\n",
      "torch.Size([320, 256])\n",
      "torch.Size([320])\n",
      "torch.Size([320, 256])\n",
      "torch.Size([320])\n",
      "torch.Size([320, 256])\n",
      "torch.Size([320])\n",
      "torch.Size([320, 256])\n",
      "torch.Size([320])\n",
      "torch.Size([320, 256])\n",
      "torch.Size([320])\n",
      "torch.Size([320, 256])\n",
      "torch.Size([320])\n",
      "torch.Size([320, 256])\n",
      "torch.Size([320])\n",
      "torch.Size([320, 256])\n",
      "torch.Size([320])\n",
      "torch.Size([320, 256])\n",
      "torch.Size([320])\n",
      "torch.Size([320, 256])\n",
      "torch.Size([320])\n",
      "torch.Size([320, 256])\n",
      "torch.Size([320])\n",
      "torch.Size([320, 256])\n",
      "torch.Size([320])\n",
      "torch.Size([320, 256])\n",
      "torch.Size([320])\n",
      "torch.Size([320, 256])\n",
      "torch.Size([320])\n",
      "torch.Size([320, 256])\n",
      "torch.Size([320])\n",
      "torch.Size([320, 256])\n",
      "torch.Size([320])\n",
      "torch.Size([320, 256])\n",
      "torch.Size([320])\n",
      "torch.Size([320, 256])\n",
      "torch.Size([320])\n",
      "torch.Size([320, 256])\n",
      "torch.Size([320])\n",
      "torch.Size([320, 256])\n",
      "torch.Size([320])\n",
      "torch.Size([320, 256])\n",
      "torch.Size([320])\n",
      "torch.Size([320, 256])\n",
      "torch.Size([320])\n",
      "torch.Size([320, 256])\n",
      "torch.Size([320])\n",
      "torch.Size([320, 256])\n",
      "torch.Size([320])\n",
      "torch.Size([320, 256])\n",
      "torch.Size([320])\n",
      "torch.Size([320, 256])\n",
      "torch.Size([320])\n",
      "torch.Size([320, 256])\n",
      "torch.Size([320])\n",
      "torch.Size([320, 256])\n",
      "torch.Size([320])\n",
      "torch.Size([320, 256])\n",
      "torch.Size([320])\n",
      "torch.Size([320, 256])\n",
      "torch.Size([320])\n",
      "torch.Size([320, 256])\n",
      "torch.Size([320])\n",
      "torch.Size([320, 256])\n",
      "torch.Size([320])\n",
      "torch.Size([320, 256])\n",
      "torch.Size([320])\n",
      "torch.Size([320, 256])\n",
      "torch.Size([320])\n",
      "torch.Size([320, 256])\n",
      "torch.Size([320])\n",
      "torch.Size([320, 256])\n",
      "torch.Size([320])\n",
      "torch.Size([320, 256])\n",
      "torch.Size([320])\n",
      "torch.Size([320, 256])\n",
      "torch.Size([320])\n",
      "torch.Size([320, 256])\n",
      "torch.Size([320])\n",
      "torch.Size([320, 256])\n",
      "torch.Size([320])\n",
      "torch.Size([320, 256])\n",
      "torch.Size([320])\n",
      "torch.Size([320, 256])\n",
      "torch.Size([320])\n",
      "torch.Size([320, 256])\n",
      "torch.Size([320])\n",
      "torch.Size([320, 256])\n",
      "torch.Size([320])\n",
      "torch.Size([320, 256])\n",
      "torch.Size([320])\n",
      "torch.Size([320, 256])\n",
      "torch.Size([320])\n",
      "torch.Size([320, 256])\n",
      "torch.Size([320])\n",
      "torch.Size([320, 256])\n",
      "torch.Size([320])\n",
      "torch.Size([320, 256])\n",
      "torch.Size([320])\n",
      "torch.Size([320, 256])\n",
      "torch.Size([320])\n",
      "torch.Size([320, 256])\n",
      "torch.Size([320])\n",
      "torch.Size([320, 256])\n",
      "torch.Size([320])\n",
      "torch.Size([320, 256])\n",
      "torch.Size([320])\n",
      "torch.Size([320, 256])\n",
      "torch.Size([320])\n",
      "torch.Size([320, 256])\n",
      "torch.Size([320])\n",
      "torch.Size([320, 256])\n",
      "torch.Size([320])\n",
      "torch.Size([320, 256])\n",
      "torch.Size([320])\n",
      "torch.Size([320, 256])\n",
      "torch.Size([320])\n",
      "torch.Size([320, 256])\n",
      "torch.Size([320])\n",
      "torch.Size([320, 256])\n",
      "torch.Size([320])\n",
      "torch.Size([320, 256])\n",
      "torch.Size([320])\n",
      "torch.Size([320, 256])\n",
      "torch.Size([320])\n",
      "torch.Size([320, 256])\n",
      "torch.Size([320])\n",
      "torch.Size([320, 256])\n",
      "torch.Size([320])\n",
      "torch.Size([320, 256])\n",
      "torch.Size([320])\n",
      "torch.Size([320, 256])\n",
      "torch.Size([320])\n",
      "torch.Size([320, 256])\n",
      "torch.Size([320])\n",
      "torch.Size([320, 256])\n",
      "torch.Size([320])\n",
      "torch.Size([320, 256])\n",
      "torch.Size([320])\n",
      "torch.Size([320, 256])\n",
      "torch.Size([320])\n",
      "torch.Size([320, 256])\n",
      "torch.Size([320])\n",
      "torch.Size([320, 256])\n",
      "torch.Size([320])\n",
      "torch.Size([320, 256])\n",
      "torch.Size([320])\n",
      "torch.Size([320, 256])\n",
      "torch.Size([320])\n",
      "torch.Size([320, 256])\n",
      "torch.Size([320])\n",
      "torch.Size([320, 256])\n",
      "torch.Size([320])\n",
      "torch.Size([320, 256])\n",
      "torch.Size([320])\n",
      "torch.Size([320, 256])\n",
      "torch.Size([320])\n",
      "torch.Size([320, 256])\n",
      "torch.Size([320])\n",
      "torch.Size([320, 256])\n",
      "torch.Size([320])\n",
      "torch.Size([320, 256])\n",
      "torch.Size([320])\n",
      "torch.Size([320, 256])\n",
      "torch.Size([320])\n",
      "torch.Size([320, 256])\n",
      "torch.Size([320])\n",
      "torch.Size([320, 256])\n",
      "torch.Size([320])\n",
      "torch.Size([320, 256])\n",
      "torch.Size([320])\n",
      "torch.Size([320, 256])\n",
      "torch.Size([320])\n",
      "torch.Size([320, 256])\n",
      "torch.Size([320])\n",
      "torch.Size([320, 256])\n",
      "torch.Size([320])\n",
      "torch.Size([320, 256])\n",
      "torch.Size([320])\n",
      "torch.Size([320, 256])\n",
      "torch.Size([320])\n",
      "torch.Size([80, 256])\n",
      "torch.Size([80])\n"
     ]
    }
   ],
   "source": [
    "\n",
    "for batch in imdb_loader_train:\n",
    "    print(batch[\"ids\"].size())\n",
    "    print(batch[\"label\"].size())\n",
    "    \n"
   ]
  },
  {
   "cell_type": "code",
   "execution_count": 113,
   "id": "af6e8a15",
   "metadata": {},
   "outputs": [
    {
     "name": "stderr",
     "output_type": "stream",
     "text": [
      "training...:   2%|▏         | 3/132 [00:00<00:05, 22.38it/s]"
     ]
    },
    {
     "name": "stdout",
     "output_type": "stream",
     "text": [
      "torch.Size([320, 100, 254])\n",
      "torch.Size([320, 100])\n",
      "torch.Size([320, 100, 254])\n",
      "torch.Size([320, 100])\n",
      "torch.Size([320, 100, 254])\n",
      "torch.Size([320, 100])\n",
      "torch.Size([320, 100, 254])\n",
      "torch.Size([320, 100])\n",
      "torch.Size([320, 100, 254])\n",
      "torch.Size([320, 100])\n"
     ]
    },
    {
     "name": "stderr",
     "output_type": "stream",
     "text": [
      "training...:   7%|▋         | 9/132 [00:00<00:06, 19.10it/s]"
     ]
    },
    {
     "name": "stdout",
     "output_type": "stream",
     "text": [
      "torch.Size([320, 100, 254])\n",
      "torch.Size([320, 100])\n",
      "torch.Size([320, 100, 254])\n",
      "torch.Size([320, 100])\n",
      "torch.Size([320, 100, 254])\n",
      "torch.Size([320, 100])\n",
      "torch.Size([320, 100, 254])\n",
      "torch.Size([320, 100])\n"
     ]
    },
    {
     "name": "stderr",
     "output_type": "stream",
     "text": [
      "training...:   8%|▊         | 11/132 [00:00<00:06, 17.93it/s]"
     ]
    },
    {
     "name": "stdout",
     "output_type": "stream",
     "text": [
      "torch.Size([320, 100, 254])\n",
      "torch.Size([320, 100])\n",
      "torch.Size([320, 100, 254])\n",
      "torch.Size([320, 100])\n",
      "torch.Size([320, 100, 254])\n",
      "torch.Size([320, 100])\n",
      "torch.Size([320, 100, 254])\n",
      "torch.Size([320, 100])\n",
      "torch.Size([320, 100, 254])\n",
      "torch.Size([320, 100])\n"
     ]
    },
    {
     "name": "stderr",
     "output_type": "stream",
     "text": [
      "training...:  13%|█▎        | 17/132 [00:00<00:05, 19.69it/s]"
     ]
    },
    {
     "name": "stdout",
     "output_type": "stream",
     "text": [
      "torch.Size([320, 100, 254])\n",
      "torch.Size([320, 100])\n",
      "torch.Size([320, 100, 254])\n",
      "torch.Size([320, 100])\n",
      "torch.Size([320, 100, 254])\n",
      "torch.Size([320, 100])\n",
      "torch.Size([320, 100, 254])\n",
      "torch.Size([320, 100])\n",
      "torch.Size([320, 100, 254])\n",
      "torch.Size([320, 100])\n"
     ]
    },
    {
     "name": "stderr",
     "output_type": "stream",
     "text": [
      "training...:  17%|█▋        | 22/132 [00:01<00:05, 20.05it/s]"
     ]
    },
    {
     "name": "stdout",
     "output_type": "stream",
     "text": [
      "torch.Size([320, 100, 254])\n",
      "torch.Size([320, 100])\n",
      "torch.Size([320, 100, 254])\n",
      "torch.Size([320, 100])\n",
      "torch.Size([320, 100, 254])\n",
      "torch.Size([320, 100])\n",
      "torch.Size([320, 100, 254])\n",
      "torch.Size([320, 100])\n",
      "torch.Size([320, 100, 254])\n",
      "torch.Size([320, 100])\n"
     ]
    },
    {
     "name": "stderr",
     "output_type": "stream",
     "text": [
      "training...:  21%|██        | 28/132 [00:01<00:05, 19.92it/s]"
     ]
    },
    {
     "name": "stdout",
     "output_type": "stream",
     "text": [
      "torch.Size([320, 100, 254])\n",
      "torch.Size([320, 100])\n",
      "torch.Size([320, 100, 254])\n",
      "torch.Size([320, 100])\n",
      "torch.Size([320, 100, 254])\n",
      "torch.Size([320, 100])\n",
      "torch.Size([320, 100, 254])\n",
      "torch.Size([320, 100])\n",
      "torch.Size([320, 100, 254])\n",
      "torch.Size([320, 100])\n"
     ]
    },
    {
     "name": "stderr",
     "output_type": "stream",
     "text": [
      "training...:  23%|██▎       | 31/132 [00:01<00:05, 19.97it/s]"
     ]
    },
    {
     "name": "stdout",
     "output_type": "stream",
     "text": [
      "torch.Size([320, 100, 254])\n",
      "torch.Size([320, 100])\n",
      "torch.Size([320, 100, 254])\n",
      "torch.Size([320, 100])\n",
      "torch.Size([320, 100, 254])\n",
      "torch.Size([320, 100])\n",
      "torch.Size([320, 100, 254])\n",
      "torch.Size([320, 100])\n",
      "torch.Size([320, 100, 254])\n",
      "torch.Size([320, 100])\n"
     ]
    },
    {
     "name": "stderr",
     "output_type": "stream",
     "text": [
      "training...:  28%|██▊       | 37/132 [00:01<00:04, 20.64it/s]"
     ]
    },
    {
     "name": "stdout",
     "output_type": "stream",
     "text": [
      "torch.Size([320, 100, 254])\n",
      "torch.Size([320, 100])\n",
      "torch.Size([320, 100, 254])\n",
      "torch.Size([320, 100])\n",
      "torch.Size([320, 100, 254])\n",
      "torch.Size([320, 100])\n",
      "torch.Size([320, 100, 254])\n",
      "torch.Size([320, 100])\n",
      "torch.Size([320, 100, 254])\n",
      "torch.Size([320, 100])\n"
     ]
    },
    {
     "name": "stderr",
     "output_type": "stream",
     "text": [
      "training...:  33%|███▎      | 43/132 [00:02<00:04, 21.97it/s]"
     ]
    },
    {
     "name": "stdout",
     "output_type": "stream",
     "text": [
      "torch.Size([320, 100, 254])\n",
      "torch.Size([320, 100])\n",
      "torch.Size([320, 100, 254])\n",
      "torch.Size([320, 100])\n",
      "torch.Size([320, 100, 254])\n",
      "torch.Size([320, 100])\n",
      "torch.Size([320, 100, 254])\n",
      "torch.Size([320, 100])\n",
      "torch.Size([320, 100, 254])\n",
      "torch.Size([320, 100])\n"
     ]
    },
    {
     "name": "stderr",
     "output_type": "stream",
     "text": [
      "training...:  35%|███▍      | 46/132 [00:02<00:04, 20.57it/s]"
     ]
    },
    {
     "name": "stdout",
     "output_type": "stream",
     "text": [
      "torch.Size([320, 100, 254])\n",
      "torch.Size([320, 100])\n",
      "torch.Size([320, 100, 254])\n",
      "torch.Size([320, 100])\n",
      "torch.Size([320, 100, 254])\n",
      "torch.Size([320, 100])\n",
      "torch.Size([320, 100, 254])\n",
      "torch.Size([320, 100])\n"
     ]
    },
    {
     "name": "stderr",
     "output_type": "stream",
     "text": [
      "training...:  39%|███▊      | 51/132 [00:02<00:04, 18.63it/s]"
     ]
    },
    {
     "name": "stdout",
     "output_type": "stream",
     "text": [
      "torch.Size([320, 100, 254])\n",
      "torch.Size([320, 100])\n",
      "torch.Size([320, 100, 254])\n",
      "torch.Size([320, 100])\n",
      "torch.Size([320, 100, 254])\n",
      "torch.Size([320, 100])\n",
      "torch.Size([320, 100, 254])\n",
      "torch.Size([320, 100])\n"
     ]
    },
    {
     "name": "stderr",
     "output_type": "stream",
     "text": [
      "training...:  42%|████▏     | 55/132 [00:02<00:04, 17.66it/s]"
     ]
    },
    {
     "name": "stdout",
     "output_type": "stream",
     "text": [
      "torch.Size([320, 100, 254])\n",
      "torch.Size([320, 100])\n",
      "torch.Size([320, 100, 254])\n",
      "torch.Size([320, 100])\n",
      "torch.Size([320, 100, 254])\n",
      "torch.Size([320, 100])\n",
      "torch.Size([320, 100, 254])\n",
      "torch.Size([320, 100])\n"
     ]
    },
    {
     "name": "stderr",
     "output_type": "stream",
     "text": [
      "training...:  45%|████▍     | 59/132 [00:03<00:04, 16.07it/s]"
     ]
    },
    {
     "name": "stdout",
     "output_type": "stream",
     "text": [
      "torch.Size([320, 100, 254])\n",
      "torch.Size([320, 100])\n",
      "torch.Size([320, 100, 254])\n",
      "torch.Size([320, 100])\n",
      "torch.Size([320, 100, 254])\n",
      "torch.Size([320, 100])\n"
     ]
    },
    {
     "name": "stderr",
     "output_type": "stream",
     "text": [
      "training...:  46%|████▌     | 61/132 [00:03<00:04, 15.51it/s]"
     ]
    },
    {
     "name": "stdout",
     "output_type": "stream",
     "text": [
      "torch.Size([320, 100, 254])\n",
      "torch.Size([320, 100])\n",
      "torch.Size([320, 100, 254])\n",
      "torch.Size([320, 100])\n",
      "torch.Size([320, 100, 254])\n",
      "torch.Size([320, 100])\n",
      "torch.Size([320, 100, 254])\n",
      "torch.Size([320, 100])\n"
     ]
    },
    {
     "name": "stderr",
     "output_type": "stream",
     "text": [
      "training...:  51%|█████     | 67/132 [00:03<00:03, 16.85it/s]"
     ]
    },
    {
     "name": "stdout",
     "output_type": "stream",
     "text": [
      "torch.Size([320, 100, 254])\n",
      "torch.Size([320, 100])\n",
      "torch.Size([320, 100, 254])\n",
      "torch.Size([320, 100])\n",
      "torch.Size([320, 100, 254])\n",
      "torch.Size([320, 100])\n",
      "torch.Size([320, 100, 254])\n",
      "torch.Size([320, 100])\n"
     ]
    },
    {
     "name": "stderr",
     "output_type": "stream",
     "text": [
      "training...:  52%|█████▏    | 69/132 [00:03<00:03, 16.71it/s]"
     ]
    },
    {
     "name": "stdout",
     "output_type": "stream",
     "text": [
      "torch.Size([320, 100, 254])\n",
      "torch.Size([320, 100])\n",
      "torch.Size([320, 100, 254])\n",
      "torch.Size([320, 100])\n",
      "torch.Size([320, 100, 254])\n",
      "torch.Size([320, 100])\n",
      "torch.Size([320, 100, 254])\n",
      "torch.Size([320, 100])\n"
     ]
    },
    {
     "name": "stderr",
     "output_type": "stream",
     "text": [
      "training...:  57%|█████▋    | 75/132 [00:04<00:03, 17.50it/s]"
     ]
    },
    {
     "name": "stdout",
     "output_type": "stream",
     "text": [
      "torch.Size([320, 100, 254])\n",
      "torch.Size([320, 100])\n",
      "torch.Size([320, 100, 254])\n",
      "torch.Size([320, 100])\n",
      "torch.Size([320, 100, 254])\n",
      "torch.Size([320, 100])\n",
      "torch.Size([320, 100, 254])\n",
      "torch.Size([320, 100])\n"
     ]
    },
    {
     "name": "stderr",
     "output_type": "stream",
     "text": [
      "training...:  59%|█████▉    | 78/132 [00:04<00:02, 19.58it/s]"
     ]
    },
    {
     "name": "stdout",
     "output_type": "stream",
     "text": [
      "torch.Size([320, 100, 254])\n",
      "torch.Size([320, 100])\n",
      "torch.Size([320, 100, 254])\n",
      "torch.Size([320, 100])\n",
      "torch.Size([320, 100, 254])\n",
      "torch.Size([320, 100])\n",
      "torch.Size([320, 100, 254])\n",
      "torch.Size([320, 100])\n",
      "torch.Size([320, 100, 254])\n",
      "torch.Size([320, 100])\n"
     ]
    },
    {
     "name": "stderr",
     "output_type": "stream",
     "text": [
      "training...:  64%|██████▎   | 84/132 [00:04<00:02, 20.17it/s]"
     ]
    },
    {
     "name": "stdout",
     "output_type": "stream",
     "text": [
      "torch.Size([320, 100, 254])\n",
      "torch.Size([320, 100])\n",
      "torch.Size([320, 100, 254])\n",
      "torch.Size([320, 100])\n",
      "torch.Size([320, 100, 254])\n",
      "torch.Size([320, 100])\n",
      "torch.Size([320, 100, 254])\n",
      "torch.Size([320, 100])\n",
      "torch.Size([320, 100, 254])\n",
      "torch.Size([320, 100])\n",
      "torch.Size([320, 100, 254])\n",
      "torch.Size([320, 100])\n"
     ]
    },
    {
     "name": "stderr",
     "output_type": "stream",
     "text": [
      "training...:  67%|██████▋   | 89/132 [00:04<00:02, 15.66it/s]"
     ]
    },
    {
     "name": "stdout",
     "output_type": "stream",
     "text": [
      "torch.Size([320, 100, 254])\n",
      "torch.Size([320, 100])\n",
      "torch.Size([320, 100, 254])\n",
      "torch.Size([320, 100])\n",
      "torch.Size([320, 100, 254])\n",
      "torch.Size([320, 100])\n",
      "torch.Size([320, 100, 254])\n",
      "torch.Size([320, 100])\n"
     ]
    },
    {
     "name": "stderr",
     "output_type": "stream",
     "text": [
      "training...:  70%|███████   | 93/132 [00:05<00:02, 16.54it/s]"
     ]
    },
    {
     "name": "stdout",
     "output_type": "stream",
     "text": [
      "torch.Size([320, 100, 254])\n",
      "torch.Size([320, 100])\n",
      "torch.Size([320, 100, 254])\n",
      "torch.Size([320, 100])\n",
      "torch.Size([320, 100, 254])\n",
      "torch.Size([320, 100])\n",
      "torch.Size([320, 100, 254])\n",
      "torch.Size([320, 100])\n"
     ]
    },
    {
     "name": "stderr",
     "output_type": "stream",
     "text": [
      "training...:  73%|███████▎  | 97/132 [00:05<00:02, 16.59it/s]"
     ]
    },
    {
     "name": "stdout",
     "output_type": "stream",
     "text": [
      "torch.Size([320, 100, 254])\n",
      "torch.Size([320, 100])\n",
      "torch.Size([320, 100, 254])\n",
      "torch.Size([320, 100])\n",
      "torch.Size([320, 100, 254])\n",
      "torch.Size([320, 100])\n",
      "torch.Size([320, 100, 254])\n",
      "torch.Size([320, 100])\n"
     ]
    },
    {
     "name": "stderr",
     "output_type": "stream",
     "text": [
      "training...:  77%|███████▋  | 102/132 [00:05<00:01, 18.64it/s]"
     ]
    },
    {
     "name": "stdout",
     "output_type": "stream",
     "text": [
      "torch.Size([320, 100, 254])\n",
      "torch.Size([320, 100])\n",
      "torch.Size([320, 100, 254])\n",
      "torch.Size([320, 100])\n",
      "torch.Size([320, 100, 254])\n",
      "torch.Size([320, 100])\n",
      "torch.Size([320, 100, 254])\n",
      "torch.Size([320, 100])\n",
      "torch.Size([320, 100, 254])\n",
      "torch.Size([320, 100])\n"
     ]
    },
    {
     "name": "stderr",
     "output_type": "stream",
     "text": [
      "training...:  82%|████████▏ | 108/132 [00:05<00:01, 21.53it/s]"
     ]
    },
    {
     "name": "stdout",
     "output_type": "stream",
     "text": [
      "torch.Size([320, 100, 254])\n",
      "torch.Size([320, 100])\n",
      "torch.Size([320, 100, 254])\n",
      "torch.Size([320, 100])\n",
      "torch.Size([320, 100, 254])\n",
      "torch.Size([320, 100])\n",
      "torch.Size([320, 100, 254])\n",
      "torch.Size([320, 100])\n",
      "torch.Size([320, 100, 254])\n",
      "torch.Size([320, 100])\n"
     ]
    },
    {
     "name": "stderr",
     "output_type": "stream",
     "text": [
      "training...:  84%|████████▍ | 111/132 [00:05<00:00, 22.25it/s]"
     ]
    },
    {
     "name": "stdout",
     "output_type": "stream",
     "text": [
      "torch.Size([320, 100, 254])\n",
      "torch.Size([320, 100])\n",
      "torch.Size([320, 100, 254])\n",
      "torch.Size([320, 100])\n",
      "torch.Size([320, 100, 254])\n",
      "torch.Size([320, 100])\n",
      "torch.Size([320, 100, 254])\n",
      "torch.Size([320, 100])\n",
      "torch.Size([320, 100, 254])\n",
      "torch.Size([320, 100])\n",
      "torch.Size([320, 100, 254])\n",
      "torch.Size([320, 100])\n"
     ]
    },
    {
     "name": "stderr",
     "output_type": "stream",
     "text": [
      "training...:  89%|████████▊ | 117/132 [00:06<00:00, 25.05it/s]"
     ]
    },
    {
     "name": "stdout",
     "output_type": "stream",
     "text": [
      "torch.Size([320, 100, 254])\n",
      "torch.Size([320, 100])\n",
      "torch.Size([320, 100, 254])\n",
      "torch.Size([320, 100])\n",
      "torch.Size([320, 100, 254])\n",
      "torch.Size([320, 100])\n",
      "torch.Size([320, 100, 254])\n",
      "torch.Size([320, 100])\n",
      "torch.Size([320, 100, 254])\n",
      "torch.Size([320, 100])\n",
      "torch.Size([320, 100, 254])\n",
      "torch.Size([320, 100])\n"
     ]
    },
    {
     "name": "stderr",
     "output_type": "stream",
     "text": [
      "training...:  93%|█████████▎| 123/132 [00:06<00:00, 23.43it/s]"
     ]
    },
    {
     "name": "stdout",
     "output_type": "stream",
     "text": [
      "torch.Size([320, 100, 254])\n",
      "torch.Size([320, 100])\n",
      "torch.Size([320, 100, 254])\n",
      "torch.Size([320, 100])\n",
      "torch.Size([320, 100, 254])\n",
      "torch.Size([320, 100])\n",
      "torch.Size([320, 100, 254])\n",
      "torch.Size([320, 100])\n",
      "torch.Size([320, 100, 254])\n",
      "torch.Size([320, 100])\n"
     ]
    },
    {
     "name": "stderr",
     "output_type": "stream",
     "text": [
      "training...:  98%|█████████▊| 129/132 [00:06<00:00, 21.69it/s]"
     ]
    },
    {
     "name": "stdout",
     "output_type": "stream",
     "text": [
      "torch.Size([320, 100, 254])\n",
      "torch.Size([320, 100])\n",
      "torch.Size([320, 100, 254])\n",
      "torch.Size([320, 100])\n",
      "torch.Size([320, 100, 254])\n",
      "torch.Size([320, 100])\n",
      "torch.Size([320, 100, 254])\n",
      "torch.Size([320, 100])\n",
      "torch.Size([320, 100, 254])\n",
      "torch.Size([320, 100])\n"
     ]
    },
    {
     "name": "stderr",
     "output_type": "stream",
     "text": [
      "training...: 100%|██████████| 132/132 [00:06<00:00, 19.32it/s]\n"
     ]
    },
    {
     "name": "stdout",
     "output_type": "stream",
     "text": [
      "torch.Size([320, 100, 254])\n",
      "torch.Size([320, 100])\n",
      "torch.Size([80, 100, 254])\n",
      "torch.Size([80, 100])\n"
     ]
    },
    {
     "name": "stderr",
     "output_type": "stream",
     "text": [
      "evaluating...:   9%|▉         | 4/44 [00:00<00:01, 33.28it/s]"
     ]
    },
    {
     "name": "stdout",
     "output_type": "stream",
     "text": [
      "torch.Size([320, 100, 254])\n",
      "torch.Size([320, 100])\n",
      "torch.Size([320, 100, 254])\n",
      "torch.Size([320, 100])\n",
      "torch.Size([320, 100, 254])\n",
      "torch.Size([320, 100])\n",
      "torch.Size([320, 100, 254])\n",
      "torch.Size([320, 100])\n",
      "torch.Size([320, 100, 254])\n",
      "torch.Size([320, 100])\n",
      "torch.Size([320, 100, 254])\n",
      "torch.Size([320, 100])\n",
      "torch.Size([320, 100, 254])\n",
      "torch.Size([320, 100])\n"
     ]
    },
    {
     "name": "stderr",
     "output_type": "stream",
     "text": [
      "evaluating...:  27%|██▋       | 12/44 [00:00<00:00, 33.35it/s]"
     ]
    },
    {
     "name": "stdout",
     "output_type": "stream",
     "text": [
      "torch.Size([320, 100, 254])\n",
      "torch.Size([320, 100])\n",
      "torch.Size([320, 100, 254])\n",
      "torch.Size([320, 100])\n",
      "torch.Size([320, 100, 254])\n",
      "torch.Size([320, 100])\n",
      "torch.Size([320, 100, 254])\n",
      "torch.Size([320, 100])\n",
      "torch.Size([320, 100, 254])\n",
      "torch.Size([320, 100])\n",
      "torch.Size([320, 100, 254])\n",
      "torch.Size([320, 100])\n",
      "torch.Size([320, 100, 254])\n",
      "torch.Size([320, 100])\n"
     ]
    },
    {
     "name": "stderr",
     "output_type": "stream",
     "text": [
      "evaluating...:  36%|███▋      | 16/44 [00:00<00:00, 33.31it/s]"
     ]
    },
    {
     "name": "stdout",
     "output_type": "stream",
     "text": [
      "torch.Size([320, 100, 254])\n",
      "torch.Size([320, 100])\n",
      "torch.Size([320, 100, 254])\n",
      "torch.Size([320, 100])\n",
      "torch.Size([320, 100, 254])\n",
      "torch.Size([320, 100])\n",
      "torch.Size([320, 100, 254])\n",
      "torch.Size([320, 100])\n",
      "torch.Size([320, 100, 254])\n",
      "torch.Size([320, 100])\n"
     ]
    },
    {
     "name": "stderr",
     "output_type": "stream",
     "text": [
      "evaluating...:  45%|████▌     | 20/44 [00:00<00:00, 33.30it/s]"
     ]
    },
    {
     "name": "stdout",
     "output_type": "stream",
     "text": [
      "torch.Size([320, 100, 254])\n",
      "torch.Size([320, 100])\n",
      "torch.Size([320, 100, 254])\n",
      "torch.Size([320, 100])\n"
     ]
    },
    {
     "name": "stderr",
     "output_type": "stream",
     "text": [
      "evaluating...:  55%|█████▍    | 24/44 [00:00<00:00, 33.16it/s]"
     ]
    },
    {
     "name": "stdout",
     "output_type": "stream",
     "text": [
      "torch.Size([320, 100, 254])\n",
      "torch.Size([320, 100])\n",
      "torch.Size([320, 100, 254])\n",
      "torch.Size([320, 100])\n",
      "torch.Size([320, 100, 254])\n",
      "torch.Size([320, 100])\n",
      "torch.Size([320, 100, 254])\n",
      "torch.Size([320, 100])\n",
      "torch.Size([320, 100, 254])\n",
      "torch.Size([320, 100])\n"
     ]
    },
    {
     "name": "stderr",
     "output_type": "stream",
     "text": [
      "evaluating...:  64%|██████▎   | 28/44 [00:00<00:00, 33.14it/s]"
     ]
    },
    {
     "name": "stdout",
     "output_type": "stream",
     "text": [
      "torch.Size([320, 100, 254])\n",
      "torch.Size([320, 100])\n",
      "torch.Size([320, 100, 254])\n",
      "torch.Size([320, 100])\n"
     ]
    },
    {
     "name": "stderr",
     "output_type": "stream",
     "text": [
      "evaluating...:  73%|███████▎  | 32/44 [00:00<00:00, 34.96it/s]"
     ]
    },
    {
     "name": "stdout",
     "output_type": "stream",
     "text": [
      "torch.Size([320, 100, 254])\n",
      "torch.Size([320, 100])\n",
      "torch.Size([320, 100, 254])\n",
      "torch.Size([320, 100])\n",
      "torch.Size([320, 100, 254])\n",
      "torch.Size([320, 100])\n",
      "torch.Size([320, 100, 254])\n",
      "torch.Size([320, 100])\n",
      "torch.Size([320, 100, 254])\n",
      "torch.Size([320, 100])\n",
      "torch.Size([320, 100, 254])\n",
      "torch.Size([320, 100])\n"
     ]
    },
    {
     "name": "stderr",
     "output_type": "stream",
     "text": [
      "evaluating...:  84%|████████▍ | 37/44 [00:01<00:00, 37.86it/s]"
     ]
    },
    {
     "name": "stdout",
     "output_type": "stream",
     "text": [
      "torch.Size([320, 100, 254])\n",
      "torch.Size([320, 100])\n",
      "torch.Size([320, 100, 254])\n",
      "torch.Size([320, 100])\n",
      "torch.Size([320, 100, 254])\n",
      "torch.Size([320, 100])\n"
     ]
    },
    {
     "name": "stderr",
     "output_type": "stream",
     "text": [
      "evaluating...:  93%|█████████▎| 41/44 [00:01<00:00, 37.50it/s]"
     ]
    },
    {
     "name": "stdout",
     "output_type": "stream",
     "text": [
      "torch.Size([320, 100, 254])\n",
      "torch.Size([320, 100])\n",
      "torch.Size([320, 100, 254])\n",
      "torch.Size([320, 100])\n",
      "torch.Size([320, 100, 254])\n",
      "torch.Size([320, 100])\n",
      "torch.Size([320, 100, 254])\n",
      "torch.Size([320, 100])\n",
      "torch.Size([320, 100, 254])\n",
      "torch.Size([320, 100])\n",
      "torch.Size([320, 100, 254])\n",
      "torch.Size([320, 100])\n"
     ]
    },
    {
     "name": "stderr",
     "output_type": "stream",
     "text": [
      "evaluating...: 100%|██████████| 44/44 [00:01<00:00, 34.15it/s]\n"
     ]
    },
    {
     "name": "stdout",
     "output_type": "stream",
     "text": [
      "torch.Size([240, 100, 254])\n",
      "torch.Size([240, 100])\n",
      "epoch: 0\n",
      "train_loss: 0.501, train_acc: 0.852\n",
      "valid_loss: 0.095, valid_acc: 0.972\n",
      "train_activations:  3\n"
     ]
    },
    {
     "name": "stderr",
     "output_type": "stream",
     "text": [
      "concatting activations batches: 100%|██████████| 3/3 [00:00<00:00,  5.47it/s]\n",
      "concatting activations batches: 100%|██████████| 3/3 [00:00<00:00, 21.48it/s]\n",
      "training...:   2%|▏         | 3/132 [00:00<00:04, 29.89it/s]"
     ]
    },
    {
     "name": "stdout",
     "output_type": "stream",
     "text": [
      "torch.Size([320, 100, 254])\n",
      "torch.Size([320, 100])\n",
      "torch.Size([320, 100, 254])\n",
      "torch.Size([320, 100])\n",
      "torch.Size([320, 100, 254])\n",
      "torch.Size([320, 100])\n",
      "torch.Size([320, 100, 254])\n",
      "torch.Size([320, 100])\n",
      "torch.Size([320, 100, 254])\n",
      "torch.Size([320, 100])\n",
      "torch.Size([320, 100, 254])\n",
      "torch.Size([320, 100])\n",
      "torch.Size([320, 100, 254])\n",
      "torch.Size([320, 100])\n"
     ]
    },
    {
     "name": "stderr",
     "output_type": "stream",
     "text": [
      "training...:   8%|▊         | 11/132 [00:00<00:03, 30.55it/s]"
     ]
    },
    {
     "name": "stdout",
     "output_type": "stream",
     "text": [
      "torch.Size([320, 100, 254])\n",
      "torch.Size([320, 100])\n",
      "torch.Size([320, 100, 254])\n",
      "torch.Size([320, 100])\n",
      "torch.Size([320, 100, 254])\n",
      "torch.Size([320, 100])\n",
      "torch.Size([320, 100, 254])\n",
      "torch.Size([320, 100])\n",
      "torch.Size([320, 100, 254])\n",
      "torch.Size([320, 100])\n",
      "torch.Size([320, 100, 254])\n",
      "torch.Size([320, 100])\n"
     ]
    },
    {
     "name": "stderr",
     "output_type": "stream",
     "text": [
      "training...:  14%|█▎        | 18/132 [00:00<00:04, 27.44it/s]"
     ]
    },
    {
     "name": "stdout",
     "output_type": "stream",
     "text": [
      "torch.Size([320, 100, 254])\n",
      "torch.Size([320, 100])\n",
      "torch.Size([320, 100, 254])\n",
      "torch.Size([320, 100])\n",
      "torch.Size([320, 100, 254])\n",
      "torch.Size([320, 100])\n",
      "torch.Size([320, 100, 254])\n",
      "torch.Size([320, 100])\n",
      "torch.Size([320, 100, 254])\n",
      "torch.Size([320, 100])\n",
      "torch.Size([320, 100, 254])\n",
      "torch.Size([320, 100])\n"
     ]
    },
    {
     "name": "stderr",
     "output_type": "stream",
     "text": [
      "training...:  18%|█▊        | 24/132 [00:00<00:04, 26.18it/s]"
     ]
    },
    {
     "name": "stdout",
     "output_type": "stream",
     "text": [
      "torch.Size([320, 100, 254])\n",
      "torch.Size([320, 100])\n",
      "torch.Size([320, 100, 254])\n",
      "torch.Size([320, 100])\n",
      "torch.Size([320, 100, 254])\n",
      "torch.Size([320, 100])\n",
      "torch.Size([320, 100, 254])\n",
      "torch.Size([320, 100])\n",
      "torch.Size([320, 100, 254])\n",
      "torch.Size([320, 100])\n",
      "torch.Size([320, 100, 254])\n",
      "torch.Size([320, 100])\n"
     ]
    },
    {
     "name": "stderr",
     "output_type": "stream",
     "text": [
      "training...:  23%|██▎       | 31/132 [00:01<00:03, 27.87it/s]"
     ]
    },
    {
     "name": "stdout",
     "output_type": "stream",
     "text": [
      "torch.Size([320, 100, 254])\n",
      "torch.Size([320, 100])\n",
      "torch.Size([320, 100, 254])\n",
      "torch.Size([320, 100])\n",
      "torch.Size([320, 100, 254])\n",
      "torch.Size([320, 100])\n",
      "torch.Size([320, 100, 254])\n",
      "torch.Size([320, 100])\n",
      "torch.Size([320, 100, 254])\n",
      "torch.Size([320, 100])\n",
      "torch.Size([320, 100, 254])\n",
      "torch.Size([320, 100])\n",
      "torch.Size([320, 100, 254])\n",
      "torch.Size([320, 100])\n"
     ]
    },
    {
     "name": "stderr",
     "output_type": "stream",
     "text": [
      "training...:  27%|██▋       | 35/132 [00:01<00:03, 28.72it/s]"
     ]
    },
    {
     "name": "stdout",
     "output_type": "stream",
     "text": [
      "torch.Size([320, 100, 254])\n",
      "torch.Size([320, 100])\n",
      "torch.Size([320, 100, 254])\n",
      "torch.Size([320, 100])\n",
      "torch.Size([320, 100, 254])\n",
      "torch.Size([320, 100])\n",
      "torch.Size([320, 100, 254])\n",
      "torch.Size([320, 100])\n",
      "torch.Size([320, 100, 254])\n",
      "torch.Size([320, 100])\n",
      "torch.Size([320, 100, 254])\n",
      "torch.Size([320, 100])\n",
      "torch.Size([320, 100, 254])\n",
      "torch.Size([320, 100])\n"
     ]
    },
    {
     "name": "stderr",
     "output_type": "stream",
     "text": [
      "training...:  33%|███▎      | 43/132 [00:01<00:02, 29.68it/s]"
     ]
    },
    {
     "name": "stdout",
     "output_type": "stream",
     "text": [
      "torch.Size([320, 100, 254])\n",
      "torch.Size([320, 100])\n",
      "torch.Size([320, 100, 254])\n",
      "torch.Size([320, 100])\n",
      "torch.Size([320, 100, 254])\n",
      "torch.Size([320, 100])\n",
      "torch.Size([320, 100, 254])\n",
      "torch.Size([320, 100])\n",
      "torch.Size([320, 100, 254])\n",
      "torch.Size([320, 100])\n",
      "torch.Size([320, 100, 254])\n",
      "torch.Size([320, 100])\n",
      "torch.Size([320, 100, 254])\n",
      "torch.Size([320, 100])\n"
     ]
    },
    {
     "name": "stderr",
     "output_type": "stream",
     "text": [
      "training...:  39%|███▊      | 51/132 [00:01<00:02, 30.17it/s]"
     ]
    },
    {
     "name": "stdout",
     "output_type": "stream",
     "text": [
      "torch.Size([320, 100, 254])\n",
      "torch.Size([320, 100])\n",
      "torch.Size([320, 100, 254])\n",
      "torch.Size([320, 100])\n",
      "torch.Size([320, 100, 254])\n",
      "torch.Size([320, 100])\n",
      "torch.Size([320, 100, 254])\n",
      "torch.Size([320, 100])\n",
      "torch.Size([320, 100, 254])\n",
      "torch.Size([320, 100])\n",
      "torch.Size([320, 100, 254])\n",
      "torch.Size([320, 100])\n"
     ]
    },
    {
     "name": "stderr",
     "output_type": "stream",
     "text": [
      "training...:  42%|████▏     | 55/132 [00:01<00:02, 29.80it/s]"
     ]
    },
    {
     "name": "stdout",
     "output_type": "stream",
     "text": [
      "torch.Size([320, 100, 254])\n",
      "torch.Size([320, 100])\n",
      "torch.Size([320, 100, 254])\n",
      "torch.Size([320, 100])\n",
      "torch.Size([320, 100, 254])\n",
      "torch.Size([320, 100])\n",
      "torch.Size([320, 100, 254])\n",
      "torch.Size([320, 100])\n",
      "torch.Size([320, 100, 254])\n",
      "torch.Size([320, 100])\n",
      "torch.Size([320, 100, 254])\n",
      "torch.Size([320, 100])\n",
      "torch.Size([320, 100, 254])\n",
      "torch.Size([320, 100])\n"
     ]
    },
    {
     "name": "stderr",
     "output_type": "stream",
     "text": [
      "training...:  48%|████▊     | 63/132 [00:02<00:02, 29.04it/s]"
     ]
    },
    {
     "name": "stdout",
     "output_type": "stream",
     "text": [
      "torch.Size([320, 100, 254])\n",
      "torch.Size([320, 100])\n",
      "torch.Size([320, 100, 254])\n",
      "torch.Size([320, 100])\n",
      "torch.Size([320, 100, 254])\n",
      "torch.Size([320, 100])\n",
      "torch.Size([320, 100, 254])\n",
      "torch.Size([320, 100])\n",
      "torch.Size([320, 100, 254])\n",
      "torch.Size([320, 100])\n",
      "torch.Size([320, 100, 254])\n",
      "torch.Size([320, 100])\n"
     ]
    },
    {
     "name": "stderr",
     "output_type": "stream",
     "text": [
      "training...:  52%|█████▏    | 69/132 [00:02<00:02, 26.88it/s]"
     ]
    },
    {
     "name": "stdout",
     "output_type": "stream",
     "text": [
      "torch.Size([320, 100, 254])\n",
      "torch.Size([320, 100])\n",
      "torch.Size([320, 100, 254])\n",
      "torch.Size([320, 100])\n",
      "torch.Size([320, 100, 254])\n",
      "torch.Size([320, 100])\n",
      "torch.Size([320, 100, 254])\n",
      "torch.Size([320, 100])\n",
      "torch.Size([320, 100, 254])\n",
      "torch.Size([320, 100])\n"
     ]
    },
    {
     "name": "stderr",
     "output_type": "stream",
     "text": [
      "training...:  57%|█████▋    | 75/132 [00:02<00:02, 25.55it/s]"
     ]
    },
    {
     "name": "stdout",
     "output_type": "stream",
     "text": [
      "torch.Size([320, 100, 254])\n",
      "torch.Size([320, 100])\n",
      "torch.Size([320, 100, 254])\n",
      "torch.Size([320, 100])\n",
      "torch.Size([320, 100, 254])\n",
      "torch.Size([320, 100])\n",
      "torch.Size([320, 100, 254])\n",
      "torch.Size([320, 100])\n",
      "torch.Size([320, 100, 254])\n",
      "torch.Size([320, 100])\n",
      "torch.Size([320, 100, 254])\n",
      "torch.Size([320, 100])\n"
     ]
    },
    {
     "name": "stderr",
     "output_type": "stream",
     "text": [
      "training...:  61%|██████▏   | 81/132 [00:02<00:02, 25.13it/s]"
     ]
    },
    {
     "name": "stdout",
     "output_type": "stream",
     "text": [
      "torch.Size([320, 100, 254])\n",
      "torch.Size([320, 100])\n",
      "torch.Size([320, 100, 254])\n",
      "torch.Size([320, 100])\n",
      "torch.Size([320, 100, 254])\n",
      "torch.Size([320, 100])\n",
      "torch.Size([320, 100, 254])\n",
      "torch.Size([320, 100])\n",
      "torch.Size([320, 100, 254])\n",
      "torch.Size([320, 100])\n",
      "torch.Size([320, 100, 254])\n",
      "torch.Size([320, 100])\n"
     ]
    },
    {
     "name": "stderr",
     "output_type": "stream",
     "text": [
      "training...:  66%|██████▌   | 87/132 [00:03<00:01, 25.16it/s]"
     ]
    },
    {
     "name": "stdout",
     "output_type": "stream",
     "text": [
      "torch.Size([320, 100, 254])\n",
      "torch.Size([320, 100])\n",
      "torch.Size([320, 100, 254])\n",
      "torch.Size([320, 100])\n",
      "torch.Size([320, 100, 254])\n",
      "torch.Size([320, 100])\n",
      "torch.Size([320, 100, 254])\n",
      "torch.Size([320, 100])\n",
      "torch.Size([320, 100, 254])\n",
      "torch.Size([320, 100])\n",
      "torch.Size([320, 100, 254])\n",
      "torch.Size([320, 100])\n"
     ]
    },
    {
     "name": "stderr",
     "output_type": "stream",
     "text": [
      "training...:  71%|███████   | 94/132 [00:03<00:01, 27.08it/s]"
     ]
    },
    {
     "name": "stdout",
     "output_type": "stream",
     "text": [
      "torch.Size([320, 100, 254])\n",
      "torch.Size([320, 100])\n",
      "torch.Size([320, 100, 254])\n",
      "torch.Size([320, 100])\n",
      "torch.Size([320, 100, 254])\n",
      "torch.Size([320, 100])\n",
      "torch.Size([320, 100, 254])\n",
      "torch.Size([320, 100])\n",
      "torch.Size([320, 100, 254])\n",
      "torch.Size([320, 100])\n",
      "torch.Size([320, 100, 254])\n",
      "torch.Size([320, 100])\n",
      "torch.Size([320, 100, 254])\n",
      "torch.Size([320, 100])\n"
     ]
    },
    {
     "name": "stderr",
     "output_type": "stream",
     "text": [
      "training...:  74%|███████▍  | 98/132 [00:03<00:01, 27.72it/s]"
     ]
    },
    {
     "name": "stdout",
     "output_type": "stream",
     "text": [
      "torch.Size([320, 100, 254])\n",
      "torch.Size([320, 100])\n",
      "torch.Size([320, 100, 254])\n",
      "torch.Size([320, 100])\n",
      "torch.Size([320, 100, 254])\n",
      "torch.Size([320, 100])\n",
      "torch.Size([320, 100, 254])\n",
      "torch.Size([320, 100])\n",
      "torch.Size([320, 100, 254])\n",
      "torch.Size([320, 100])\n",
      "torch.Size([320, 100, 254])\n",
      "torch.Size([320, 100])\n"
     ]
    },
    {
     "name": "stderr",
     "output_type": "stream",
     "text": [
      "training...:  79%|███████▉  | 104/132 [00:03<00:01, 26.25it/s]"
     ]
    },
    {
     "name": "stdout",
     "output_type": "stream",
     "text": [
      "torch.Size([320, 100, 254])\n",
      "torch.Size([320, 100])\n",
      "torch.Size([320, 100, 254])\n",
      "torch.Size([320, 100])\n",
      "torch.Size([320, 100, 254])\n",
      "torch.Size([320, 100])\n",
      "torch.Size([320, 100, 254])\n",
      "torch.Size([320, 100])\n",
      "torch.Size([320, 100, 254])\n",
      "torch.Size([320, 100])\n",
      "torch.Size([320, 100, 254])\n"
     ]
    },
    {
     "name": "stderr",
     "output_type": "stream",
     "text": [
      "training...:  83%|████████▎ | 110/132 [00:04<00:00, 25.58it/s]"
     ]
    },
    {
     "name": "stdout",
     "output_type": "stream",
     "text": [
      "torch.Size([320, 100])\n",
      "torch.Size([320, 100, 254])\n",
      "torch.Size([320, 100])\n",
      "torch.Size([320, 100, 254])\n",
      "torch.Size([320, 100])\n",
      "torch.Size([320, 100, 254])\n",
      "torch.Size([320, 100])\n",
      "torch.Size([320, 100, 254])\n",
      "torch.Size([320, 100])\n"
     ]
    },
    {
     "name": "stderr",
     "output_type": "stream",
     "text": [
      "training...:  88%|████████▊ | 116/132 [00:04<00:00, 24.96it/s]"
     ]
    },
    {
     "name": "stdout",
     "output_type": "stream",
     "text": [
      "torch.Size([320, 100, 254])\n",
      "torch.Size([320, 100])\n",
      "torch.Size([320, 100, 254])\n",
      "torch.Size([320, 100])\n",
      "torch.Size([320, 100, 254])\n",
      "torch.Size([320, 100])\n",
      "torch.Size([320, 100, 254])\n",
      "torch.Size([320, 100])\n",
      "torch.Size([320, 100, 254])\n",
      "torch.Size([320, 100])\n"
     ]
    },
    {
     "name": "stderr",
     "output_type": "stream",
     "text": [
      "training...:  90%|█████████ | 119/132 [00:04<00:00, 25.01it/s]"
     ]
    },
    {
     "name": "stdout",
     "output_type": "stream",
     "text": [
      "torch.Size([320, 100, 254])\n",
      "torch.Size([320, 100])\n",
      "torch.Size([320, 100, 254])\n",
      "torch.Size([320, 100])\n",
      "torch.Size([320, 100, 254])\n",
      "torch.Size([320, 100])\n",
      "torch.Size([320, 100, 254])\n",
      "torch.Size([320, 100])\n",
      "torch.Size([320, 100, 254])\n",
      "torch.Size([320, 100])\n",
      "torch.Size([320, 100, 254])\n",
      "torch.Size([320, 100])\n"
     ]
    },
    {
     "name": "stderr",
     "output_type": "stream",
     "text": [
      "training...:  95%|█████████▍| 125/132 [00:04<00:00, 24.99it/s]"
     ]
    },
    {
     "name": "stdout",
     "output_type": "stream",
     "text": [
      "torch.Size([320, 100, 254])\n",
      "torch.Size([320, 100])\n",
      "torch.Size([320, 100, 254])\n",
      "torch.Size([320, 100])\n",
      "torch.Size([320, 100, 254])\n",
      "torch.Size([320, 100])\n",
      "torch.Size([320, 100, 254])\n",
      "torch.Size([320, 100])\n",
      "torch.Size([320, 100, 254])\n",
      "torch.Size([320, 100])\n",
      "torch.Size([320, 100, 254])\n"
     ]
    },
    {
     "name": "stderr",
     "output_type": "stream",
     "text": [
      "training...: 100%|██████████| 132/132 [00:04<00:00, 26.92it/s]\n"
     ]
    },
    {
     "name": "stdout",
     "output_type": "stream",
     "text": [
      "torch.Size([320, 100])\n",
      "torch.Size([320, 100, 254])\n",
      "torch.Size([320, 100])\n",
      "torch.Size([320, 100, 254])\n",
      "torch.Size([320, 100])\n",
      "torch.Size([320, 100, 254])\n",
      "torch.Size([320, 100])\n",
      "torch.Size([80, 100, 254])\n",
      "torch.Size([80, 100])\n"
     ]
    },
    {
     "name": "stderr",
     "output_type": "stream",
     "text": [
      "evaluating...:   0%|          | 0/44 [00:00<?, ?it/s]"
     ]
    },
    {
     "name": "stdout",
     "output_type": "stream",
     "text": [
      "torch.Size([320, 100, 254])\n",
      "torch.Size([320, 100])\n"
     ]
    },
    {
     "name": "stderr",
     "output_type": "stream",
     "text": [
      "evaluating...:  18%|█▊        | 8/44 [00:00<00:01, 35.85it/s]"
     ]
    },
    {
     "name": "stdout",
     "output_type": "stream",
     "text": [
      "torch.Size([320, 100, 254])\n",
      "torch.Size([320, 100])\n",
      "torch.Size([320, 100, 254])\n",
      "torch.Size([320, 100])\n",
      "torch.Size([320, 100, 254])\n",
      "torch.Size([320, 100])\n",
      "torch.Size([320, 100, 254])\n",
      "torch.Size([320, 100])\n",
      "torch.Size([320, 100, 254])\n",
      "torch.Size([320, 100])\n",
      "torch.Size([320, 100, 254])\n",
      "torch.Size([320, 100])\n",
      "torch.Size([320, 100, 254])\n",
      "torch.Size([320, 100])\n",
      "torch.Size([320, 100, 254])\n",
      "torch.Size([320, 100])\n"
     ]
    },
    {
     "name": "stderr",
     "output_type": "stream",
     "text": [
      "evaluating...:  36%|███▋      | 16/44 [00:00<00:00, 35.85it/s]"
     ]
    },
    {
     "name": "stdout",
     "output_type": "stream",
     "text": [
      "torch.Size([320, 100, 254])\n",
      "torch.Size([320, 100])\n",
      "torch.Size([320, 100, 254])\n",
      "torch.Size([320, 100])\n",
      "torch.Size([320, 100, 254])\n",
      "torch.Size([320, 100])\n",
      "torch.Size([320, 100, 254])\n",
      "torch.Size([320, 100])\n",
      "torch.Size([320, 100, 254])\n",
      "torch.Size([320, 100])\n",
      "torch.Size([320, 100, 254])\n",
      "torch.Size([320, 100])\n",
      "torch.Size([320, 100, 254])\n",
      "torch.Size([320, 100])\n",
      "torch.Size([320, 100, 254])\n",
      "torch.Size([320, 100])\n"
     ]
    },
    {
     "name": "stderr",
     "output_type": "stream",
     "text": [
      "evaluating...:  45%|████▌     | 20/44 [00:00<00:00, 35.78it/s]"
     ]
    },
    {
     "name": "stdout",
     "output_type": "stream",
     "text": [
      "torch.Size([320, 100, 254])\n",
      "torch.Size([320, 100])\n",
      "torch.Size([320, 100, 254])\n",
      "torch.Size([320, 100])\n",
      "torch.Size([320, 100, 254])\n",
      "torch.Size([320, 100])\n",
      "torch.Size([320, 100, 254])\n",
      "torch.Size([320, 100])\n",
      "torch.Size([320, 100, 254])\n",
      "torch.Size([320, 100])\n",
      "torch.Size([320, 100, 254])\n",
      "torch.Size([320, 100])\n"
     ]
    },
    {
     "name": "stderr",
     "output_type": "stream",
     "text": [
      "evaluating...:  64%|██████▎   | 28/44 [00:00<00:00, 29.20it/s]"
     ]
    },
    {
     "name": "stdout",
     "output_type": "stream",
     "text": [
      "torch.Size([320, 100, 254])\n",
      "torch.Size([320, 100])\n",
      "torch.Size([320, 100, 254])\n",
      "torch.Size([320, 100])\n",
      "torch.Size([320, 100, 254])\n",
      "torch.Size([320, 100])\n",
      "torch.Size([320, 100, 254])\n",
      "torch.Size([320, 100])\n",
      "torch.Size([320, 100, 254])\n",
      "torch.Size([320, 100])\n",
      "torch.Size([320, 100, 254])\n",
      "torch.Size([320, 100])\n",
      "torch.Size([320, 100, 254])\n",
      "torch.Size([320, 100])\n",
      "torch.Size([320, 100, 254])\n",
      "torch.Size([320, 100])\n"
     ]
    },
    {
     "name": "stderr",
     "output_type": "stream",
     "text": [
      "evaluating...:  82%|████████▏ | 36/44 [00:01<00:00, 32.42it/s]"
     ]
    },
    {
     "name": "stdout",
     "output_type": "stream",
     "text": [
      "torch.Size([320, 100, 254])\n",
      "torch.Size([320, 100])\n",
      "torch.Size([320, 100, 254])\n",
      "torch.Size([320, 100])\n",
      "torch.Size([320, 100, 254])\n",
      "torch.Size([320, 100])\n",
      "torch.Size([320, 100, 254])\n",
      "torch.Size([320, 100])\n",
      "torch.Size([320, 100, 254])\n",
      "torch.Size([320, 100])\n",
      "torch.Size([320, 100, 254])\n",
      "torch.Size([320, 100])\n",
      "torch.Size([320, 100, 254])\n",
      "torch.Size([320, 100])\n",
      "torch.Size([320, 100, 254])\n",
      "torch.Size([320, 100])\n"
     ]
    },
    {
     "name": "stderr",
     "output_type": "stream",
     "text": [
      "evaluating...: 100%|██████████| 44/44 [00:01<00:00, 32.70it/s]\n"
     ]
    },
    {
     "name": "stdout",
     "output_type": "stream",
     "text": [
      "torch.Size([320, 100, 254])\n",
      "torch.Size([320, 100])\n",
      "torch.Size([320, 100, 254])\n",
      "torch.Size([320, 100])\n",
      "torch.Size([320, 100, 254])\n",
      "torch.Size([320, 100])\n",
      "torch.Size([320, 100, 254])\n",
      "torch.Size([320, 100])\n",
      "torch.Size([240, 100, 254])\n",
      "torch.Size([240, 100])\n",
      "epoch: 1\n",
      "train_loss: 0.109, train_acc: 0.969\n",
      "valid_loss: 0.070, valid_acc: 0.980\n",
      "train_activations:  3\n"
     ]
    },
    {
     "name": "stderr",
     "output_type": "stream",
     "text": [
      "concatting activations batches: 100%|██████████| 3/3 [00:00<00:00,  6.84it/s]\n",
      "concatting activations batches: 100%|██████████| 3/3 [00:00<00:00, 21.57it/s]\n",
      "training...:   3%|▎         | 4/132 [00:00<00:04, 30.27it/s]"
     ]
    },
    {
     "name": "stdout",
     "output_type": "stream",
     "text": [
      "torch.Size([320, 100, 254])\n",
      "torch.Size([320, 100])\n",
      "torch.Size([320, 100, 254])\n",
      "torch.Size([320, 100])\n",
      "torch.Size([320, 100, 254])\n",
      "torch.Size([320, 100])\n",
      "torch.Size([320, 100, 254])\n",
      "torch.Size([320, 100])\n",
      "torch.Size([320, 100, 254])\n",
      "torch.Size([320, 100])\n",
      "torch.Size([320, 100, 254])\n",
      "torch.Size([320, 100])\n",
      "torch.Size([320, 100, 254])\n",
      "torch.Size([320, 100])\n"
     ]
    },
    {
     "name": "stderr",
     "output_type": "stream",
     "text": [
      "training...:   9%|▉         | 12/132 [00:00<00:04, 26.46it/s]"
     ]
    },
    {
     "name": "stdout",
     "output_type": "stream",
     "text": [
      "torch.Size([320, 100, 254])\n",
      "torch.Size([320, 100])\n",
      "torch.Size([320, 100, 254])\n",
      "torch.Size([320, 100])\n",
      "torch.Size([320, 100, 254])\n",
      "torch.Size([320, 100])\n",
      "torch.Size([320, 100, 254])\n",
      "torch.Size([320, 100])\n",
      "torch.Size([320, 100, 254])\n",
      "torch.Size([320, 100])\n"
     ]
    },
    {
     "name": "stderr",
     "output_type": "stream",
     "text": [
      "training...:  11%|█▏        | 15/132 [00:00<00:04, 25.98it/s]"
     ]
    },
    {
     "name": "stdout",
     "output_type": "stream",
     "text": [
      "torch.Size([320, 100, 254])\n",
      "torch.Size([320, 100])\n",
      "torch.Size([320, 100, 254])\n",
      "torch.Size([320, 100])\n",
      "torch.Size([320, 100, 254])\n",
      "torch.Size([320, 100])\n",
      "torch.Size([320, 100, 254])\n",
      "torch.Size([320, 100])\n",
      "torch.Size([320, 100, 254])\n",
      "torch.Size([320, 100])\n",
      "torch.Size([320, 100, 254])\n",
      "torch.Size([320, 100])\n"
     ]
    },
    {
     "name": "stderr",
     "output_type": "stream",
     "text": [
      "training...:  16%|█▌        | 21/132 [00:00<00:04, 25.48it/s]"
     ]
    },
    {
     "name": "stdout",
     "output_type": "stream",
     "text": [
      "torch.Size([320, 100, 254])\n",
      "torch.Size([320, 100])\n",
      "torch.Size([320, 100, 254])\n",
      "torch.Size([320, 100])\n",
      "torch.Size([320, 100, 254])\n",
      "torch.Size([320, 100])\n",
      "torch.Size([320, 100, 254])\n",
      "torch.Size([320, 100])\n",
      "torch.Size([320, 100, 254])\n",
      "torch.Size([320, 100])\n",
      "torch.Size([320, 100, 254])\n",
      "torch.Size([320, 100])\n"
     ]
    },
    {
     "name": "stderr",
     "output_type": "stream",
     "text": [
      "training...:  20%|██        | 27/132 [00:01<00:04, 25.33it/s]"
     ]
    },
    {
     "name": "stdout",
     "output_type": "stream",
     "text": [
      "torch.Size([320, 100, 254])\n",
      "torch.Size([320, 100])\n",
      "torch.Size([320, 100, 254])\n",
      "torch.Size([320, 100])\n",
      "torch.Size([320, 100, 254])\n",
      "torch.Size([320, 100])\n",
      "torch.Size([320, 100, 254])\n",
      "torch.Size([320, 100])\n",
      "torch.Size([320, 100, 254])\n",
      "torch.Size([320, 100])\n",
      "torch.Size([320, 100, 254])\n",
      "torch.Size([320, 100])\n"
     ]
    },
    {
     "name": "stderr",
     "output_type": "stream",
     "text": [
      "training...:  25%|██▌       | 33/132 [00:01<00:03, 25.08it/s]"
     ]
    },
    {
     "name": "stdout",
     "output_type": "stream",
     "text": [
      "torch.Size([320, 100, 254])\n",
      "torch.Size([320, 100])\n",
      "torch.Size([320, 100, 254])\n",
      "torch.Size([320, 100])\n",
      "torch.Size([320, 100, 254])\n",
      "torch.Size([320, 100])\n",
      "torch.Size([320, 100, 254])\n",
      "torch.Size([320, 100])\n",
      "torch.Size([320, 100, 254])\n",
      "torch.Size([320, 100])\n"
     ]
    },
    {
     "name": "stderr",
     "output_type": "stream",
     "text": [
      "training...:  30%|██▉       | 39/132 [00:01<00:03, 25.14it/s]"
     ]
    },
    {
     "name": "stdout",
     "output_type": "stream",
     "text": [
      "torch.Size([320, 100, 254])\n",
      "torch.Size([320, 100])\n",
      "torch.Size([320, 100, 254])\n",
      "torch.Size([320, 100])\n",
      "torch.Size([320, 100, 254])\n",
      "torch.Size([320, 100])\n",
      "torch.Size([320, 100, 254])\n",
      "torch.Size([320, 100])\n",
      "torch.Size([320, 100, 254])\n",
      "torch.Size([320, 100])\n",
      "torch.Size([320, 100, 254])\n",
      "torch.Size([320, 100])\n"
     ]
    },
    {
     "name": "stderr",
     "output_type": "stream",
     "text": [
      "training...:  35%|███▍      | 46/132 [00:01<00:03, 27.50it/s]"
     ]
    },
    {
     "name": "stdout",
     "output_type": "stream",
     "text": [
      "torch.Size([320, 100, 254])\n",
      "torch.Size([320, 100])\n",
      "torch.Size([320, 100, 254])\n",
      "torch.Size([320, 100])\n",
      "torch.Size([320, 100, 254])\n",
      "torch.Size([320, 100])\n",
      "torch.Size([320, 100, 254])\n",
      "torch.Size([320, 100])\n",
      "torch.Size([320, 100, 254])\n",
      "torch.Size([320, 100])\n",
      "torch.Size([320, 100, 254])\n",
      "torch.Size([320, 100])\n",
      "torch.Size([320, 100, 254])\n",
      "torch.Size([320, 100])\n"
     ]
    },
    {
     "name": "stderr",
     "output_type": "stream",
     "text": [
      "training...:  40%|████      | 53/132 [00:01<00:02, 28.15it/s]"
     ]
    },
    {
     "name": "stdout",
     "output_type": "stream",
     "text": [
      "torch.Size([320, 100, 254])\n",
      "torch.Size([320, 100])\n",
      "torch.Size([320, 100, 254])\n",
      "torch.Size([320, 100])\n",
      "torch.Size([320, 100, 254])\n",
      "torch.Size([320, 100])\n",
      "torch.Size([320, 100, 254])\n",
      "torch.Size([320, 100])\n",
      "torch.Size([320, 100, 254])\n",
      "torch.Size([320, 100])\n",
      "torch.Size([320, 100, 254])\n",
      "torch.Size([320, 100])\n"
     ]
    },
    {
     "name": "stderr",
     "output_type": "stream",
     "text": [
      "training...:  45%|████▍     | 59/132 [00:02<00:02, 26.57it/s]"
     ]
    },
    {
     "name": "stdout",
     "output_type": "stream",
     "text": [
      "torch.Size([320, 100, 254])\n",
      "torch.Size([320, 100])\n",
      "torch.Size([320, 100, 254])\n",
      "torch.Size([320, 100])\n",
      "torch.Size([320, 100, 254])\n",
      "torch.Size([320, 100])\n",
      "torch.Size([320, 100, 254])\n",
      "torch.Size([320, 100])\n",
      "torch.Size([320, 100, 254])\n",
      "torch.Size([320, 100])\n",
      "torch.Size([320, 100, 254])\n"
     ]
    },
    {
     "name": "stderr",
     "output_type": "stream",
     "text": [
      "training...:  47%|████▋     | 62/132 [00:02<00:02, 26.05it/s]"
     ]
    },
    {
     "name": "stdout",
     "output_type": "stream",
     "text": [
      "torch.Size([320, 100])\n",
      "torch.Size([320, 100, 254])\n",
      "torch.Size([320, 100])\n",
      "torch.Size([320, 100, 254])\n",
      "torch.Size([320, 100])\n",
      "torch.Size([320, 100, 254])\n",
      "torch.Size([320, 100])\n",
      "torch.Size([320, 100, 254])\n",
      "torch.Size([320, 100])\n",
      "torch.Size([320, 100, 254])\n",
      "torch.Size([320, 100])\n"
     ]
    },
    {
     "name": "stderr",
     "output_type": "stream",
     "text": [
      "training...:  52%|█████▏    | 68/132 [00:02<00:02, 25.60it/s]"
     ]
    },
    {
     "name": "stdout",
     "output_type": "stream",
     "text": [
      "torch.Size([320, 100, 254])\n",
      "torch.Size([320, 100])\n",
      "torch.Size([320, 100, 254])\n",
      "torch.Size([320, 100])\n",
      "torch.Size([320, 100, 254])\n",
      "torch.Size([320, 100])\n",
      "torch.Size([320, 100, 254])\n",
      "torch.Size([320, 100])\n",
      "torch.Size([320, 100, 254])\n",
      "torch.Size([320, 100])\n",
      "torch.Size([320, 100, 254])\n",
      "torch.Size([320, 100])\n"
     ]
    },
    {
     "name": "stderr",
     "output_type": "stream",
     "text": [
      "training...:  58%|█████▊    | 77/132 [00:02<00:02, 26.03it/s]"
     ]
    },
    {
     "name": "stdout",
     "output_type": "stream",
     "text": [
      "torch.Size([320, 100, 254])\n",
      "torch.Size([320, 100])\n",
      "torch.Size([320, 100, 254])\n",
      "torch.Size([320, 100])\n",
      "torch.Size([320, 100, 254])\n",
      "torch.Size([320, 100])\n",
      "torch.Size([320, 100, 254])\n",
      "torch.Size([320, 100])\n",
      "torch.Size([320, 100, 254])\n",
      "torch.Size([320, 100])\n",
      "torch.Size([320, 100, 254])\n",
      "torch.Size([320, 100])\n"
     ]
    },
    {
     "name": "stderr",
     "output_type": "stream",
     "text": [
      "training...:  61%|██████▏   | 81/132 [00:03<00:01, 27.54it/s]"
     ]
    },
    {
     "name": "stdout",
     "output_type": "stream",
     "text": [
      "torch.Size([320, 100, 254])\n",
      "torch.Size([320, 100])\n",
      "torch.Size([320, 100, 254])\n",
      "torch.Size([320, 100])\n",
      "torch.Size([320, 100, 254])\n",
      "torch.Size([320, 100])\n",
      "torch.Size([320, 100, 254])\n",
      "torch.Size([320, 100])\n",
      "torch.Size([320, 100, 254])\n",
      "torch.Size([320, 100])\n",
      "torch.Size([320, 100, 254])\n",
      "torch.Size([320, 100])\n",
      "torch.Size([320, 100, 254])\n",
      "torch.Size([320, 100])\n"
     ]
    },
    {
     "name": "stderr",
     "output_type": "stream",
     "text": [
      "training...:  67%|██████▋   | 88/132 [00:03<00:01, 28.90it/s]"
     ]
    },
    {
     "name": "stdout",
     "output_type": "stream",
     "text": [
      "torch.Size([320, 100, 254])\n",
      "torch.Size([320, 100])\n",
      "torch.Size([320, 100, 254])\n",
      "torch.Size([320, 100])\n",
      "torch.Size([320, 100, 254])\n",
      "torch.Size([320, 100])\n",
      "torch.Size([320, 100, 254])\n",
      "torch.Size([320, 100])\n",
      "torch.Size([320, 100, 254])\n",
      "torch.Size([320, 100])\n",
      "torch.Size([320, 100, 254])\n",
      "torch.Size([320, 100])\n",
      "torch.Size([320, 100, 254])\n",
      "torch.Size([320, 100])\n"
     ]
    },
    {
     "name": "stderr",
     "output_type": "stream",
     "text": [
      "training...:  73%|███████▎  | 96/132 [00:03<00:01, 29.91it/s]"
     ]
    },
    {
     "name": "stdout",
     "output_type": "stream",
     "text": [
      "torch.Size([320, 100, 254])\n",
      "torch.Size([320, 100])\n",
      "torch.Size([320, 100, 254])\n",
      "torch.Size([320, 100])\n",
      "torch.Size([320, 100, 254])\n",
      "torch.Size([320, 100])\n",
      "torch.Size([320, 100, 254])\n",
      "torch.Size([320, 100])\n",
      "torch.Size([320, 100, 254])\n",
      "torch.Size([320, 100])\n",
      "torch.Size([320, 100, 254])\n",
      "torch.Size([320, 100])\n"
     ]
    },
    {
     "name": "stderr",
     "output_type": "stream",
     "text": [
      "training...:  77%|███████▋  | 102/132 [00:03<00:01, 27.47it/s]"
     ]
    },
    {
     "name": "stdout",
     "output_type": "stream",
     "text": [
      "torch.Size([320, 100, 254])\n",
      "torch.Size([320, 100])\n",
      "torch.Size([320, 100, 254])\n",
      "torch.Size([320, 100])\n",
      "torch.Size([320, 100, 254])\n",
      "torch.Size([320, 100])\n",
      "torch.Size([320, 100, 254])\n",
      "torch.Size([320, 100])\n",
      "torch.Size([320, 100, 254])\n",
      "torch.Size([320, 100])\n",
      "torch.Size([320, 100, 254])\n",
      "torch.Size([320, 100])\n"
     ]
    },
    {
     "name": "stderr",
     "output_type": "stream",
     "text": [
      "training...:  82%|████████▏ | 108/132 [00:04<00:00, 26.21it/s]"
     ]
    },
    {
     "name": "stdout",
     "output_type": "stream",
     "text": [
      "torch.Size([320, 100, 254])\n",
      "torch.Size([320, 100])\n",
      "torch.Size([320, 100, 254])\n",
      "torch.Size([320, 100])\n",
      "torch.Size([320, 100, 254])\n",
      "torch.Size([320, 100])\n",
      "torch.Size([320, 100, 254])\n",
      "torch.Size([320, 100])\n",
      "torch.Size([320, 100, 254])\n",
      "torch.Size([320, 100])\n",
      "torch.Size([320, 100, 254])\n",
      "torch.Size([320, 100])\n"
     ]
    },
    {
     "name": "stderr",
     "output_type": "stream",
     "text": [
      "training...:  86%|████████▋ | 114/132 [00:04<00:00, 25.60it/s]"
     ]
    },
    {
     "name": "stdout",
     "output_type": "stream",
     "text": [
      "torch.Size([320, 100, 254])\n",
      "torch.Size([320, 100])\n",
      "torch.Size([320, 100, 254])\n",
      "torch.Size([320, 100])\n",
      "torch.Size([320, 100, 254])\n",
      "torch.Size([320, 100])\n",
      "torch.Size([320, 100, 254])\n",
      "torch.Size([320, 100])\n",
      "torch.Size([320, 100, 254])\n",
      "torch.Size([320, 100])\n",
      "torch.Size([320, 100, 254])\n",
      "torch.Size([320, 100])\n"
     ]
    },
    {
     "name": "stderr",
     "output_type": "stream",
     "text": [
      "training...:  91%|█████████ | 120/132 [00:04<00:00, 25.30it/s]"
     ]
    },
    {
     "name": "stdout",
     "output_type": "stream",
     "text": [
      "torch.Size([320, 100, 254])\n",
      "torch.Size([320, 100])\n",
      "torch.Size([320, 100, 254])\n",
      "torch.Size([320, 100])\n",
      "torch.Size([320, 100, 254])\n",
      "torch.Size([320, 100])\n",
      "torch.Size([320, 100, 254])\n",
      "torch.Size([320, 100])\n",
      "torch.Size([320, 100, 254])\n",
      "torch.Size([320, 100])\n",
      "torch.Size([320, 100, 254])\n",
      "torch.Size([320, 100])\n"
     ]
    },
    {
     "name": "stderr",
     "output_type": "stream",
     "text": [
      "training...:  96%|█████████▌| 127/132 [00:04<00:00, 27.56it/s]"
     ]
    },
    {
     "name": "stdout",
     "output_type": "stream",
     "text": [
      "torch.Size([320, 100, 254])\n",
      "torch.Size([320, 100])\n",
      "torch.Size([320, 100, 254])\n",
      "torch.Size([320, 100])\n",
      "torch.Size([320, 100, 254])\n",
      "torch.Size([320, 100])\n",
      "torch.Size([320, 100, 254])\n",
      "torch.Size([320, 100])\n",
      "torch.Size([320, 100, 254])\n",
      "torch.Size([320, 100])\n",
      "torch.Size([320, 100, 254])\n",
      "torch.Size([320, 100])\n",
      "torch.Size([320, 100, 254])\n",
      "torch.Size([320, 100])\n"
     ]
    },
    {
     "name": "stderr",
     "output_type": "stream",
     "text": [
      "training...: 100%|██████████| 132/132 [00:04<00:00, 26.91it/s]\n"
     ]
    },
    {
     "name": "stdout",
     "output_type": "stream",
     "text": [
      "torch.Size([320, 100, 254])\n",
      "torch.Size([320, 100])\n",
      "torch.Size([320, 100, 254])\n",
      "torch.Size([320, 100])\n",
      "torch.Size([320, 100, 254])\n",
      "torch.Size([320, 100])\n",
      "torch.Size([80, 100, 254])\n",
      "torch.Size([80, 100])\n"
     ]
    },
    {
     "name": "stderr",
     "output_type": "stream",
     "text": [
      "evaluating...:  11%|█▏        | 5/44 [00:00<00:00, 48.53it/s]"
     ]
    },
    {
     "name": "stdout",
     "output_type": "stream",
     "text": [
      "torch.Size([320, 100, 254])\n",
      "torch.Size([320, 100])\n",
      "torch.Size([320, 100, 254])\n",
      "torch.Size([320, 100])\n",
      "torch.Size([320, 100, 254])\n",
      "torch.Size([320, 100])\n",
      "torch.Size([320, 100, 254])\n",
      "torch.Size([320, 100])\n",
      "torch.Size([320, 100, 254])\n",
      "torch.Size([320, 100])\n"
     ]
    },
    {
     "name": "stderr",
     "output_type": "stream",
     "text": [
      "evaluating...:  23%|██▎       | 10/44 [00:00<00:00, 48.31it/s]"
     ]
    },
    {
     "name": "stdout",
     "output_type": "stream",
     "text": [
      "torch.Size([320, 100, 254])\n",
      "torch.Size([320, 100])\n",
      "torch.Size([320, 100, 254])\n",
      "torch.Size([320, 100])\n",
      "torch.Size([320, 100, 254])\n",
      "torch.Size([320, 100])\n",
      "torch.Size([320, 100, 254])\n",
      "torch.Size([320, 100])\n",
      "torch.Size([320, 100, 254])\n",
      "torch.Size([320, 100])\n"
     ]
    },
    {
     "name": "stderr",
     "output_type": "stream",
     "text": [
      "evaluating...:  34%|███▍      | 15/44 [00:00<00:00, 46.66it/s]"
     ]
    },
    {
     "name": "stdout",
     "output_type": "stream",
     "text": [
      "torch.Size([320, 100, 254])\n",
      "torch.Size([320, 100])\n",
      "torch.Size([320, 100, 254])\n",
      "torch.Size([320, 100])\n",
      "torch.Size([320, 100, 254])\n",
      "torch.Size([320, 100])\n",
      "torch.Size([320, 100, 254])\n",
      "torch.Size([320, 100])\n",
      "torch.Size([320, 100, 254])\n",
      "torch.Size([320, 100])\n",
      "torch.Size([320, 100, 254])\n",
      "torch.Size([320, 100])\n",
      "torch.Size([320, 100, 254])\n",
      "torch.Size([320, 100])\n",
      "torch.Size([320, 100, 254])\n",
      "torch.Size([320, 100])\n"
     ]
    },
    {
     "name": "stderr",
     "output_type": "stream",
     "text": [
      "evaluating...:  45%|████▌     | 20/44 [00:00<00:00, 40.51it/s]"
     ]
    },
    {
     "name": "stdout",
     "output_type": "stream",
     "text": [
      "torch.Size([320, 100, 254])\n",
      "torch.Size([320, 100])\n",
      "torch.Size([320, 100, 254])\n",
      "torch.Size([320, 100])\n",
      "torch.Size([320, 100, 254])\n",
      "torch.Size([320, 100])\n",
      "torch.Size([320, 100, 254])\n",
      "torch.Size([320, 100])\n"
     ]
    },
    {
     "name": "stderr",
     "output_type": "stream",
     "text": [
      "evaluating...:  57%|█████▋    | 25/44 [00:00<00:00, 39.88it/s]"
     ]
    },
    {
     "name": "stdout",
     "output_type": "stream",
     "text": [
      "torch.Size([320, 100, 254])\n",
      "torch.Size([320, 100])\n",
      "torch.Size([320, 100, 254])\n",
      "torch.Size([320, 100])\n",
      "torch.Size([320, 100, 254])\n",
      "torch.Size([320, 100])\n",
      "torch.Size([320, 100, 254])\n",
      "torch.Size([320, 100])\n"
     ]
    },
    {
     "name": "stderr",
     "output_type": "stream",
     "text": [
      "evaluating...:  68%|██████▊   | 30/44 [00:00<00:00, 39.13it/s]"
     ]
    },
    {
     "name": "stdout",
     "output_type": "stream",
     "text": [
      "torch.Size([320, 100, 254])\n",
      "torch.Size([320, 100])\n",
      "torch.Size([320, 100, 254])\n",
      "torch.Size([320, 100])\n",
      "torch.Size([320, 100, 254])\n",
      "torch.Size([320, 100])\n",
      "torch.Size([320, 100, 254])\n",
      "torch.Size([320, 100])\n",
      "torch.Size([320, 100, 254])\n",
      "torch.Size([320, 100])\n"
     ]
    },
    {
     "name": "stderr",
     "output_type": "stream",
     "text": [
      "evaluating...:  80%|███████▉  | 35/44 [00:00<00:00, 41.37it/s]"
     ]
    },
    {
     "name": "stdout",
     "output_type": "stream",
     "text": [
      "torch.Size([320, 100, 254])\n",
      "torch.Size([320, 100])\n",
      "torch.Size([320, 100, 254])\n",
      "torch.Size([320, 100])\n",
      "torch.Size([320, 100, 254])\n",
      "torch.Size([320, 100])\n",
      "torch.Size([320, 100, 254])\n",
      "torch.Size([320, 100])\n"
     ]
    },
    {
     "name": "stderr",
     "output_type": "stream",
     "text": [
      "evaluating...:  91%|█████████ | 40/44 [00:00<00:00, 41.03it/s]"
     ]
    },
    {
     "name": "stdout",
     "output_type": "stream",
     "text": [
      "torch.Size([320, 100, 254])\n",
      "torch.Size([320, 100])\n",
      "torch.Size([320, 100, 254])\n",
      "torch.Size([320, 100])\n",
      "torch.Size([320, 100, 254])\n",
      "torch.Size([320, 100])\n",
      "torch.Size([320, 100, 254])\n",
      "torch.Size([320, 100])\n",
      "torch.Size([320, 100, 254])\n",
      "torch.Size([320, 100])\n"
     ]
    },
    {
     "name": "stderr",
     "output_type": "stream",
     "text": [
      "evaluating...: 100%|██████████| 44/44 [00:01<00:00, 42.03it/s]"
     ]
    },
    {
     "name": "stdout",
     "output_type": "stream",
     "text": [
      "torch.Size([320, 100, 254])\n",
      "torch.Size([320, 100])\n",
      "torch.Size([320, 100, 254])\n",
      "torch.Size([320, 100])\n",
      "torch.Size([320, 100, 254])\n",
      "torch.Size([320, 100])\n",
      "torch.Size([240, 100, 254])\n",
      "torch.Size([240, 100])\n"
     ]
    },
    {
     "name": "stderr",
     "output_type": "stream",
     "text": [
      "\n"
     ]
    },
    {
     "name": "stdout",
     "output_type": "stream",
     "text": [
      "epoch: 2\n",
      "train_loss: 0.069, train_acc: 0.980\n",
      "valid_loss: 0.064, valid_acc: 0.981\n",
      "train_activations:  3\n"
     ]
    },
    {
     "name": "stderr",
     "output_type": "stream",
     "text": [
      "concatting activations batches: 100%|██████████| 3/3 [00:00<00:00,  6.81it/s]\n",
      "concatting activations batches: 100%|██████████| 3/3 [00:00<00:00, 21.42it/s]\n",
      "training...:   2%|▏         | 3/132 [00:00<00:04, 29.55it/s]"
     ]
    },
    {
     "name": "stdout",
     "output_type": "stream",
     "text": [
      "torch.Size([320, 100, 254])\n",
      "torch.Size([320, 100])\n",
      "torch.Size([320, 100, 254])\n",
      "torch.Size([320, 100])\n",
      "torch.Size([320, 100, 254])\n",
      "torch.Size([320, 100])\n",
      "torch.Size([320, 100, 254])\n",
      "torch.Size([320, 100])\n",
      "torch.Size([320, 100, 254])\n",
      "torch.Size([320, 100])\n",
      "torch.Size([320, 100, 254])\n",
      "torch.Size([320, 100])\n"
     ]
    },
    {
     "name": "stderr",
     "output_type": "stream",
     "text": [
      "training...:   8%|▊         | 10/132 [00:00<00:04, 27.40it/s]"
     ]
    },
    {
     "name": "stdout",
     "output_type": "stream",
     "text": [
      "torch.Size([320, 100, 254])\n",
      "torch.Size([320, 100])\n",
      "torch.Size([320, 100, 254])\n",
      "torch.Size([320, 100])\n",
      "torch.Size([320, 100, 254])\n",
      "torch.Size([320, 100])\n",
      "torch.Size([320, 100, 254])\n",
      "torch.Size([320, 100])\n",
      "torch.Size([320, 100, 254])\n",
      "torch.Size([320, 100])\n",
      "torch.Size([320, 100, 254])\n",
      "torch.Size([320, 100])\n"
     ]
    },
    {
     "name": "stderr",
     "output_type": "stream",
     "text": [
      "training...:  13%|█▎        | 17/132 [00:00<00:04, 27.30it/s]"
     ]
    },
    {
     "name": "stdout",
     "output_type": "stream",
     "text": [
      "torch.Size([320, 100, 254])\n",
      "torch.Size([320, 100])\n",
      "torch.Size([320, 100, 254])\n",
      "torch.Size([320, 100])\n",
      "torch.Size([320, 100, 254])\n",
      "torch.Size([320, 100])\n",
      "torch.Size([320, 100, 254])\n",
      "torch.Size([320, 100])\n",
      "torch.Size([320, 100, 254])\n",
      "torch.Size([320, 100])\n",
      "torch.Size([320, 100, 254])\n",
      "torch.Size([320, 100])\n"
     ]
    },
    {
     "name": "stderr",
     "output_type": "stream",
     "text": [
      "training...:  17%|█▋        | 23/132 [00:00<00:04, 25.58it/s]"
     ]
    },
    {
     "name": "stdout",
     "output_type": "stream",
     "text": [
      "torch.Size([320, 100, 254])\n",
      "torch.Size([320, 100])\n",
      "torch.Size([320, 100, 254])\n",
      "torch.Size([320, 100])\n",
      "torch.Size([320, 100, 254])\n",
      "torch.Size([320, 100])\n",
      "torch.Size([320, 100, 254])\n",
      "torch.Size([320, 100])\n",
      "torch.Size([320, 100, 254])\n",
      "torch.Size([320, 100])\n",
      "torch.Size([320, 100, 254])\n",
      "torch.Size([320, 100])\n"
     ]
    },
    {
     "name": "stderr",
     "output_type": "stream",
     "text": [
      "training...:  22%|██▏       | 29/132 [00:01<00:05, 20.27it/s]"
     ]
    },
    {
     "name": "stdout",
     "output_type": "stream",
     "text": [
      "torch.Size([320, 100, 254])\n",
      "torch.Size([320, 100])\n",
      "torch.Size([320, 100, 254])\n",
      "torch.Size([320, 100])\n",
      "torch.Size([320, 100, 254])\n",
      "torch.Size([320, 100])\n",
      "torch.Size([320, 100, 254])\n",
      "torch.Size([320, 100])\n",
      "torch.Size([320, 100, 254])\n",
      "torch.Size([320, 100])\n"
     ]
    },
    {
     "name": "stderr",
     "output_type": "stream",
     "text": [
      "training...:  24%|██▍       | 32/132 [00:01<00:04, 20.90it/s]"
     ]
    },
    {
     "name": "stdout",
     "output_type": "stream",
     "text": [
      "torch.Size([320, 100, 254])\n",
      "torch.Size([320, 100])\n",
      "torch.Size([320, 100, 254])\n",
      "torch.Size([320, 100])\n",
      "torch.Size([320, 100, 254])\n",
      "torch.Size([320, 100])\n",
      "torch.Size([320, 100, 254])\n",
      "torch.Size([320, 100])\n",
      "torch.Size([320, 100, 254])\n",
      "torch.Size([320, 100])\n"
     ]
    },
    {
     "name": "stderr",
     "output_type": "stream",
     "text": [
      "training...:  29%|██▉       | 38/132 [00:01<00:04, 22.75it/s]"
     ]
    },
    {
     "name": "stdout",
     "output_type": "stream",
     "text": [
      "torch.Size([320, 100, 254])\n",
      "torch.Size([320, 100])\n",
      "torch.Size([320, 100, 254])\n",
      "torch.Size([320, 100])\n",
      "torch.Size([320, 100, 254])\n",
      "torch.Size([320, 100])\n",
      "torch.Size([320, 100, 254])\n",
      "torch.Size([320, 100])\n",
      "torch.Size([320, 100, 254])\n",
      "torch.Size([320, 100])\n"
     ]
    },
    {
     "name": "stderr",
     "output_type": "stream",
     "text": [
      "training...:  33%|███▎      | 44/132 [00:01<00:03, 23.82it/s]"
     ]
    },
    {
     "name": "stdout",
     "output_type": "stream",
     "text": [
      "torch.Size([320, 100, 254])\n",
      "torch.Size([320, 100])\n",
      "torch.Size([320, 100, 254])\n",
      "torch.Size([320, 100])\n",
      "torch.Size([320, 100, 254])\n",
      "torch.Size([320, 100])\n",
      "torch.Size([320, 100, 254])\n",
      "torch.Size([320, 100])\n",
      "torch.Size([320, 100, 254])\n",
      "torch.Size([320, 100])\n",
      "torch.Size([320, 100, 254])\n",
      "torch.Size([320, 100])\n"
     ]
    },
    {
     "name": "stderr",
     "output_type": "stream",
     "text": [
      "training...:  38%|███▊      | 50/132 [00:02<00:03, 24.18it/s]"
     ]
    },
    {
     "name": "stdout",
     "output_type": "stream",
     "text": [
      "torch.Size([320, 100, 254])\n",
      "torch.Size([320, 100])\n",
      "torch.Size([320, 100, 254])\n",
      "torch.Size([320, 100])\n",
      "torch.Size([320, 100, 254])\n",
      "torch.Size([320, 100])\n",
      "torch.Size([320, 100, 254])\n",
      "torch.Size([320, 100])\n",
      "torch.Size([320, 100, 254])\n",
      "torch.Size([320, 100])\n"
     ]
    },
    {
     "name": "stderr",
     "output_type": "stream",
     "text": [
      "training...:  40%|████      | 53/132 [00:02<00:03, 23.65it/s]"
     ]
    },
    {
     "name": "stdout",
     "output_type": "stream",
     "text": [
      "torch.Size([320, 100, 254])\n",
      "torch.Size([320, 100])\n",
      "torch.Size([320, 100, 254])\n",
      "torch.Size([320, 100])\n",
      "torch.Size([320, 100, 254])\n",
      "torch.Size([320, 100])\n",
      "torch.Size([320, 100, 254])\n",
      "torch.Size([320, 100])\n",
      "torch.Size([320, 100, 254])\n",
      "torch.Size([320, 100])\n"
     ]
    },
    {
     "name": "stderr",
     "output_type": "stream",
     "text": [
      "training...:  45%|████▍     | 59/132 [00:02<00:03, 23.12it/s]"
     ]
    },
    {
     "name": "stdout",
     "output_type": "stream",
     "text": [
      "torch.Size([320, 100, 254])\n",
      "torch.Size([320, 100])\n",
      "torch.Size([320, 100, 254])\n",
      "torch.Size([320, 100])\n",
      "torch.Size([320, 100, 254])\n",
      "torch.Size([320, 100])\n",
      "torch.Size([320, 100, 254])\n",
      "torch.Size([320, 100])\n",
      "torch.Size([320, 100, 254])\n",
      "torch.Size([320, 100])\n"
     ]
    },
    {
     "name": "stderr",
     "output_type": "stream",
     "text": [
      "training...:  49%|████▉     | 65/132 [00:02<00:02, 22.85it/s]"
     ]
    },
    {
     "name": "stdout",
     "output_type": "stream",
     "text": [
      "torch.Size([320, 100, 254])\n",
      "torch.Size([320, 100])\n",
      "torch.Size([320, 100, 254])\n",
      "torch.Size([320, 100])\n",
      "torch.Size([320, 100, 254])\n",
      "torch.Size([320, 100])\n",
      "torch.Size([320, 100, 254])\n",
      "torch.Size([320, 100])\n",
      "torch.Size([320, 100, 254])\n",
      "torch.Size([320, 100])\n"
     ]
    },
    {
     "name": "stderr",
     "output_type": "stream",
     "text": [
      "training...:  52%|█████▏    | 68/132 [00:02<00:02, 22.76it/s]"
     ]
    },
    {
     "name": "stdout",
     "output_type": "stream",
     "text": [
      "torch.Size([320, 100, 254])\n",
      "torch.Size([320, 100])\n",
      "torch.Size([320, 100, 254])\n",
      "torch.Size([320, 100])\n",
      "torch.Size([320, 100, 254])\n",
      "torch.Size([320, 100])\n",
      "torch.Size([320, 100, 254])\n",
      "torch.Size([320, 100])\n",
      "torch.Size([320, 100, 254])\n",
      "torch.Size([320, 100])\n"
     ]
    },
    {
     "name": "stderr",
     "output_type": "stream",
     "text": [
      "training...:  57%|█████▋    | 75/132 [00:03<00:02, 25.08it/s]"
     ]
    },
    {
     "name": "stdout",
     "output_type": "stream",
     "text": [
      "torch.Size([320, 100, 254])\n",
      "torch.Size([320, 100])\n",
      "torch.Size([320, 100, 254])\n",
      "torch.Size([320, 100])\n",
      "torch.Size([320, 100, 254])\n",
      "torch.Size([320, 100])\n",
      "torch.Size([320, 100, 254])\n",
      "torch.Size([320, 100])\n",
      "torch.Size([320, 100, 254])\n",
      "torch.Size([320, 100])\n",
      "torch.Size([320, 100, 254])\n",
      "torch.Size([320, 100])\n",
      "torch.Size([320, 100, 254])\n",
      "torch.Size([320, 100])\n"
     ]
    },
    {
     "name": "stderr",
     "output_type": "stream",
     "text": [
      "training...:  61%|██████▏   | 81/132 [00:03<00:01, 26.35it/s]"
     ]
    },
    {
     "name": "stdout",
     "output_type": "stream",
     "text": [
      "torch.Size([320, 100, 254])\n",
      "torch.Size([320, 100])\n",
      "torch.Size([320, 100, 254])\n",
      "torch.Size([320, 100])\n",
      "torch.Size([320, 100, 254])\n",
      "torch.Size([320, 100])\n",
      "torch.Size([320, 100, 254])\n",
      "torch.Size([320, 100])\n",
      "torch.Size([320, 100, 254])\n",
      "torch.Size([320, 100])\n",
      "torch.Size([320, 100, 254])\n",
      "torch.Size([320, 100])\n"
     ]
    },
    {
     "name": "stderr",
     "output_type": "stream",
     "text": [
      "training...:  66%|██████▌   | 87/132 [00:03<00:01, 25.48it/s]"
     ]
    },
    {
     "name": "stdout",
     "output_type": "stream",
     "text": [
      "torch.Size([320, 100, 254])\n",
      "torch.Size([320, 100])\n",
      "torch.Size([320, 100, 254])\n",
      "torch.Size([320, 100])\n",
      "torch.Size([320, 100, 254])\n",
      "torch.Size([320, 100])\n",
      "torch.Size([320, 100, 254])\n",
      "torch.Size([320, 100])\n",
      "torch.Size([320, 100, 254])\n",
      "torch.Size([320, 100])\n"
     ]
    },
    {
     "name": "stderr",
     "output_type": "stream",
     "text": [
      "training...:  70%|███████   | 93/132 [00:03<00:01, 24.55it/s]"
     ]
    },
    {
     "name": "stdout",
     "output_type": "stream",
     "text": [
      "torch.Size([320, 100, 254])\n",
      "torch.Size([320, 100])\n",
      "torch.Size([320, 100, 254])\n",
      "torch.Size([320, 100])\n",
      "torch.Size([320, 100, 254])\n",
      "torch.Size([320, 100])\n",
      "torch.Size([320, 100, 254])\n",
      "torch.Size([320, 100])\n",
      "torch.Size([320, 100, 254])\n",
      "torch.Size([320, 100])\n"
     ]
    },
    {
     "name": "stderr",
     "output_type": "stream",
     "text": [
      "training...:  75%|███████▌  | 99/132 [00:04<00:01, 26.46it/s]"
     ]
    },
    {
     "name": "stdout",
     "output_type": "stream",
     "text": [
      "torch.Size([320, 100, 254])\n",
      "torch.Size([320, 100])\n",
      "torch.Size([320, 100, 254])\n",
      "torch.Size([320, 100])\n",
      "torch.Size([320, 100, 254])\n",
      "torch.Size([320, 100])\n",
      "torch.Size([320, 100, 254])\n",
      "torch.Size([320, 100])\n",
      "torch.Size([320, 100, 254])\n",
      "torch.Size([320, 100])\n",
      "torch.Size([320, 100, 254])\n",
      "torch.Size([320, 100])\n"
     ]
    },
    {
     "name": "stderr",
     "output_type": "stream",
     "text": [
      "training...:  78%|███████▊  | 103/132 [00:04<00:01, 27.77it/s]"
     ]
    },
    {
     "name": "stdout",
     "output_type": "stream",
     "text": [
      "torch.Size([320, 100, 254])\n",
      "torch.Size([320, 100])\n",
      "torch.Size([320, 100, 254])\n",
      "torch.Size([320, 100])\n",
      "torch.Size([320, 100, 254])\n",
      "torch.Size([320, 100])\n",
      "torch.Size([320, 100, 254])\n",
      "torch.Size([320, 100])\n",
      "torch.Size([320, 100, 254])\n",
      "torch.Size([320, 100])\n",
      "torch.Size([320, 100, 254])\n",
      "torch.Size([320, 100])\n"
     ]
    },
    {
     "name": "stderr",
     "output_type": "stream",
     "text": [
      "training...:  83%|████████▎ | 109/132 [00:04<00:00, 26.99it/s]"
     ]
    },
    {
     "name": "stdout",
     "output_type": "stream",
     "text": [
      "torch.Size([320, 100, 254])\n",
      "torch.Size([320, 100])\n",
      "torch.Size([320, 100, 254])\n",
      "torch.Size([320, 100])\n",
      "torch.Size([320, 100, 254])\n",
      "torch.Size([320, 100])\n",
      "torch.Size([320, 100, 254])\n",
      "torch.Size([320, 100])\n",
      "torch.Size([320, 100, 254])\n",
      "torch.Size([320, 100])\n",
      "torch.Size([320, 100, 254])\n"
     ]
    },
    {
     "name": "stderr",
     "output_type": "stream",
     "text": [
      "training...:  87%|████████▋ | 115/132 [00:04<00:00, 25.96it/s]"
     ]
    },
    {
     "name": "stdout",
     "output_type": "stream",
     "text": [
      "torch.Size([320, 100])\n",
      "torch.Size([320, 100, 254])\n",
      "torch.Size([320, 100])\n",
      "torch.Size([320, 100, 254])\n",
      "torch.Size([320, 100])\n",
      "torch.Size([320, 100, 254])\n",
      "torch.Size([320, 100])\n",
      "torch.Size([320, 100, 254])\n",
      "torch.Size([320, 100])\n",
      "torch.Size([320, 100, 254])\n",
      "torch.Size([320, 100])\n"
     ]
    },
    {
     "name": "stderr",
     "output_type": "stream",
     "text": [
      "training...:  92%|█████████▏| 121/132 [00:04<00:00, 25.43it/s]"
     ]
    },
    {
     "name": "stdout",
     "output_type": "stream",
     "text": [
      "torch.Size([320, 100, 254])\n",
      "torch.Size([320, 100])\n",
      "torch.Size([320, 100, 254])\n",
      "torch.Size([320, 100])\n",
      "torch.Size([320, 100, 254])\n",
      "torch.Size([320, 100])\n",
      "torch.Size([320, 100, 254])\n",
      "torch.Size([320, 100])\n",
      "torch.Size([320, 100, 254])\n",
      "torch.Size([320, 100])\n"
     ]
    },
    {
     "name": "stderr",
     "output_type": "stream",
     "text": [
      "training...:  94%|█████████▍| 124/132 [00:05<00:00, 25.29it/s]"
     ]
    },
    {
     "name": "stdout",
     "output_type": "stream",
     "text": [
      "torch.Size([320, 100, 254])\n",
      "torch.Size([320, 100])\n",
      "torch.Size([320, 100, 254])\n",
      "torch.Size([320, 100])\n",
      "torch.Size([320, 100, 254])\n",
      "torch.Size([320, 100])\n",
      "torch.Size([320, 100, 254])\n",
      "torch.Size([320, 100])\n",
      "torch.Size([320, 100, 254])\n",
      "torch.Size([320, 100])\n",
      "torch.Size([320, 100, 254])\n",
      "torch.Size([320, 100])\n"
     ]
    },
    {
     "name": "stderr",
     "output_type": "stream",
     "text": [
      "training...: 100%|██████████| 132/132 [00:05<00:00, 24.73it/s]\n"
     ]
    },
    {
     "name": "stdout",
     "output_type": "stream",
     "text": [
      "torch.Size([320, 100, 254])\n",
      "torch.Size([320, 100])\n",
      "torch.Size([320, 100, 254])\n",
      "torch.Size([320, 100])\n",
      "torch.Size([320, 100, 254])\n",
      "torch.Size([320, 100])\n",
      "torch.Size([320, 100, 254])\n",
      "torch.Size([320, 100])\n",
      "torch.Size([80, 100, 254])\n",
      "torch.Size([80, 100])\n"
     ]
    },
    {
     "name": "stderr",
     "output_type": "stream",
     "text": [
      "evaluating...:   0%|          | 0/44 [00:00<?, ?it/s]"
     ]
    },
    {
     "name": "stdout",
     "output_type": "stream",
     "text": [
      "torch.Size([320, 100, 254])\n",
      "torch.Size([320, 100])\n"
     ]
    },
    {
     "name": "stderr",
     "output_type": "stream",
     "text": [
      "evaluating...:  20%|██        | 9/44 [00:00<00:00, 40.21it/s]"
     ]
    },
    {
     "name": "stdout",
     "output_type": "stream",
     "text": [
      "torch.Size([320, 100, 254])\n",
      "torch.Size([320, 100])\n",
      "torch.Size([320, 100, 254])\n",
      "torch.Size([320, 100])\n",
      "torch.Size([320, 100, 254])\n",
      "torch.Size([320, 100])\n",
      "torch.Size([320, 100, 254])\n",
      "torch.Size([320, 100])\n",
      "torch.Size([320, 100, 254])\n",
      "torch.Size([320, 100])\n",
      "torch.Size([320, 100, 254])\n",
      "torch.Size([320, 100])\n",
      "torch.Size([320, 100, 254])\n",
      "torch.Size([320, 100])\n",
      "torch.Size([320, 100, 254])\n",
      "torch.Size([320, 100])\n",
      "torch.Size([320, 100, 254])\n",
      "torch.Size([320, 100])\n"
     ]
    },
    {
     "name": "stderr",
     "output_type": "stream",
     "text": [
      "evaluating...:  32%|███▏      | 14/44 [00:00<00:00, 38.53it/s]"
     ]
    },
    {
     "name": "stdout",
     "output_type": "stream",
     "text": [
      "torch.Size([320, 100, 254])\n",
      "torch.Size([320, 100])\n",
      "torch.Size([320, 100, 254])\n",
      "torch.Size([320, 100])\n",
      "torch.Size([320, 100, 254])\n",
      "torch.Size([320, 100])\n",
      "torch.Size([320, 100, 254])\n",
      "torch.Size([320, 100])\n",
      "torch.Size([320, 100, 254])\n",
      "torch.Size([320, 100])\n",
      "torch.Size([320, 100, 254])\n",
      "torch.Size([320, 100])\n",
      "torch.Size([320, 100, 254])\n",
      "torch.Size([320, 100])\n"
     ]
    },
    {
     "name": "stderr",
     "output_type": "stream",
     "text": [
      "evaluating...:  41%|████      | 18/44 [00:00<00:00, 37.48it/s]"
     ]
    },
    {
     "name": "stdout",
     "output_type": "stream",
     "text": [
      "torch.Size([320, 100, 254])\n",
      "torch.Size([320, 100])\n"
     ]
    },
    {
     "name": "stderr",
     "output_type": "stream",
     "text": [
      "evaluating...:  50%|█████     | 22/44 [00:00<00:00, 36.84it/s]"
     ]
    },
    {
     "name": "stdout",
     "output_type": "stream",
     "text": [
      "torch.Size([320, 100, 254])\n",
      "torch.Size([320, 100])\n",
      "torch.Size([320, 100, 254])\n",
      "torch.Size([320, 100])\n",
      "torch.Size([320, 100, 254])\n",
      "torch.Size([320, 100])\n",
      "torch.Size([320, 100, 254])\n",
      "torch.Size([320, 100])\n",
      "torch.Size([320, 100, 254])\n",
      "torch.Size([320, 100])\n",
      "torch.Size([320, 100, 254])\n",
      "torch.Size([320, 100])\n",
      "torch.Size([320, 100, 254])\n",
      "torch.Size([320, 100])\n"
     ]
    },
    {
     "name": "stderr",
     "output_type": "stream",
     "text": [
      "evaluating...:  59%|█████▉    | 26/44 [00:00<00:00, 36.35it/s]"
     ]
    },
    {
     "name": "stdout",
     "output_type": "stream",
     "text": [
      "torch.Size([320, 100, 254])\n",
      "torch.Size([320, 100])\n"
     ]
    },
    {
     "name": "stderr",
     "output_type": "stream",
     "text": [
      "evaluating...:  68%|██████▊   | 30/44 [00:00<00:00, 36.10it/s]"
     ]
    },
    {
     "name": "stdout",
     "output_type": "stream",
     "text": [
      "torch.Size([320, 100, 254])\n",
      "torch.Size([320, 100])\n",
      "torch.Size([320, 100, 254])\n",
      "torch.Size([320, 100])\n",
      "torch.Size([320, 100, 254])\n",
      "torch.Size([320, 100])\n",
      "torch.Size([320, 100, 254])\n",
      "torch.Size([320, 100])\n",
      "torch.Size([320, 100, 254])\n",
      "torch.Size([320, 100])\n",
      "torch.Size([320, 100, 254])\n",
      "torch.Size([320, 100])\n",
      "torch.Size([320, 100, 254])\n",
      "torch.Size([320, 100])\n"
     ]
    },
    {
     "name": "stderr",
     "output_type": "stream",
     "text": [
      "evaluating...:  77%|███████▋  | 34/44 [00:00<00:00, 35.91it/s]"
     ]
    },
    {
     "name": "stdout",
     "output_type": "stream",
     "text": [
      "torch.Size([320, 100, 254])\n",
      "torch.Size([320, 100])\n"
     ]
    },
    {
     "name": "stderr",
     "output_type": "stream",
     "text": [
      "evaluating...:  89%|████████▊ | 39/44 [00:01<00:00, 37.97it/s]"
     ]
    },
    {
     "name": "stdout",
     "output_type": "stream",
     "text": [
      "torch.Size([320, 100, 254])\n",
      "torch.Size([320, 100])\n",
      "torch.Size([320, 100, 254])\n",
      "torch.Size([320, 100])\n",
      "torch.Size([320, 100, 254])\n",
      "torch.Size([320, 100])\n",
      "torch.Size([320, 100, 254])\n",
      "torch.Size([320, 100])\n",
      "torch.Size([320, 100, 254])\n",
      "torch.Size([320, 100])\n",
      "torch.Size([320, 100, 254])\n",
      "torch.Size([320, 100])\n",
      "torch.Size([320, 100, 254])\n",
      "torch.Size([320, 100])\n",
      "torch.Size([320, 100, 254])\n",
      "torch.Size([320, 100])\n",
      "torch.Size([320, 100, 254])\n",
      "torch.Size([320, 100])\n"
     ]
    },
    {
     "name": "stderr",
     "output_type": "stream",
     "text": [
      "evaluating...: 100%|██████████| 44/44 [00:01<00:00, 38.49it/s]"
     ]
    },
    {
     "name": "stdout",
     "output_type": "stream",
     "text": [
      "torch.Size([240, 100, 254])\n",
      "torch.Size([240, 100])\n"
     ]
    },
    {
     "name": "stderr",
     "output_type": "stream",
     "text": [
      "\n"
     ]
    },
    {
     "name": "stdout",
     "output_type": "stream",
     "text": [
      "epoch: 3\n",
      "train_loss: 0.047, train_acc: 0.988\n",
      "valid_loss: 0.056, valid_acc: 0.984\n",
      "train_activations:  3\n"
     ]
    },
    {
     "name": "stderr",
     "output_type": "stream",
     "text": [
      "concatting activations batches: 100%|██████████| 3/3 [00:00<00:00,  4.08it/s]\n",
      "concatting activations batches: 100%|██████████| 3/3 [00:00<00:00, 21.13it/s]\n"
     ]
    }
   ],
   "source": [
    "n_epochs = 4\n",
    "best_valid_loss = float(\"inf\")\n",
    "\n",
    "metrics = collections.defaultdict(list)\n",
    "\n",
    "outputs = {}\n",
    "\n",
    "for epoch in range(n_epochs):\n",
    "    train_loss, train_acc, train_activations, train_labels = train(\n",
    "        train_data_loader, model, criterion, optimizer, device\n",
    "    )\n",
    "    valid_loss, valid_acc, val_activations, val_labels = evaluate(valid_data_loader, model, criterion, device)\n",
    "    metrics[\"train_losses\"].append(train_loss)\n",
    "    metrics[\"train_accs\"].append(train_acc)\n",
    "    metrics[\"valid_losses\"].append(valid_loss)\n",
    "    metrics[\"valid_accs\"].append(valid_acc)\n",
    "    if valid_loss < best_valid_loss:\n",
    "        best_valid_loss = valid_loss\n",
    "        torch.save(model.state_dict(), \"cnn.pt\")\n",
    "    print(f\"epoch: {epoch}\")\n",
    "    print(f\"train_loss: {train_loss:.3f}, train_acc: {train_acc:.3f}\")\n",
    "    print(f\"valid_loss: {valid_loss:.3f}, valid_acc: {valid_acc:.3f}\")\n",
    "\n",
    "\n",
    "\n",
    "    ## cat the batches together\n",
    "\n",
    "    print(\"train_activations: \", len(train_activations))   \n",
    "\n",
    "\n",
    "    test = {}\n",
    "\n",
    "    for key, value in tqdm.tqdm(train_activations.items(), desc=\"concatting activations batches\"):\n",
    "        train_activations[key] = torch.cat(value, dim=0)\n",
    "        \n",
    "    for key, value in tqdm.tqdm(val_activations.items(), desc=\"concatting activations batches\"):\n",
    "        val_activations[key] = torch.cat(value, dim=0)\n",
    "\n",
    "    # train_activations = torch.cat(train_activations, dim=0)\n",
    "    # val_activations = torch.cat(val_activations, dim=0)\n",
    "\n",
    "    train_labels = torch.cat(train_labels, dim=0)\n",
    "    val_labels = torch.cat(val_labels, dim=0)\n",
    "\n",
    "    ### save activations\n",
    "\n",
    "    train_outputs = {\n",
    "        \"activations\": train_activations,\n",
    "        \"labels\": train_labels\n",
    "    }\n",
    "    val_outputs = {\n",
    "        \"activations\": val_activations,\n",
    "        \"labels\": val_labels\n",
    "    }\n",
    "    outputs[epoch] = {\"train\": train_outputs, \"val\": val_outputs}"
   ]
  },
  {
   "cell_type": "code",
   "execution_count": 44,
   "id": "88305955",
   "metadata": {},
   "outputs": [
    {
     "name": "stdout",
     "output_type": "stream",
     "text": [
      "\n",
      "embedding\n",
      "convs\n",
      "convs.0\n",
      "convs.1\n",
      "convs.2\n",
      "fc\n",
      "dropout\n"
     ]
    }
   ],
   "source": [
    "for n,m in model.named_modules():\n",
    "    print(n)"
   ]
  },
  {
   "cell_type": "code",
   "execution_count": 74,
   "id": "407ed2c4",
   "metadata": {},
   "outputs": [
    {
     "name": "stdout",
     "output_type": "stream",
     "text": [
      "<class 'dict'>\n",
      "convs.0\n",
      "torch.Size([42000, 25400])\n",
      "torch.float32\n",
      "convs.1\n",
      "torch.Size([42000, 25200])\n",
      "torch.float32\n",
      "convs.2\n",
      "torch.Size([42000, 25000])\n",
      "torch.float32\n",
      "<class 'dict'>\n",
      "convs.0\n",
      "torch.Size([42000, 25400])\n",
      "torch.float32\n",
      "convs.1\n",
      "torch.Size([42000, 25200])\n",
      "torch.float32\n",
      "convs.2\n",
      "torch.Size([42000, 25000])\n",
      "torch.float32\n",
      "<class 'dict'>\n",
      "convs.0\n",
      "torch.Size([42000, 25400])\n",
      "torch.float32\n",
      "convs.1\n",
      "torch.Size([42000, 25200])\n",
      "torch.float32\n",
      "convs.2\n",
      "torch.Size([42000, 25000])\n",
      "torch.float32\n",
      "<class 'dict'>\n",
      "convs.0\n",
      "torch.Size([42000, 25400])\n",
      "torch.float32\n",
      "convs.1\n",
      "torch.Size([42000, 25200])\n",
      "torch.float32\n",
      "convs.2\n",
      "torch.Size([42000, 25000])\n",
      "torch.float32\n"
     ]
    }
   ],
   "source": [
    "\n",
    "\n",
    "for epoch in outputs:\n",
    "    dicttt : dict = outputs[epoch]\n",
    "    train_outputs = dicttt[\"train\"]\n",
    "    activations_t = train_outputs[\"activations\"]\n",
    "    print(type(activations_t))\n",
    "    for key in activations_t.keys():\n",
    "        print(key)\n",
    "        print(activations_t[key].size())\n",
    "        print(activations_t[key].dtype)\n",
    "        \n",
    "\n"
   ]
  },
  {
   "cell_type": "code",
   "execution_count": 107,
   "id": "30cf7145",
   "metadata": {},
   "outputs": [
    {
     "name": "stdout",
     "output_type": "stream",
     "text": [
      "CNN(\n",
      "  (embedding): Embedding(4196, 300, padding_idx=1)\n",
      "  (convs): ModuleList(\n",
      "    (0): Conv1d(300, 100, kernel_size=(3,), stride=(1,))\n",
      "    (1): Conv1d(300, 100, kernel_size=(5,), stride=(1,))\n",
      "    (2): Conv1d(300, 100, kernel_size=(7,), stride=(1,))\n",
      "  )\n",
      "  (fc): Linear(in_features=300, out_features=2, bias=True)\n",
      "  (dropout): Dropout(p=0.25, inplace=False)\n",
      ")\n"
     ]
    }
   ],
   "source": [
    "print(model)"
   ]
  },
  {
   "cell_type": "code",
   "execution_count": 75,
   "id": "03860181",
   "metadata": {},
   "outputs": [
    {
     "data": {
      "image/png": "[encoded data removed]",
      "text/plain": [
       "<Figure size 1000x600 with 1 Axes>"
      ]
     },
     "metadata": {},
     "output_type": "display_data"
    }
   ],
   "source": [
    "fig = plt.figure(figsize=(10, 6))\n",
    "ax = fig.add_subplot(1, 1, 1)\n",
    "ax.plot(metrics[\"train_losses\"], label=\"train loss\")\n",
    "ax.plot(metrics[\"valid_losses\"], label=\"valid loss\")\n",
    "ax.set_xlabel(\"epoch\")\n",
    "ax.set_ylabel(\"loss\")\n",
    "ax.set_xticks(range(n_epochs))\n",
    "ax.legend()\n",
    "ax.grid()"
   ]
  },
  {
   "cell_type": "code",
   "execution_count": 76,
   "id": "df5d03f9",
   "metadata": {},
   "outputs": [
    {
     "data": {
      "image/png": "[encoded data removed]",
      "text/plain": [
       "<Figure size 1000x600 with 1 Axes>"
      ]
     },
     "metadata": {},
     "output_type": "display_data"
    }
   ],
   "source": [
    "fig = plt.figure(figsize=(10, 6))\n",
    "ax = fig.add_subplot(1, 1, 1)\n",
    "ax.plot(metrics[\"train_accs\"], label=\"train accuracy\")\n",
    "ax.plot(metrics[\"valid_accs\"], label=\"valid accuracy\")\n",
    "ax.set_xlabel(\"epoch\")\n",
    "ax.set_ylabel(\"loss\")\n",
    "ax.set_xticks(range(n_epochs))\n",
    "ax.legend()\n",
    "ax.grid()"
   ]
  },
  {
   "cell_type": "code",
   "execution_count": 48,
   "id": "bb00498a",
   "metadata": {},
   "outputs": [
    {
     "name": "stderr",
     "output_type": "stream",
     "text": [
      "evaluating...:  18%|█▊        | 4/22 [00:00<00:00, 38.39it/s]"
     ]
    },
    {
     "name": "stderr",
     "output_type": "stream",
     "text": [
      "evaluating...: 100%|██████████| 22/22 [00:00<00:00, 48.48it/s]\n"
     ]
    }
   ],
   "source": [
    "model.load_state_dict(torch.load(\"cnn.pt\"))\n",
    "\n",
    "test_loss, test_acc, test_activations, test_epoch_labels = evaluate(test_data_loader, model, criterion, device)"
   ]
  },
  {
   "cell_type": "code",
   "execution_count": 77,
   "id": "8b8b85f2",
   "metadata": {},
   "outputs": [],
   "source": [
    "torch.save(outputs, \"outputs.pt\")"
   ]
  },
  {
   "cell_type": "code",
   "execution_count": 49,
   "id": "39eacaaf",
   "metadata": {},
   "outputs": [
    {
     "name": "stdout",
     "output_type": "stream",
     "text": [
      "test_loss: 0.066, test_acc: 0.982\n"
     ]
    }
   ],
   "source": [
    "print(f\"test_loss: {test_loss:.3f}, test_acc: {test_acc:.3f}\")"
   ]
  },
  {
   "cell_type": "code",
   "execution_count": 48,
   "id": "7c08b412",
   "metadata": {},
   "outputs": [],
   "source": [
    "def predict_sentiment(text, model, tokenizer, vocab, device, min_length, pad_index):\n",
    "    tokens = tokenizer(text)\n",
    "    ids = vocab.lookup_indices(tokens)\n",
    "    if len(ids) < min_length:\n",
    "        ids += [pad_index] * (min_length - len(ids))\n",
    "    tensor = torch.LongTensor(ids).unsqueeze(dim=0).to(device)\n",
    "    prediction = model(tensor).squeeze(dim=0)\n",
    "    probability = torch.softmax(prediction, dim=-1)\n",
    "    predicted_class = prediction.argmax(dim=-1).item()\n",
    "    predicted_probability = probability[predicted_class].item()\n",
    "    return predicted_class, predicted_probability"
   ]
  },
  {
   "cell_type": "code",
   "execution_count": 49,
   "id": "4fd0877a",
   "metadata": {},
   "outputs": [
    {
     "data": {
      "text/plain": [
       "(12, 0.954708456993103)"
      ]
     },
     "execution_count": 49,
     "metadata": {},
     "output_type": "execute_result"
    }
   ],
   "source": [
    "text = \"This film is terrible!\"\n",
    "min_length = max(filter_sizes)\n",
    "\n",
    "predict_sentiment(text, model, tokenizer, vocab, device, min_length, pad_index)"
   ]
  },
  {
   "cell_type": "code",
   "execution_count": 50,
   "id": "31063352",
   "metadata": {},
   "outputs": [
    {
     "data": {
      "text/plain": [
       "(12, 0.921493649482727)"
      ]
     },
     "execution_count": 50,
     "metadata": {},
     "output_type": "execute_result"
    }
   ],
   "source": [
    "text = \"This film is great!\"\n",
    "\n",
    "predict_sentiment(text, model, tokenizer, vocab, device, min_length, pad_index)"
   ]
  },
  {
   "cell_type": "code",
   "execution_count": 51,
   "id": "162aea28",
   "metadata": {},
   "outputs": [
    {
     "data": {
      "text/plain": [
       "(12, 0.9487431049346924)"
      ]
     },
     "execution_count": 51,
     "metadata": {},
     "output_type": "execute_result"
    }
   ],
   "source": [
    "text = \"This film is not terrible, it's great!\"\n",
    "\n",
    "predict_sentiment(text, model, tokenizer, vocab, device, min_length, pad_index)"
   ]
  },
  {
   "cell_type": "code",
   "execution_count": 52,
   "id": "83c036aa",
   "metadata": {},
   "outputs": [
    {
     "data": {
      "text/plain": [
       "(12, 0.9126440286636353)"
      ]
     },
     "execution_count": 52,
     "metadata": {},
     "output_type": "execute_result"
    }
   ],
   "source": [
    "text = \"This film is not great, it's terrible!\"\n",
    "\n",
    "predict_sentiment(text, model, tokenizer, vocab, device, min_length, pad_index)"
   ]
  },
  {
   "cell_type": "code",
   "execution_count": 51,
   "id": "73afacde",
   "metadata": {},
   "outputs": [
    {
     "ename": "KeyboardInterrupt",
     "evalue": "",
     "output_type": "error",
     "traceback": [
      "\u001b[0;31m---------------------------------------------------------------------------\u001b[0m",
      "\u001b[0;31mKeyboardInterrupt\u001b[0m                         Traceback (most recent call last)",
      "\u001b[0;32m/tmp/ipykernel_3191787/4236543493.py\u001b[0m in \u001b[0;36m<cell line: 1>\u001b[0;34m()\u001b[0m\n\u001b[0;32m----> 1\u001b[0;31m \u001b[0mactivations\u001b[0m \u001b[0;34m=\u001b[0m \u001b[0mtorch\u001b[0m\u001b[0;34m.\u001b[0m\u001b[0mload\u001b[0m\u001b[0;34m(\u001b[0m\u001b[0;34m\"outputs.pt\"\u001b[0m\u001b[0;34m)\u001b[0m\u001b[0;34m\u001b[0m\u001b[0;34m\u001b[0m\u001b[0m\n\u001b[0m\u001b[1;32m      2\u001b[0m \u001b[0mprint\u001b[0m\u001b[0;34m(\u001b[0m\u001b[0mactivations\u001b[0m\u001b[0;34m.\u001b[0m\u001b[0mkeys\u001b[0m\u001b[0;34m(\u001b[0m\u001b[0;34m)\u001b[0m\u001b[0;34m)\u001b[0m\u001b[0;34m\u001b[0m\u001b[0;34m\u001b[0m\u001b[0m\n\u001b[1;32m      3\u001b[0m \u001b[0mforth_epoch\u001b[0m \u001b[0;34m=\u001b[0m \u001b[0mactivations\u001b[0m\u001b[0;34m[\u001b[0m\u001b[0;36m3\u001b[0m\u001b[0;34m]\u001b[0m\u001b[0;34m\u001b[0m\u001b[0;34m\u001b[0m\u001b[0m\n\u001b[1;32m      4\u001b[0m \u001b[0mprint\u001b[0m\u001b[0;34m(\u001b[0m\u001b[0mforth_epoch\u001b[0m\u001b[0;34m.\u001b[0m\u001b[0mkeys\u001b[0m\u001b[0;34m(\u001b[0m\u001b[0;34m)\u001b[0m\u001b[0;34m)\u001b[0m\u001b[0;34m\u001b[0m\u001b[0;34m\u001b[0m\u001b[0m\n",
      "\u001b[0;32m~/miniconda3/envs/BA-conda-env1/lib/python3.9/site-packages/torch/serialization.py\u001b[0m in \u001b[0;36mload\u001b[0;34m(f, map_location, pickle_module, weights_only, **pickle_load_args)\u001b[0m\n\u001b[1;32m    787\u001b[0m                     \u001b[0;32mexcept\u001b[0m \u001b[0mRuntimeError\u001b[0m \u001b[0;32mas\u001b[0m \u001b[0me\u001b[0m\u001b[0;34m:\u001b[0m\u001b[0;34m\u001b[0m\u001b[0;34m\u001b[0m\u001b[0m\n\u001b[1;32m    788\u001b[0m                         \u001b[0;32mraise\u001b[0m \u001b[0mpickle\u001b[0m\u001b[0;34m.\u001b[0m\u001b[0mUnpicklingError\u001b[0m\u001b[0;34m(\u001b[0m\u001b[0mUNSAFE_MESSAGE\u001b[0m \u001b[0;34m+\u001b[0m \u001b[0mstr\u001b[0m\u001b[0;34m(\u001b[0m\u001b[0me\u001b[0m\u001b[0;34m)\u001b[0m\u001b[0;34m)\u001b[0m \u001b[0;32mfrom\u001b[0m \u001b[0;32mNone\u001b[0m\u001b[0;34m\u001b[0m\u001b[0;34m\u001b[0m\u001b[0m\n\u001b[0;32m--> 789\u001b[0;31m                 \u001b[0;32mreturn\u001b[0m \u001b[0m_load\u001b[0m\u001b[0;34m(\u001b[0m\u001b[0mopened_zipfile\u001b[0m\u001b[0;34m,\u001b[0m \u001b[0mmap_location\u001b[0m\u001b[0;34m,\u001b[0m \u001b[0mpickle_module\u001b[0m\u001b[0;34m,\u001b[0m \u001b[0;34m**\u001b[0m\u001b[0mpickle_load_args\u001b[0m\u001b[0;34m)\u001b[0m\u001b[0;34m\u001b[0m\u001b[0;34m\u001b[0m\u001b[0m\n\u001b[0m\u001b[1;32m    790\u001b[0m         \u001b[0;32mif\u001b[0m \u001b[0mweights_only\u001b[0m\u001b[0;34m:\u001b[0m\u001b[0;34m\u001b[0m\u001b[0;34m\u001b[0m\u001b[0m\n\u001b[1;32m    791\u001b[0m             \u001b[0;32mtry\u001b[0m\u001b[0;34m:\u001b[0m\u001b[0;34m\u001b[0m\u001b[0;34m\u001b[0m\u001b[0m\n",
      "\u001b[0;32m~/miniconda3/envs/BA-conda-env1/lib/python3.9/site-packages/torch/serialization.py\u001b[0m in \u001b[0;36m_load\u001b[0;34m(zip_file, map_location, pickle_module, pickle_file, **pickle_load_args)\u001b[0m\n\u001b[1;32m   1129\u001b[0m     \u001b[0munpickler\u001b[0m \u001b[0;34m=\u001b[0m \u001b[0mUnpicklerWrapper\u001b[0m\u001b[0;34m(\u001b[0m\u001b[0mdata_file\u001b[0m\u001b[0;34m,\u001b[0m \u001b[0;34m**\u001b[0m\u001b[0mpickle_load_args\u001b[0m\u001b[0;34m)\u001b[0m\u001b[0;34m\u001b[0m\u001b[0;34m\u001b[0m\u001b[0m\n\u001b[1;32m   1130\u001b[0m     \u001b[0munpickler\u001b[0m\u001b[0;34m.\u001b[0m\u001b[0mpersistent_load\u001b[0m \u001b[0;34m=\u001b[0m \u001b[0mpersistent_load\u001b[0m\u001b[0;34m\u001b[0m\u001b[0;34m\u001b[0m\u001b[0m\n\u001b[0;32m-> 1131\u001b[0;31m     \u001b[0mresult\u001b[0m \u001b[0;34m=\u001b[0m \u001b[0munpickler\u001b[0m\u001b[0;34m.\u001b[0m\u001b[0mload\u001b[0m\u001b[0;34m(\u001b[0m\u001b[0;34m)\u001b[0m\u001b[0;34m\u001b[0m\u001b[0;34m\u001b[0m\u001b[0m\n\u001b[0m\u001b[1;32m   1132\u001b[0m \u001b[0;34m\u001b[0m\u001b[0m\n\u001b[1;32m   1133\u001b[0m     \u001b[0mtorch\u001b[0m\u001b[0;34m.\u001b[0m\u001b[0m_utils\u001b[0m\u001b[0;34m.\u001b[0m\u001b[0m_validate_loaded_sparse_tensors\u001b[0m\u001b[0;34m(\u001b[0m\u001b[0;34m)\u001b[0m\u001b[0;34m\u001b[0m\u001b[0;34m\u001b[0m\u001b[0m\n",
      "\u001b[0;32m~/miniconda3/envs/BA-conda-env1/lib/python3.9/site-packages/torch/serialization.py\u001b[0m in \u001b[0;36mpersistent_load\u001b[0;34m(saved_id)\u001b[0m\n\u001b[1;32m   1099\u001b[0m         \u001b[0;32mif\u001b[0m \u001b[0mkey\u001b[0m \u001b[0;32mnot\u001b[0m \u001b[0;32min\u001b[0m \u001b[0mloaded_storages\u001b[0m\u001b[0;34m:\u001b[0m\u001b[0;34m\u001b[0m\u001b[0;34m\u001b[0m\u001b[0m\n\u001b[1;32m   1100\u001b[0m             \u001b[0mnbytes\u001b[0m \u001b[0;34m=\u001b[0m \u001b[0mnumel\u001b[0m \u001b[0;34m*\u001b[0m \u001b[0mtorch\u001b[0m\u001b[0;34m.\u001b[0m\u001b[0m_utils\u001b[0m\u001b[0;34m.\u001b[0m\u001b[0m_element_size\u001b[0m\u001b[0;34m(\u001b[0m\u001b[0mdtype\u001b[0m\u001b[0;34m)\u001b[0m\u001b[0;34m\u001b[0m\u001b[0;34m\u001b[0m\u001b[0m\n\u001b[0;32m-> 1101\u001b[0;31m             \u001b[0mload_tensor\u001b[0m\u001b[0;34m(\u001b[0m\u001b[0mdtype\u001b[0m\u001b[0;34m,\u001b[0m \u001b[0mnbytes\u001b[0m\u001b[0;34m,\u001b[0m \u001b[0mkey\u001b[0m\u001b[0;34m,\u001b[0m \u001b[0m_maybe_decode_ascii\u001b[0m\u001b[0;34m(\u001b[0m\u001b[0mlocation\u001b[0m\u001b[0;34m)\u001b[0m\u001b[0;34m)\u001b[0m\u001b[0;34m\u001b[0m\u001b[0;34m\u001b[0m\u001b[0m\n\u001b[0m\u001b[1;32m   1102\u001b[0m \u001b[0;34m\u001b[0m\u001b[0m\n\u001b[1;32m   1103\u001b[0m         \u001b[0;32mreturn\u001b[0m \u001b[0mloaded_storages\u001b[0m\u001b[0;34m[\u001b[0m\u001b[0mkey\u001b[0m\u001b[0;34m]\u001b[0m\u001b[0;34m\u001b[0m\u001b[0;34m\u001b[0m\u001b[0m\n",
      "\u001b[0;32m~/miniconda3/envs/BA-conda-env1/lib/python3.9/site-packages/torch/serialization.py\u001b[0m in \u001b[0;36mload_tensor\u001b[0;34m(dtype, numel, key, location)\u001b[0m\n\u001b[1;32m   1077\u001b[0m         \u001b[0mname\u001b[0m \u001b[0;34m=\u001b[0m \u001b[0;34mf'data/{key}'\u001b[0m\u001b[0;34m\u001b[0m\u001b[0;34m\u001b[0m\u001b[0m\n\u001b[1;32m   1078\u001b[0m \u001b[0;34m\u001b[0m\u001b[0m\n\u001b[0;32m-> 1079\u001b[0;31m         \u001b[0mstorage\u001b[0m \u001b[0;34m=\u001b[0m \u001b[0mzip_file\u001b[0m\u001b[0;34m.\u001b[0m\u001b[0mget_storage_from_record\u001b[0m\u001b[0;34m(\u001b[0m\u001b[0mname\u001b[0m\u001b[0;34m,\u001b[0m \u001b[0mnumel\u001b[0m\u001b[0;34m,\u001b[0m \u001b[0mtorch\u001b[0m\u001b[0;34m.\u001b[0m\u001b[0mUntypedStorage\u001b[0m\u001b[0;34m)\u001b[0m\u001b[0;34m.\u001b[0m\u001b[0mstorage\u001b[0m\u001b[0;34m(\u001b[0m\u001b[0;34m)\u001b[0m\u001b[0;34m.\u001b[0m\u001b[0muntyped\u001b[0m\u001b[0;34m(\u001b[0m\u001b[0;34m)\u001b[0m\u001b[0;34m\u001b[0m\u001b[0;34m\u001b[0m\u001b[0m\n\u001b[0m\u001b[1;32m   1080\u001b[0m         \u001b[0;31m# TODO: Once we decide to break serialization FC, we can\u001b[0m\u001b[0;34m\u001b[0m\u001b[0;34m\u001b[0m\u001b[0m\n\u001b[1;32m   1081\u001b[0m         \u001b[0;31m# stop wrapping with TypedStorage\u001b[0m\u001b[0;34m\u001b[0m\u001b[0;34m\u001b[0m\u001b[0m\n",
      "\u001b[0;31mKeyboardInterrupt\u001b[0m: "
     ]
    }
   ],
   "source": [
    "activations = torch.load(\"outputs.pt\")\n",
    "print(activations.keys())\n",
    "forth_epoch = activations[3]\n",
    "print(forth_epoch.keys())"
   ]
  },
  {
   "cell_type": "code",
   "execution_count": 119,
   "id": "0d06b891",
   "metadata": {},
   "outputs": [
    {
     "name": "stdout",
     "output_type": "stream",
     "text": [
      "<class 'list'>\n",
      "4\n"
     ]
    }
   ],
   "source": [
    "print(type(forth_epoch[\"train\"]))\n",
    "print(len(forth_epoch[\"train\"]))"
   ]
  },
  {
   "cell_type": "code",
   "execution_count": 128,
   "id": "907421a7",
   "metadata": {},
   "outputs": [
    {
     "name": "stdout",
     "output_type": "stream",
     "text": [
      "torch.Size([512, 25000])\n"
     ]
    }
   ],
   "source": [
    "print(forth_epoch[\"train\"][0].size())"
   ]
  },
  {
   "cell_type": "code",
   "execution_count": 133,
   "id": "86f1573e",
   "metadata": {},
   "outputs": [],
   "source": [
    "xxx = forth_epoch[\"train\"][0]"
   ]
  },
  {
   "cell_type": "code",
   "execution_count": 135,
   "id": "399ba7a3",
   "metadata": {},
   "outputs": [
    {
     "name": "stdout",
     "output_type": "stream",
     "text": [
      "torch.Size([512, 25000])\n",
      "torch.Size([512, 25000])\n"
     ]
    }
   ],
   "source": [
    "print(xxx.size())\n",
    "\n",
    "yyy = xxx.view(xxx.size(0), -1)\n",
    "print(yyy.size())"
   ]
  }
 ],
 "metadata": {
  "kernelspec": {
   "display_name": "BA-conda-env1",
   "language": "python",
   "name": "python3"
  },
  "language_info": {
   "codemirror_mode": {
    "name": "ipython",
    "version": 3
   },
   "file_extension": ".py",
   "mimetype": "text/x-python",
   "name": "python",
   "nbconvert_exporter": "python",
   "pygments_lexer": "ipython3",
   "version": "3.9.16"
  }
 },
 "nbformat": 4,
 "nbformat_minor": 5
}
