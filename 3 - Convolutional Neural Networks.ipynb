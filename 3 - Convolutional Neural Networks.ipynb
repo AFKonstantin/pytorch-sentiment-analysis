{
 "cells": [
  {
   "cell_type": "code",
   "execution_count": 1,
   "id": "b1797021",
   "metadata": {},
   "outputs": [],
   "source": [
    "import collections\n",
    "\n",
    "import datasets\n",
    "import matplotlib.pyplot as plt\n",
    "import numpy as np\n",
    "import torch\n",
    "import torch.nn as nn\n",
    "import torch.optim as optim\n",
    "import torchtext\n",
    "import tqdm\n",
    "\n",
    "\n",
    "from datasets.arrow_dataset import Dataset"
   ]
  },
  {
   "cell_type": "code",
   "execution_count": 2,
   "id": "0d5b5146",
   "metadata": {},
   "outputs": [],
   "source": [
    "seed = 1234\n",
    "\n",
    "np.random.seed(seed)\n",
    "torch.manual_seed(seed)\n",
    "torch.cuda.manual_seed(seed)\n",
    "torch.backends.cudnn.deterministic = True"
   ]
  },
  {
   "cell_type": "code",
   "execution_count": 3,
   "id": "1f9cda19",
   "metadata": {},
   "outputs": [],
   "source": [
    "train_data, test_data  = datasets.load_dataset(\"imdb\", split=[\"train\", \"test\"])\n",
    "using_dbpedia = False"
   ]
  },
  {
   "cell_type": "code",
   "execution_count": 3,
   "id": "8da8833c",
   "metadata": {},
   "outputs": [],
   "source": [
    "train_data, test_data = datasets.load_dataset(\"fancyzhx/dbpedia_14\", split=[\"train\", \"test\"])\n",
    "using_dbpedia = True"
   ]
  },
  {
   "cell_type": "code",
   "execution_count": 4,
   "id": "32a115b5",
   "metadata": {},
   "outputs": [],
   "source": [
    "train_data : Dataset\n",
    "test_data : Dataset"
   ]
  },
  {
   "cell_type": "code",
   "execution_count": 5,
   "id": "12170449",
   "metadata": {},
   "outputs": [],
   "source": [
    "train_on = \"superclasses\""
   ]
  },
  {
   "cell_type": "code",
   "execution_count": 6,
   "id": "58d67878",
   "metadata": {},
   "outputs": [],
   "source": [
    "train_on = \"subclasses\""
   ]
  },
  {
   "cell_type": "markdown",
   "id": "94a615da",
   "metadata": {},
   "source": [
    "## prepare"
   ]
  },
  {
   "cell_type": "markdown",
   "id": "7afb92a6",
   "metadata": {},
   "source": [
    "###### for now reduce in size to save time"
   ]
  },
  {
   "cell_type": "code",
   "execution_count": 6,
   "id": "97ed128f",
   "metadata": {},
   "outputs": [
    {
     "name": "stdout",
     "output_type": "stream",
     "text": [
      "Original train_data length: 560000\n",
      "Original test_data length: 70000\n",
      "Reduced train_data length: 56000\n",
      "Reduced test_data length: 7000\n"
     ]
    }
   ],
   "source": [
    "### sample and reduce poth splits to 10% of the original size\n",
    "\n",
    "\n",
    "print(f\"Original train_data length: {len(train_data)}\")\n",
    "print(f\"Original test_data length: {len(test_data)}\")\n",
    "\n",
    "\n",
    "train_data = train_data.select(indices=np.random.choice(len(train_data), len(train_data)//10))\n",
    "test_data = test_data.select(indices=np.random.choice(len(test_data), len(test_data)//10))\n",
    "\n",
    "print(f\"Reduced train_data length: {len(train_data)}\")\n",
    "print(f\"Reduced test_data length: {len(test_data)}\")"
   ]
  },
  {
   "cell_type": "code",
   "execution_count": 7,
   "id": "1c78956b",
   "metadata": {},
   "outputs": [],
   "source": [
    "subclass_names = [\n",
    "    'company', 'educational institution', 'artist', 'athlete', \n",
    "    'office holder', 'mean of transportation', 'building', \n",
    "    'natural place', 'village', 'animal', 'plant', \n",
    "    'album', 'film', 'writtenWork'\n",
    "]\n",
    "\n",
    "\n",
    "\n",
    "ont_1_mapping = {\n",
    "        0: 1, # company : other\n",
    "        1: 1, # educational institution : other\n",
    "        2: 0, # artist : person\n",
    "        3: 0, # athlete : person\n",
    "        4: 0, # office holder : person\n",
    "        5: 1, # mean of transportation : other\n",
    "        6: 2, # building : place\n",
    "        7: 2, # natural place : place\n",
    "        8: 2, # village : place\n",
    "        9: 3, # animal : organism\n",
    "        10: 3, # plant : organism\n",
    "        11: 4, # album : artwork\n",
    "        12: 4, # film : artwork\n",
    "        13: 4, # writtenWork : artwork\n",
    "    }\n",
    "\n",
    "\n",
    "\n",
    "superclass_names = [\"other\", \"person\", \"place\", \"organism\", \"artwork\"]"
   ]
  },
  {
   "cell_type": "code",
   "execution_count": 8,
   "id": "7318b0e8",
   "metadata": {},
   "outputs": [],
   "source": [
    "\n",
    "\n",
    "def set_labels_superclasses(batch):\n",
    "\n",
    "    ### set the superclasses as the labels\n",
    "    ### the subclasses are the original labels\n",
    "    labels = batch[\"label\"]\n",
    "\n",
    "    superclasses = [ont_1_mapping[subclass] for subclass in labels]\n",
    "\n",
    "    batch[\"subclasses\"] = labels\n",
    "    batch[\"superclasses\"] = superclasses\n",
    "\n",
    "\n",
    "    batch[\"label\"] = superclasses\n",
    "\n",
    "    return batch\n",
    "\n",
    "def set_labels_subclasses(batch):\n",
    "\n",
    "    ## just add the superclasses for analysis\n",
    "    ## subclasses are the original labels\n",
    "    labels = batch[\"label\"]\n",
    "\n",
    "    superclasses = [ont_1_mapping[subclass] for subclass in labels]\n",
    "\n",
    "    batch[\"subclasses\"] = labels\n",
    "    batch[\"superclasses\"] = superclasses\n",
    "\n",
    "\n",
    "    return batch\n",
    "\n",
    "\n",
    "\n",
    "if train_on == \"superclasses\":\n",
    "    train_data = train_data.map(set_labels_superclasses, batched=True)\n",
    "    test_data = test_data.map(set_labels_superclasses, batched=True)\n",
    "\n",
    "elif train_on == \"subclasses\":\n",
    "    train_data = train_data.map(set_labels_subclasses, batched=True)\n",
    "    test_data = test_data.map(set_labels_subclasses, batched=True)\n",
    "\n",
    "else:\n",
    "    raise ValueError(f\"Invalid train_on value : {train_on}\")"
   ]
  },
  {
   "cell_type": "code",
   "execution_count": 9,
   "id": "48f4c1f6",
   "metadata": {},
   "outputs": [],
   "source": [
    "tokenizer = torchtext.data.utils.get_tokenizer(\"basic_english\")"
   ]
  },
  {
   "cell_type": "code",
   "execution_count": 10,
   "id": "4815a1f5",
   "metadata": {},
   "outputs": [],
   "source": [
    "###use  either the \"tiles\" or the \"content\" for tokenizations \n",
    "def tokenize_example_content(example, tokenizer, max_length):\n",
    "    tokens = tokenizer(example[\"content\"])[:max_length]\n",
    "    return {\"tokens\": tokens}\n",
    "\n",
    "def tokenize_example_title(example, tokenizer, max_length):\n",
    "    tokens = tokenizer(example[\"title\"])[:max_length]\n",
    "    return {\"tokens\": tokens}\n",
    "\n",
    "\n",
    "\n",
    "def tokenize_example(example, tokenizer, max_length):\n",
    "    tokens = tokenizer(example[\"text\"])[:max_length]\n",
    "    return {\"tokens\": tokens}"
   ]
  },
  {
   "cell_type": "code",
   "execution_count": 11,
   "id": "eca685b6",
   "metadata": {},
   "outputs": [],
   "source": [
    "max_length = 256\n",
    "\n",
    "if using_dbpedia:\n",
    "    train_data = train_data.map(\n",
    "        tokenize_example_content, fn_kwargs={\"tokenizer\": tokenizer, \"max_length\": max_length}\n",
    "    )\n",
    "    test_data = test_data.map(\n",
    "        tokenize_example_content, fn_kwargs={\"tokenizer\": tokenizer, \"max_length\": max_length}\n",
    "    )\n",
    "else:\n",
    "\n",
    "    train_data = train_data.map(\n",
    "        tokenize_example, fn_kwargs={\"tokenizer\": tokenizer, \"max_length\": max_length}\n",
    "    )\n",
    "    test_data = test_data.map(\n",
    "        tokenize_example, fn_kwargs={\"tokenizer\": tokenizer, \"max_length\": max_length}\n",
    "    )"
   ]
  },
  {
   "cell_type": "code",
   "execution_count": 12,
   "id": "cb53b268",
   "metadata": {},
   "outputs": [],
   "source": [
    "test_size = 0.25\n",
    "\n",
    "train_valid_data = train_data.train_test_split(test_size=test_size)\n",
    "train_data = train_valid_data[\"train\"]\n",
    "valid_data = train_valid_data[\"test\"]"
   ]
  },
  {
   "cell_type": "code",
   "execution_count": 13,
   "id": "a7f7d1d7",
   "metadata": {},
   "outputs": [],
   "source": [
    "min_freq = 5\n",
    "special_tokens = [\"<unk>\", \"<pad>\"]\n",
    "\n",
    "vocab = torchtext.vocab.build_vocab_from_iterator(\n",
    "    train_data[\"tokens\"],\n",
    "    min_freq=min_freq,\n",
    "    specials=special_tokens,\n",
    ")"
   ]
  },
  {
   "cell_type": "code",
   "execution_count": 14,
   "id": "d029794a",
   "metadata": {},
   "outputs": [],
   "source": [
    "unk_index = vocab[\"<unk>\"]\n",
    "pad_index = vocab[\"<pad>\"]"
   ]
  },
  {
   "cell_type": "code",
   "execution_count": 15,
   "id": "03aa4514",
   "metadata": {},
   "outputs": [],
   "source": [
    "vocab.set_default_index(unk_index)"
   ]
  },
  {
   "cell_type": "code",
   "execution_count": 16,
   "id": "0133bdd3",
   "metadata": {},
   "outputs": [],
   "source": [
    "def numericalize_example(example, vocab):\n",
    "    ids = vocab.lookup_indices(example[\"tokens\"])\n",
    "    return {\"ids\": ids}"
   ]
  },
  {
   "cell_type": "code",
   "execution_count": 17,
   "id": "558fd52a",
   "metadata": {},
   "outputs": [],
   "source": [
    "def test_debug(batch):\n",
    "    labels = batch[\"label\"]\n",
    "    lables_np = np.array(labels)\n",
    "\n",
    "    unique = np.unique(lables_np)\n",
    "    print(unique)\n",
    "    return batch\n",
    "\n",
    "\n",
    "train_data = train_data.map(test_debug, batched=True, batch_size=len(train_data))"
   ]
  },
  {
   "cell_type": "code",
   "execution_count": 18,
   "id": "a8deac4e",
   "metadata": {},
   "outputs": [],
   "source": [
    "train_data = train_data.map(numericalize_example, fn_kwargs={\"vocab\": vocab})\n",
    "valid_data = valid_data.map(numericalize_example, fn_kwargs={\"vocab\": vocab})\n",
    "test_data = test_data.map(numericalize_example, fn_kwargs={\"vocab\": vocab})"
   ]
  },
  {
   "cell_type": "code",
   "execution_count": 19,
   "id": "29f4bd82",
   "metadata": {},
   "outputs": [],
   "source": [
    "train_data = train_data.with_format(type=\"torch\", columns=[\"ids\", \"label\", \"subclasses\", \"superclasses\"])\n",
    "valid_data = valid_data.with_format(type=\"torch\", columns=[\"ids\", \"label\", \"subclasses\", \"superclasses\"])\n",
    "test_data = test_data.with_format(type=\"torch\", columns=[\"ids\", \"label\", \"subclasses\", \"superclasses\"])\n",
    "\n",
    "\n"
   ]
  },
  {
   "cell_type": "code",
   "execution_count": 20,
   "id": "aa8b61f1",
   "metadata": {},
   "outputs": [],
   "source": [
    "def pad_to_max_length(batch):\n",
    "    # Extract `ids` as a list of tensors\n",
    "    ids = batch[\"ids\"]\n",
    "    \n",
    "    # Pad each tensor in `ids` to the same length\n",
    "    padded_ids = nn.utils.rnn.pad_sequence(ids, batch_first=True, padding_value=pad_index)\n",
    "    \n",
    "    # Truncate to max_seq_len if necessary\n",
    "    if padded_ids.shape[1] > max_length:\n",
    "        padded_ids = padded_ids[:, :max_length]\n",
    "    \n",
    "    # Add padded data back to batch\n",
    "    batch[\"padded_ids\"] = [padded_ids[i] for i in range(len(padded_ids))]\n",
    "    return batch\n",
    "\n",
    "# Apply padding function to each batch in the dataset\n",
    "# dataset = test_data.map(pad_to_max_length, batched=True, batch_size=len(test_data))\n",
    "\n",
    "train_data = train_data.map(pad_to_max_length, batched=True, batch_size=len(train_data))\n",
    "valid_data = valid_data.map(pad_to_max_length, batched=True, batch_size=len(valid_data))\n",
    "test_data = test_data.map(pad_to_max_length, batched=True, batch_size=len(test_data))\n"
   ]
  },
  {
   "cell_type": "code",
   "execution_count": 21,
   "id": "93f5e575",
   "metadata": {},
   "outputs": [
    {
     "name": "stdout",
     "output_type": "stream",
     "text": [
      "dict_keys(['label', 'subclasses', 'superclasses', 'ids', 'padded_ids'])\n",
      "<class 'torch.Tensor'>\n",
      "<class 'torch.Tensor'>\n",
      "<class 'torch.Tensor'>\n",
      "<class 'torch.Tensor'>\n",
      "<class 'torch.Tensor'>\n",
      "tensor([   0,    6,    7, 1332, 2147,   27,  222,    4,  283,    2,    7, 4110,\n",
      "         356,   23, 6519,    4,    3,  477,  755,    2,    1,    1,    1,    1,\n",
      "           1,    1,    1,    1,    1,    1,    1,    1,    1,    1,    1,    1,\n",
      "           1,    1,    1,    1,    1,    1,    1,    1,    1,    1,    1,    1,\n",
      "           1,    1,    1,    1,    1,    1,    1,    1,    1,    1,    1,    1,\n",
      "           1,    1,    1,    1,    1,    1,    1,    1,    1,    1,    1,    1,\n",
      "           1,    1,    1,    1,    1,    1,    1,    1,    1,    1,    1,    1,\n",
      "           1,    1,    1,    1,    1,    1,    1,    1,    1,    1,    1,    1,\n",
      "           1,    1,    1,    1,    1,    1,    1,    1,    1,    1,    1,    1,\n",
      "           1,    1,    1,    1,    1,    1,    1,    1,    1,    1,    1,    1,\n",
      "           1,    1,    1,    1,    1,    1,    1,    1,    1,    1,    1,    1,\n",
      "           1,    1,    1,    1,    1,    1,    1,    1,    1,    1,    1,    1,\n",
      "           1,    1,    1,    1,    1,    1,    1,    1,    1,    1,    1,    1,\n",
      "           1,    1,    1,    1,    1,    1,    1,    1,    1,    1,    1,    1,\n",
      "           1,    1,    1,    1,    1,    1,    1,    1,    1,    1,    1,    1,\n",
      "           1,    1,    1,    1,    1,    1,    1,    1,    1,    1,    1,    1,\n",
      "           1,    1,    1,    1,    1,    1,    1,    1,    1,    1,    1,    1,\n",
      "           1,    1,    1,    1,    1,    1,    1,    1,    1,    1,    1,    1,\n",
      "           1,    1,    1,    1,    1,    1,    1,    1,    1,    1,    1,    1,\n",
      "           1,    1,    1,    1,    1,    1,    1,    1,    1,    1,    1,    1,\n",
      "           1,    1,    1,    1,    1,    1,    1,    1,    1,    1,    1,    1,\n",
      "           1,    1,    1,    1])\n",
      "tensor([   0,    6,    7, 1332, 2147,   27,  222,    4,  283,    2,    7, 4110,\n",
      "         356,   23, 6519,    4,    3,  477,  755,    2])\n"
     ]
    }
   ],
   "source": [
    "for jj in train_data:\n",
    "    print(jj.keys())\n",
    "    for kk in jj.keys():\n",
    "        print(type(jj[kk]))\n",
    "\n",
    "    print(jj[\"padded_ids\"])\n",
    "    print(jj[\"ids\"])\n",
    "    break"
   ]
  },
  {
   "cell_type": "code",
   "execution_count": 22,
   "id": "e2d6971c",
   "metadata": {},
   "outputs": [
    {
     "name": "stdout",
     "output_type": "stream",
     "text": [
      "<class 'datasets.arrow_dataset.Dataset'>\n",
      "42000\n",
      "torch.Size([256])\n",
      "dict_keys(['label', 'subclasses', 'superclasses', 'ids', 'padded_ids'])\n",
      "tensor(True)\n",
      "tensor(False)\n",
      "torch.Size([256])\n",
      "dict_keys(['label', 'subclasses', 'superclasses', 'ids', 'padded_ids'])\n",
      "tensor(True)\n",
      "tensor(False)\n",
      "torch.Size([256])\n",
      "dict_keys(['label', 'subclasses', 'superclasses', 'ids', 'padded_ids'])\n",
      "tensor(True)\n",
      "tensor(False)\n",
      "torch.Size([256])\n",
      "dict_keys(['label', 'subclasses', 'superclasses', 'ids', 'padded_ids'])\n",
      "tensor(True)\n",
      "tensor(False)\n",
      "torch.Size([256])\n",
      "dict_keys(['label', 'subclasses', 'superclasses', 'ids', 'padded_ids'])\n",
      "tensor(True)\n",
      "tensor(False)\n",
      "torch.Size([256])\n",
      "dict_keys(['label', 'subclasses', 'superclasses', 'ids', 'padded_ids'])\n",
      "tensor(True)\n",
      "tensor(False)\n",
      "torch.Size([256])\n",
      "dict_keys(['label', 'subclasses', 'superclasses', 'ids', 'padded_ids'])\n",
      "tensor(True)\n",
      "tensor(False)\n",
      "torch.Size([256])\n",
      "dict_keys(['label', 'subclasses', 'superclasses', 'ids', 'padded_ids'])\n",
      "tensor(True)\n",
      "tensor(False)\n",
      "torch.Size([256])\n",
      "dict_keys(['label', 'subclasses', 'superclasses', 'ids', 'padded_ids'])\n",
      "tensor(True)\n",
      "tensor(False)\n",
      "torch.Size([256])\n",
      "dict_keys(['label', 'subclasses', 'superclasses', 'ids', 'padded_ids'])\n",
      "tensor(True)\n",
      "tensor(False)\n"
     ]
    }
   ],
   "source": [
    "db_train = train_data\n",
    "print(type(db_train))\n",
    "print(db_train.__len__())\n",
    "\n",
    "for i in range(10):\n",
    "    print(db_train[i][\"padded_ids\"].size())\n",
    "    print(db_train[i].keys())\n",
    "    print(db_train[i][\"label\"]==db_train[i][\"superclasses\"])\n",
    "    print(db_train[i][\"label\"]==db_train[i][\"subclasses\"])"
   ]
  },
  {
   "cell_type": "code",
   "execution_count": 23,
   "id": "e7325258",
   "metadata": {},
   "outputs": [],
   "source": [
    "def get_collate_fn(pad_index):\n",
    "    def collate_fn(batch):\n",
    "        batch_ids = [i[\"padded_ids\"] for i in batch]\n",
    "        # batch_ids = nn.utils.rnn.pad_sequence(\n",
    "        #     batch_ids, padding_value=pad_index, batch_first=True\n",
    "        # )\n",
    "        batch_ids = torch.stack(batch_ids)\n",
    "        batch_label = [i[\"label\"] for i in batch]\n",
    "        batch_label = torch.stack(batch_label)\n",
    "        batch = {\"ids\": batch_ids, \"label\": batch_label}\n",
    "        return batch\n",
    "\n",
    "    return collate_fn"
   ]
  },
  {
   "cell_type": "code",
   "execution_count": 24,
   "id": "f1f41aff",
   "metadata": {},
   "outputs": [],
   "source": [
    "def get_collate_fn_2(pad_index):\n",
    "    def collate_fn(batch):\n",
    "        batch_ids = [i[\"padded_ids\"] for i in batch]\n",
    "        # batch_ids = nn.utils.rnn.pad_sequence(\n",
    "        #     batch_ids, padding_value=pad_index, batch_first=True\n",
    "        # )\n",
    "        batch_ids = torch.stack(batch_ids)\n",
    "        batch_label = [i[\"label\"] for i in batch]\n",
    "        batch_label = torch.stack(batch_label)\n",
    "\n",
    "        batch_subclasses = [i[\"subclasses\"] for i in batch]\n",
    "        batch_subclasses = torch.stack(batch_subclasses)\n",
    "\n",
    "        batch_superclasses = [i[\"superclasses\"] for i in batch]\n",
    "        batch_superclasses = torch.stack(batch_superclasses)\n",
    "\n",
    "        batch = {\"ids\": batch_ids, \"label\": batch_label, \"subclasses\": batch_subclasses, \"superclasses\": batch_superclasses}\n",
    "        return batch\n",
    "\n",
    "    return collate_fn"
   ]
  },
  {
   "cell_type": "code",
   "execution_count": 25,
   "id": "a3ba6bc6",
   "metadata": {},
   "outputs": [],
   "source": [
    "def get_data_loader(dataset, batch_size, pad_index, shuffle=False):\n",
    "    collate_fn = get_collate_fn_2(pad_index)\n",
    "    data_loader = torch.utils.data.DataLoader(\n",
    "        dataset=dataset,\n",
    "        batch_size=batch_size,\n",
    "        collate_fn=collate_fn,\n",
    "        shuffle=shuffle,\n",
    "    )\n",
    "    return data_loader"
   ]
  },
  {
   "cell_type": "code",
   "execution_count": 26,
   "id": "be456751",
   "metadata": {},
   "outputs": [],
   "source": [
    "batch_size = 320\n",
    "\n",
    "train_data_loader = get_data_loader(train_data, batch_size, pad_index, shuffle=True)\n",
    "valid_data_loader = get_data_loader(valid_data, batch_size, pad_index)\n",
    "test_data_loader = get_data_loader(test_data, batch_size, pad_index)"
   ]
  },
  {
   "cell_type": "code",
   "execution_count": 27,
   "id": "1e7ec7b7",
   "metadata": {},
   "outputs": [
    {
     "name": "stdout",
     "output_type": "stream",
     "text": [
      "number of training samples:  42000\n",
      "275\n"
     ]
    }
   ],
   "source": [
    "print(\"number of training samples: \", len(train_data))\n",
    "print(1875-(batch_size * 5))"
   ]
  },
  {
   "cell_type": "code",
   "execution_count": 28,
   "id": "1946775f",
   "metadata": {},
   "outputs": [
    {
     "name": "stdout",
     "output_type": "stream",
     "text": [
      "Number of train batches: 132\n",
      "Number of valid batches: 44\n",
      "Number of test batches: 22\n"
     ]
    }
   ],
   "source": [
    "print(f\"Number of train batches: {len(train_data_loader)}\")\n",
    "print(f\"Number of valid batches: {len(valid_data_loader)}\")\n",
    "print(f\"Number of test batches: {len(test_data_loader)}\")"
   ]
  },
  {
   "cell_type": "markdown",
   "id": "6116c2a8",
   "metadata": {},
   "source": [
    "## model defintion"
   ]
  },
  {
   "cell_type": "code",
   "execution_count": 29,
   "id": "ce3903f7",
   "metadata": {},
   "outputs": [],
   "source": [
    "def register_save_activations_hook(model, model_activation_layer, activations_list):\n",
    "    \"\"\"Registers a forward pass hook that saves activations.\n",
    "    \n",
    "    Args:\n",
    "        model(nn.Module): A PyTorch model.\n",
    "        model_activation_layer(str): The name of the module in the network that\n",
    "            produces the activations of interest.\n",
    "        activations_list(List[torch.Tensor]) The list in which we should store the\n",
    "            model activations.\n",
    "    \"\"\"\n",
    "    def save_activations(model, inp, out):\n",
    "        # print(f\"save_activations: {out.size()}\")\n",
    "        # activs = out.view(out.size(0), -1).detach().cpu()      \n",
    "        # \n",
    "        # important change\n",
    "        activs = out.detach().cpu() \n",
    "        activations_list.append(activs)\n",
    "\n",
    "    for name, m in model.named_modules():\n",
    "        if name == model_activation_layer or \\\n",
    "          (isinstance(model, torch.nn.DataParallel) and \\\n",
    "           name.replace('module.', '') == model_activation_layer):\n",
    "            return m.register_forward_hook(save_activations)\n",
    "    return None"
   ]
  },
  {
   "cell_type": "code",
   "execution_count": 30,
   "id": "65cd046f",
   "metadata": {},
   "outputs": [],
   "source": [
    "class CNN(nn.Module):\n",
    "\n",
    "\n",
    "\n",
    "    def __init__(\n",
    "        self,\n",
    "        vocab_size,\n",
    "        embedding_dim,\n",
    "        n_filters,\n",
    "        filter_sizes,\n",
    "        output_dim,\n",
    "        dropout_rate,\n",
    "        pad_index,\n",
    "    ):\n",
    "        super().__init__()\n",
    "        self.embedding = nn.Embedding(vocab_size, embedding_dim, padding_idx=pad_index)\n",
    "        self.convs = nn.ModuleList(\n",
    "            [\n",
    "                nn.Conv1d(embedding_dim, n_filters, filter_size)\n",
    "                for filter_size in filter_sizes\n",
    "            ]\n",
    "        )\n",
    "        self.fc = nn.Linear(len(filter_sizes) * n_filters, output_dim)\n",
    "        self.dropout = nn.Dropout(dropout_rate)\n",
    "\n",
    "        ## last layer name\n",
    "        self.activation_layer_name =f\"convs.{len(filter_sizes)-1}\"\n",
    "\n",
    "    def _init_activations_hook(self, model, activations_list, layer_name):\n",
    "        \"\"\"Initializes the forward hook to save model activations.\"\"\"\n",
    "        # if isinstance(model, torch.nn.DataParallel):\n",
    "        #     activation_layer = f\"model.module.{layer_name}\"\n",
    "        # else:\n",
    "        #     activation_layer = f\"model.{layer_name}\"\n",
    "        activation_layer = layer_name\n",
    "        activations_handle = register_save_activations_hook(model, activation_layer,\n",
    "                                                            activations_list)\n",
    "        if activation_layer is not None:\n",
    "            assert activations_handle is not None, \\\n",
    "                f'No hook registered for activation_layer={activation_layer}'\n",
    "        return activations_handle\n",
    "\n",
    "\n",
    "    def forward(self, ids):\n",
    "        # ids = [batch size, seq len]\n",
    "        embedded = self.dropout(self.embedding(ids))\n",
    "        # embedded = [batch size, seq len, embedding dim]\n",
    "        embedded = embedded.permute(0, 2, 1)\n",
    "        # embedded = [batch size, embedding dim, seq len]\n",
    "        conved = [torch.relu(conv(embedded)) for conv in self.convs]\n",
    "        # conved_n = [batch size, n filters, seq len - filter_sizes[n] + 1]\n",
    "\n",
    "        # print(conved[0].shape)\n",
    "        pooled = [conv.max(dim=-1).values for conv in conved]\n",
    "\n",
    "        # print(pooled[0].shape)\n",
    "        # pooled_n = [batch size, n filters]\n",
    "        cat = self.dropout(torch.cat(pooled, dim=-1))\n",
    "        # cat = [batch size, n filters * len(filter_sizes)]\n",
    "        prediction = self.fc(cat)\n",
    "        # prediction = [batch size, output dim]\n",
    "        return prediction"
   ]
  },
  {
   "cell_type": "code",
   "execution_count": 31,
   "id": "ad3da9c4",
   "metadata": {},
   "outputs": [],
   "source": [
    "vocab_size = len(vocab)\n",
    "embedding_dim = 300\n",
    "n_filters = 100\n",
    "filter_sizes = [3, 5, 7]\n",
    "output_dim = len(train_data.unique(\"label\"))\n",
    "dropout_rate = 0.25\n",
    "\n",
    "model = CNN(\n",
    "    vocab_size,\n",
    "    embedding_dim,\n",
    "    n_filters,\n",
    "    filter_sizes,\n",
    "    output_dim,\n",
    "    dropout_rate,\n",
    "    pad_index,\n",
    ")"
   ]
  },
  {
   "cell_type": "markdown",
   "id": "54e20faa",
   "metadata": {},
   "source": [
    "## training settigs and hyper parameters"
   ]
  },
  {
   "cell_type": "code",
   "execution_count": 33,
   "id": "e5b9314c",
   "metadata": {},
   "outputs": [
    {
     "name": "stdout",
     "output_type": "stream",
     "text": [
      "The model has 6,851,405 trainable parameters\n"
     ]
    }
   ],
   "source": [
    "def count_parameters(model):\n",
    "    return sum(p.numel() for p in model.parameters() if p.requires_grad)\n",
    "\n",
    "\n",
    "print(f\"The model has {count_parameters(model):,} trainable parameters\")"
   ]
  },
  {
   "cell_type": "code",
   "execution_count": 34,
   "id": "48dd9079",
   "metadata": {},
   "outputs": [],
   "source": [
    "def initialize_weights(m):\n",
    "    if isinstance(m, nn.Linear):\n",
    "        nn.init.xavier_normal_(m.weight)\n",
    "        nn.init.zeros_(m.bias)\n",
    "    elif isinstance(m, nn.Conv1d):\n",
    "        nn.init.kaiming_normal_(m.weight, nonlinearity=\"relu\")\n",
    "        nn.init.zeros_(m.bias)"
   ]
  },
  {
   "cell_type": "code",
   "execution_count": null,
   "id": "e455a168",
   "metadata": {},
   "outputs": [
    {
     "data": {
      "text/plain": [
       "CNN(\n",
       "  (embedding): Embedding(21332, 300, padding_idx=1)\n",
       "  (convs): ModuleList(\n",
       "    (0): Conv1d(300, 100, kernel_size=(3,), stride=(1,))\n",
       "    (1): Conv1d(300, 100, kernel_size=(5,), stride=(1,))\n",
       "    (2): Conv1d(300, 100, kernel_size=(7,), stride=(1,))\n",
       "  )\n",
       "  (fc): Linear(in_features=300, out_features=5, bias=True)\n",
       "  (dropout): Dropout(p=0.25, inplace=False)\n",
       ")"
      ]
     },
     "execution_count": 35,
     "metadata": {},
     "output_type": "execute_result"
    }
   ],
   "source": [
    "model.apply(initialize_weights)"
   ]
  },
  {
   "cell_type": "code",
   "execution_count": 36,
   "id": "cca8ce6b",
   "metadata": {},
   "outputs": [],
   "source": [
    "vectors = torchtext.vocab.GloVe()"
   ]
  },
  {
   "cell_type": "code",
   "execution_count": 37,
   "id": "e8f96c10",
   "metadata": {},
   "outputs": [
    {
     "name": "stdout",
     "output_type": "stream",
     "text": [
      "torch.Size([21332, 300])\n"
     ]
    }
   ],
   "source": [
    "pretrained_embedding = vectors.get_vecs_by_tokens(vocab.get_itos())\n",
    "print(pretrained_embedding.shape)"
   ]
  },
  {
   "cell_type": "code",
   "execution_count": 38,
   "id": "bb09a2aa",
   "metadata": {},
   "outputs": [],
   "source": [
    "model.embedding.weight.data = pretrained_embedding"
   ]
  },
  {
   "cell_type": "code",
   "execution_count": 39,
   "id": "faf4cd09",
   "metadata": {},
   "outputs": [],
   "source": [
    "optimizer = optim.Adam(model.parameters())"
   ]
  },
  {
   "cell_type": "code",
   "execution_count": 40,
   "id": "836f8381",
   "metadata": {},
   "outputs": [],
   "source": [
    "learning_rate = 1e-3"
   ]
  },
  {
   "cell_type": "code",
   "execution_count": 41,
   "id": "7a5e39e9",
   "metadata": {},
   "outputs": [],
   "source": [
    "optimizer = optim.Adam(model.parameters(),lr=learning_rate)"
   ]
  },
  {
   "cell_type": "code",
   "execution_count": 42,
   "id": "e123ae07",
   "metadata": {},
   "outputs": [],
   "source": [
    "criterion = nn.CrossEntropyLoss()"
   ]
  },
  {
   "cell_type": "code",
   "execution_count": 43,
   "id": "825a973d",
   "metadata": {},
   "outputs": [
    {
     "data": {
      "text/plain": [
       "device(type='cuda')"
      ]
     },
     "execution_count": 43,
     "metadata": {},
     "output_type": "execute_result"
    }
   ],
   "source": [
    "device = torch.device(\"cuda\" if torch.cuda.is_available() else \"cpu\")\n",
    "\n",
    "device"
   ]
  },
  {
   "cell_type": "code",
   "execution_count": 44,
   "id": "f9512ae1",
   "metadata": {},
   "outputs": [],
   "source": [
    "model = model.to(device)\n",
    "criterion = criterion.to(device)"
   ]
  },
  {
   "cell_type": "code",
   "execution_count": 45,
   "id": "3cf2f1e1",
   "metadata": {},
   "outputs": [],
   "source": [
    "def get_accuracy(prediction, label):\n",
    "    batch_size, _ = prediction.shape\n",
    "    predicted_classes = prediction.argmax(dim=-1)\n",
    "    correct_predictions = predicted_classes.eq(label).sum()\n",
    "    accuracy = correct_predictions / batch_size\n",
    "    return accuracy"
   ]
  },
  {
   "cell_type": "markdown",
   "id": "39719ab6",
   "metadata": {},
   "source": [
    "## training"
   ]
  },
  {
   "cell_type": "code",
   "execution_count": 46,
   "id": "869d77c8",
   "metadata": {},
   "outputs": [],
   "source": [
    "def run_epoch(do_train: bool,data_loader, model, criterion, optimizer, device, save_activations):\n",
    "\n",
    "\n",
    "    ##this is not the best way, but it works\n",
    "    epoch_losses = []\n",
    "    epoch_accs = []\n",
    "    epoch_activations = {}\n",
    "    epoch_labels = []\n",
    "    epoch_preds = []\n",
    "    epoch_subclasses = []\n",
    "    epoch_superclasses = []\n",
    "\n",
    "\n",
    "    ### activation handles for saving the activations\n",
    "\n",
    "    activation_handles = []\n",
    "    if save_activations:\n",
    "        for conv in [\"convs.0\", \"convs.1\", \"convs.2\"]:\n",
    "        \n",
    "            conv_activations = []\n",
    "            activations_handle = model._init_activations_hook(model, conv_activations, conv)\n",
    "            activation_handles.append(activations_handle)\n",
    "            epoch_activations[conv] = conv_activations\n",
    "\n",
    "       ###consistency check...\n",
    " \n",
    "    if train_on == \"superclasses\":\n",
    "        assert torch.equal(epoch_superclasses, epoch_labels), \"superclass and labels must be the same!!!\"\n",
    "    elif train_on == \"subclasses\":\n",
    "        assert torch.equal(epoch_subclasses, epoch_labels), \"subclass and labels must be the same!!!\"\n",
    "    else:\n",
    "        raise ValueError(\"trained_on must be either superclasses or subclasses\")\n",
    "\n",
    "\n",
    "\n",
    "    ### set the model to train mode if we are training, otherwise to eval mode  \n",
    "\n",
    "    model.train() if do_train else model.eval()\n",
    "\n",
    "    ### enable or disable gradient computation depending on whether we are training or not\n",
    "    with torch.no_grad() if not do_train else torch.enable_grad():\n",
    "\n",
    "\n",
    "        for batch in tqdm.tqdm(data_loader, desc=\"training...\" if do_train else \"evaluating...\"):\n",
    "            ids = batch[\"ids\"].to(device)\n",
    "            label = batch[\"label\"].to(device)\n",
    "            subclasses = batch[\"subclasses\"].to(device)\n",
    "            superclasses = batch[\"superclasses\"].to(device)\n",
    "\n",
    "\n",
    "\n",
    "\n",
    "            prediction = model(ids)\n",
    "            predicted_classes = prediction.argmax(dim=-1)\n",
    "\n",
    "\n",
    "            loss = criterion(prediction, label)\n",
    "            accuracy = get_accuracy(prediction, label)\n",
    "            \n",
    "            \n",
    "            ### do an optimizer step if we are training\n",
    "            if do_train:\n",
    "            \n",
    "                optimizer.zero_grad()\n",
    "                loss.backward()\n",
    "                optimizer.step()\n",
    "\n",
    "\n",
    "\n",
    "            epoch_losses.append(loss.item())\n",
    "            epoch_accs.append(accuracy.item())\n",
    "            epoch_labels.append(label.detach().cpu())\n",
    "            epoch_subclasses.append(subclasses.detach().cpu())\n",
    "            epoch_superclasses.append(superclasses.detach().cpu())\n",
    "            epoch_preds.append(predicted_classes.detach().cpu())\n",
    "            \n",
    "\n",
    "\n",
    "\n",
    "    for handle in activation_handles:\n",
    "        handle.remove()\n",
    "\n",
    "\n",
    "    epoch_labels = torch.cat(epoch_labels, dim=0)\n",
    "    epoch_preds = torch.cat(epoch_preds, dim=0)\n",
    "    epoch_subclasses = torch.cat(epoch_subclasses, dim=0)\n",
    "    epoch_superclasses = torch.cat(epoch_superclasses, dim=0)\n",
    "\n",
    "    if save_activations:\n",
    "        for key, value in tqdm.tqdm(epoch_activations.items(), desc=\"concatting activations batches\"):\n",
    "                    epoch_activations[key] = torch.cat(value, dim=0)\n",
    "\n",
    "\n",
    " \n",
    "\n",
    "\n",
    "    epoch_outputs = {\n",
    "        \"loss\": np.mean(epoch_losses),\n",
    "        \"accuracy\": np.mean(epoch_accs),\n",
    "        \"activations\": epoch_activations,\n",
    "        \"labels\": epoch_labels,\n",
    "        \"subclasses\": epoch_subclasses,\n",
    "        \"superclasses\": epoch_superclasses,\n",
    "        \"predictions\": epoch_preds\n",
    "    }\n",
    "\n",
    "\n",
    "    return epoch_outputs"
   ]
  },
  {
   "cell_type": "code",
   "execution_count": 47,
   "id": "af6e8a15",
   "metadata": {},
   "outputs": [],
   "source": [
    "def trainmodel(n_epochs: int, save_activations: bool):\n",
    "    best_valid_loss = float(\"inf\")\n",
    "\n",
    "    metrics = collections.defaultdict(list)\n",
    "\n",
    "    outputs = {}\n",
    "\n",
    "    for epoch in range(n_epochs):\n",
    "\n",
    "        t_outs = run_epoch(True, train_data_loader, model, criterion, optimizer, device, save_activations)\n",
    "        v_outs = run_epoch(False, valid_data_loader, model, criterion, optimizer, device, save_activations)\n",
    "\n",
    "        metrics[\"train_losses\"].append(t_outs[\"loss\"])\n",
    "        metrics[\"train_accs\"].append(t_outs[\"accuracy\"])\n",
    "\n",
    "        metrics[\"valid_losses\"].append(v_outs[\"loss\"])\n",
    "        metrics[\"valid_accs\"].append(v_outs[\"accuracy\"])\n",
    "        \n",
    "        \n",
    "        \n",
    "        if v_outs[\"loss\"] < best_valid_loss:\n",
    "            best_valid_loss = v_outs[\"loss\"]\n",
    "            torch.save(model.state_dict(), \"cnn.pt\")\n",
    "        print(f\"epoch: {epoch}\")\n",
    "\n",
    "        train_loss = t_outs[\"loss\"]\n",
    "        train_acc = t_outs[\"accuracy\"]\n",
    "\n",
    "        valid_loss = v_outs[\"loss\"]\n",
    "        valid_acc = v_outs[\"accuracy\"]\n",
    "\n",
    "        print(f\"train_loss: {train_loss:.3f}, train_acc: {train_acc:.3f}\")\n",
    "        print(f\"valid_loss: {valid_loss:.3f}, valid_acc: {valid_acc:.3f}\")\n",
    "\n",
    "\n",
    "    \n",
    "        outputs[epoch] = {\"train\": t_outs, \"val\": v_outs}\n",
    "    \n",
    "    return outputs, metrics"
   ]
  },
  {
   "cell_type": "code",
   "execution_count": 48,
   "id": "50126537",
   "metadata": {},
   "outputs": [],
   "source": [
    "from copy import deepcopy\n",
    "\n",
    "state_dict = deepcopy(model.state_dict()) "
   ]
  },
  {
   "cell_type": "code",
   "execution_count": 63,
   "id": "078e4965",
   "metadata": {},
   "outputs": [
    {
     "data": {
      "text/plain": [
       "<All keys matched successfully>"
      ]
     },
     "execution_count": 63,
     "metadata": {},
     "output_type": "execute_result"
    }
   ],
   "source": [
    "model.load_state_dict(state_dict)"
   ]
  },
  {
   "cell_type": "code",
   "execution_count": 48,
   "id": "5b8d3503",
   "metadata": {},
   "outputs": [],
   "source": [
    "n_epochs = 50"
   ]
  },
  {
   "cell_type": "code",
   "execution_count": 49,
   "id": "6d2cc377",
   "metadata": {},
   "outputs": [
    {
     "name": "stderr",
     "output_type": "stream",
     "text": [
      "training...: 100%|██████████| 132/132 [00:05<00:00, 24.86it/s]\n",
      "evaluating...: 100%|██████████| 44/44 [00:00<00:00, 75.85it/s]\n"
     ]
    },
    {
     "name": "stdout",
     "output_type": "stream",
     "text": [
      "epoch: 0\n",
      "train_loss: 0.223, train_acc: 0.922\n",
      "valid_loss: 0.049, valid_acc: 0.984\n"
     ]
    },
    {
     "name": "stderr",
     "output_type": "stream",
     "text": [
      "training...: 100%|██████████| 132/132 [00:04<00:00, 30.77it/s]\n",
      "evaluating...: 100%|██████████| 44/44 [00:00<00:00, 67.34it/s]\n"
     ]
    },
    {
     "name": "stdout",
     "output_type": "stream",
     "text": [
      "epoch: 1\n",
      "train_loss: 0.049, train_acc: 0.986\n",
      "valid_loss: 0.039, valid_acc: 0.987\n"
     ]
    },
    {
     "name": "stderr",
     "output_type": "stream",
     "text": [
      "training...: 100%|██████████| 132/132 [00:04<00:00, 30.37it/s]\n",
      "evaluating...: 100%|██████████| 44/44 [00:00<00:00, 71.89it/s]\n"
     ]
    },
    {
     "name": "stdout",
     "output_type": "stream",
     "text": [
      "epoch: 2\n",
      "train_loss: 0.029, train_acc: 0.992\n",
      "valid_loss: 0.032, valid_acc: 0.990\n"
     ]
    },
    {
     "name": "stderr",
     "output_type": "stream",
     "text": [
      "training...: 100%|██████████| 132/132 [00:04<00:00, 30.61it/s]\n",
      "evaluating...: 100%|██████████| 44/44 [00:00<00:00, 58.65it/s]\n"
     ]
    },
    {
     "name": "stdout",
     "output_type": "stream",
     "text": [
      "epoch: 3\n",
      "train_loss: 0.018, train_acc: 0.995\n",
      "valid_loss: 0.029, valid_acc: 0.992\n"
     ]
    },
    {
     "name": "stderr",
     "output_type": "stream",
     "text": [
      "training...: 100%|██████████| 132/132 [00:04<00:00, 28.53it/s]\n",
      "evaluating...: 100%|██████████| 44/44 [00:00<00:00, 63.05it/s]\n"
     ]
    },
    {
     "name": "stdout",
     "output_type": "stream",
     "text": [
      "epoch: 4\n",
      "train_loss: 0.013, train_acc: 0.997\n",
      "valid_loss: 0.031, valid_acc: 0.991\n"
     ]
    },
    {
     "name": "stderr",
     "output_type": "stream",
     "text": [
      "training...: 100%|██████████| 132/132 [00:04<00:00, 31.71it/s]\n",
      "evaluating...: 100%|██████████| 44/44 [00:00<00:00, 75.72it/s]\n"
     ]
    },
    {
     "name": "stdout",
     "output_type": "stream",
     "text": [
      "epoch: 5\n",
      "train_loss: 0.008, train_acc: 0.998\n",
      "valid_loss: 0.029, valid_acc: 0.992\n"
     ]
    },
    {
     "name": "stderr",
     "output_type": "stream",
     "text": [
      "training...: 100%|██████████| 132/132 [00:04<00:00, 30.01it/s]\n",
      "evaluating...: 100%|██████████| 44/44 [00:00<00:00, 72.28it/s]\n"
     ]
    },
    {
     "name": "stdout",
     "output_type": "stream",
     "text": [
      "epoch: 6\n",
      "train_loss: 0.006, train_acc: 0.999\n",
      "valid_loss: 0.029, valid_acc: 0.992\n"
     ]
    },
    {
     "name": "stderr",
     "output_type": "stream",
     "text": [
      "training...: 100%|██████████| 132/132 [00:04<00:00, 31.24it/s]\n",
      "evaluating...: 100%|██████████| 44/44 [00:00<00:00, 63.71it/s]\n"
     ]
    },
    {
     "name": "stdout",
     "output_type": "stream",
     "text": [
      "epoch: 7\n",
      "train_loss: 0.004, train_acc: 0.999\n",
      "valid_loss: 0.030, valid_acc: 0.992\n"
     ]
    },
    {
     "name": "stderr",
     "output_type": "stream",
     "text": [
      "training...: 100%|██████████| 132/132 [00:04<00:00, 29.22it/s]\n",
      "evaluating...: 100%|██████████| 44/44 [00:00<00:00, 69.08it/s]\n"
     ]
    },
    {
     "name": "stdout",
     "output_type": "stream",
     "text": [
      "epoch: 8\n",
      "train_loss: 0.003, train_acc: 0.999\n",
      "valid_loss: 0.029, valid_acc: 0.992\n"
     ]
    },
    {
     "name": "stderr",
     "output_type": "stream",
     "text": [
      "training...: 100%|██████████| 132/132 [00:04<00:00, 31.18it/s]\n",
      "evaluating...: 100%|██████████| 44/44 [00:00<00:00, 71.12it/s]\n"
     ]
    },
    {
     "name": "stdout",
     "output_type": "stream",
     "text": [
      "epoch: 9\n",
      "train_loss: 0.002, train_acc: 1.000\n",
      "valid_loss: 0.030, valid_acc: 0.992\n"
     ]
    },
    {
     "name": "stderr",
     "output_type": "stream",
     "text": [
      "training...: 100%|██████████| 132/132 [00:04<00:00, 31.71it/s]\n",
      "evaluating...: 100%|██████████| 44/44 [00:00<00:00, 51.03it/s]\n"
     ]
    },
    {
     "name": "stdout",
     "output_type": "stream",
     "text": [
      "epoch: 10\n",
      "train_loss: 0.002, train_acc: 1.000\n",
      "valid_loss: 0.030, valid_acc: 0.993\n"
     ]
    },
    {
     "name": "stderr",
     "output_type": "stream",
     "text": [
      "training...: 100%|██████████| 132/132 [00:04<00:00, 30.05it/s]\n",
      "evaluating...: 100%|██████████| 44/44 [00:00<00:00, 44.85it/s]\n"
     ]
    },
    {
     "name": "stdout",
     "output_type": "stream",
     "text": [
      "epoch: 11\n",
      "train_loss: 0.002, train_acc: 1.000\n",
      "valid_loss: 0.032, valid_acc: 0.992\n"
     ]
    },
    {
     "name": "stderr",
     "output_type": "stream",
     "text": [
      "training...: 100%|██████████| 132/132 [00:04<00:00, 27.44it/s]\n",
      "evaluating...: 100%|██████████| 44/44 [00:00<00:00, 46.94it/s]\n"
     ]
    },
    {
     "name": "stdout",
     "output_type": "stream",
     "text": [
      "epoch: 12\n",
      "train_loss: 0.001, train_acc: 1.000\n",
      "valid_loss: 0.033, valid_acc: 0.992\n"
     ]
    },
    {
     "name": "stderr",
     "output_type": "stream",
     "text": [
      "training...: 100%|██████████| 132/132 [00:04<00:00, 27.07it/s]\n",
      "evaluating...: 100%|██████████| 44/44 [00:00<00:00, 46.22it/s]\n"
     ]
    },
    {
     "name": "stdout",
     "output_type": "stream",
     "text": [
      "epoch: 13\n",
      "train_loss: 0.001, train_acc: 1.000\n",
      "valid_loss: 0.035, valid_acc: 0.992\n"
     ]
    },
    {
     "name": "stderr",
     "output_type": "stream",
     "text": [
      "training...: 100%|██████████| 132/132 [00:04<00:00, 27.71it/s]\n",
      "evaluating...: 100%|██████████| 44/44 [00:00<00:00, 46.93it/s]\n"
     ]
    },
    {
     "name": "stdout",
     "output_type": "stream",
     "text": [
      "epoch: 14\n",
      "train_loss: 0.001, train_acc: 1.000\n",
      "valid_loss: 0.033, valid_acc: 0.992\n"
     ]
    },
    {
     "name": "stderr",
     "output_type": "stream",
     "text": [
      "training...: 100%|██████████| 132/132 [00:04<00:00, 26.54it/s]\n",
      "evaluating...: 100%|██████████| 44/44 [00:01<00:00, 43.48it/s]\n"
     ]
    },
    {
     "name": "stdout",
     "output_type": "stream",
     "text": [
      "epoch: 15\n",
      "train_loss: 0.001, train_acc: 1.000\n",
      "valid_loss: 0.033, valid_acc: 0.992\n"
     ]
    },
    {
     "name": "stderr",
     "output_type": "stream",
     "text": [
      "training...: 100%|██████████| 132/132 [00:04<00:00, 27.87it/s]\n",
      "evaluating...: 100%|██████████| 44/44 [00:00<00:00, 45.77it/s]\n"
     ]
    },
    {
     "name": "stdout",
     "output_type": "stream",
     "text": [
      "epoch: 16\n",
      "train_loss: 0.000, train_acc: 1.000\n",
      "valid_loss: 0.034, valid_acc: 0.992\n"
     ]
    },
    {
     "name": "stderr",
     "output_type": "stream",
     "text": [
      "training...: 100%|██████████| 132/132 [00:05<00:00, 26.25it/s]\n",
      "evaluating...: 100%|██████████| 44/44 [00:00<00:00, 44.89it/s]\n"
     ]
    },
    {
     "name": "stdout",
     "output_type": "stream",
     "text": [
      "epoch: 17\n",
      "train_loss: 0.001, train_acc: 1.000\n",
      "valid_loss: 0.035, valid_acc: 0.992\n"
     ]
    },
    {
     "name": "stderr",
     "output_type": "stream",
     "text": [
      "training...: 100%|██████████| 132/132 [00:04<00:00, 28.29it/s]\n",
      "evaluating...: 100%|██████████| 44/44 [00:01<00:00, 43.24it/s]\n"
     ]
    },
    {
     "name": "stdout",
     "output_type": "stream",
     "text": [
      "epoch: 18\n",
      "train_loss: 0.000, train_acc: 1.000\n",
      "valid_loss: 0.035, valid_acc: 0.992\n"
     ]
    },
    {
     "name": "stderr",
     "output_type": "stream",
     "text": [
      "training...: 100%|██████████| 132/132 [00:04<00:00, 26.84it/s]\n",
      "evaluating...: 100%|██████████| 44/44 [00:00<00:00, 45.89it/s]\n"
     ]
    },
    {
     "name": "stdout",
     "output_type": "stream",
     "text": [
      "epoch: 19\n",
      "train_loss: 0.000, train_acc: 1.000\n",
      "valid_loss: 0.035, valid_acc: 0.992\n"
     ]
    },
    {
     "name": "stderr",
     "output_type": "stream",
     "text": [
      "training...: 100%|██████████| 132/132 [00:04<00:00, 27.69it/s]\n",
      "evaluating...: 100%|██████████| 44/44 [00:00<00:00, 50.58it/s]\n"
     ]
    },
    {
     "name": "stdout",
     "output_type": "stream",
     "text": [
      "epoch: 20\n",
      "train_loss: 0.000, train_acc: 1.000\n",
      "valid_loss: 0.035, valid_acc: 0.993\n"
     ]
    },
    {
     "name": "stderr",
     "output_type": "stream",
     "text": [
      "training...: 100%|██████████| 132/132 [00:04<00:00, 26.97it/s]\n",
      "evaluating...: 100%|██████████| 44/44 [00:00<00:00, 47.57it/s]\n"
     ]
    },
    {
     "name": "stdout",
     "output_type": "stream",
     "text": [
      "epoch: 21\n",
      "train_loss: 0.000, train_acc: 1.000\n",
      "valid_loss: 0.036, valid_acc: 0.992\n"
     ]
    },
    {
     "name": "stderr",
     "output_type": "stream",
     "text": [
      "training...: 100%|██████████| 132/132 [00:04<00:00, 27.71it/s]\n",
      "evaluating...: 100%|██████████| 44/44 [00:00<00:00, 46.66it/s]\n"
     ]
    },
    {
     "name": "stdout",
     "output_type": "stream",
     "text": [
      "epoch: 22\n",
      "train_loss: 0.000, train_acc: 1.000\n",
      "valid_loss: 0.036, valid_acc: 0.992\n"
     ]
    },
    {
     "name": "stderr",
     "output_type": "stream",
     "text": [
      "training...: 100%|██████████| 132/132 [00:04<00:00, 27.60it/s]\n",
      "evaluating...: 100%|██████████| 44/44 [00:01<00:00, 40.97it/s]\n"
     ]
    },
    {
     "name": "stdout",
     "output_type": "stream",
     "text": [
      "epoch: 23\n",
      "train_loss: 0.000, train_acc: 1.000\n",
      "valid_loss: 0.036, valid_acc: 0.992\n"
     ]
    },
    {
     "name": "stderr",
     "output_type": "stream",
     "text": [
      "training...: 100%|██████████| 132/132 [00:04<00:00, 28.40it/s]\n",
      "evaluating...: 100%|██████████| 44/44 [00:00<00:00, 46.23it/s]\n"
     ]
    },
    {
     "name": "stdout",
     "output_type": "stream",
     "text": [
      "epoch: 24\n",
      "train_loss: 0.000, train_acc: 1.000\n",
      "valid_loss: 0.036, valid_acc: 0.993\n"
     ]
    },
    {
     "name": "stderr",
     "output_type": "stream",
     "text": [
      "training...: 100%|██████████| 132/132 [00:04<00:00, 28.44it/s]\n",
      "evaluating...: 100%|██████████| 44/44 [00:01<00:00, 41.52it/s]\n"
     ]
    },
    {
     "name": "stdout",
     "output_type": "stream",
     "text": [
      "epoch: 25\n",
      "train_loss: 0.000, train_acc: 1.000\n",
      "valid_loss: 0.036, valid_acc: 0.993\n"
     ]
    },
    {
     "name": "stderr",
     "output_type": "stream",
     "text": [
      "training...: 100%|██████████| 132/132 [00:04<00:00, 27.35it/s]\n",
      "evaluating...: 100%|██████████| 44/44 [00:00<00:00, 46.15it/s]\n"
     ]
    },
    {
     "name": "stdout",
     "output_type": "stream",
     "text": [
      "epoch: 26\n",
      "train_loss: 0.000, train_acc: 1.000\n",
      "valid_loss: 0.037, valid_acc: 0.993\n"
     ]
    },
    {
     "name": "stderr",
     "output_type": "stream",
     "text": [
      "training...: 100%|██████████| 132/132 [00:04<00:00, 31.55it/s]\n",
      "evaluating...: 100%|██████████| 44/44 [00:00<00:00, 65.30it/s]\n"
     ]
    },
    {
     "name": "stdout",
     "output_type": "stream",
     "text": [
      "epoch: 27\n",
      "train_loss: 0.000, train_acc: 1.000\n",
      "valid_loss: 0.041, valid_acc: 0.992\n"
     ]
    },
    {
     "name": "stderr",
     "output_type": "stream",
     "text": [
      "training...: 100%|██████████| 132/132 [00:04<00:00, 28.35it/s]\n",
      "evaluating...: 100%|██████████| 44/44 [00:00<00:00, 63.82it/s]\n"
     ]
    },
    {
     "name": "stdout",
     "output_type": "stream",
     "text": [
      "epoch: 28\n",
      "train_loss: 0.000, train_acc: 1.000\n",
      "valid_loss: 0.037, valid_acc: 0.992\n"
     ]
    },
    {
     "name": "stderr",
     "output_type": "stream",
     "text": [
      "training...: 100%|██████████| 132/132 [00:04<00:00, 29.93it/s]\n",
      "evaluating...: 100%|██████████| 44/44 [00:00<00:00, 70.36it/s]\n"
     ]
    },
    {
     "name": "stdout",
     "output_type": "stream",
     "text": [
      "epoch: 29\n",
      "train_loss: 0.000, train_acc: 1.000\n",
      "valid_loss: 0.037, valid_acc: 0.992\n"
     ]
    },
    {
     "name": "stderr",
     "output_type": "stream",
     "text": [
      "training...: 100%|██████████| 132/132 [00:04<00:00, 29.88it/s]\n",
      "evaluating...: 100%|██████████| 44/44 [00:00<00:00, 65.55it/s]\n"
     ]
    },
    {
     "name": "stdout",
     "output_type": "stream",
     "text": [
      "epoch: 30\n",
      "train_loss: 0.000, train_acc: 1.000\n",
      "valid_loss: 0.039, valid_acc: 0.992\n"
     ]
    },
    {
     "name": "stderr",
     "output_type": "stream",
     "text": [
      "training...: 100%|██████████| 132/132 [00:04<00:00, 30.20it/s]\n",
      "evaluating...: 100%|██████████| 44/44 [00:00<00:00, 65.86it/s]\n"
     ]
    },
    {
     "name": "stdout",
     "output_type": "stream",
     "text": [
      "epoch: 31\n",
      "train_loss: 0.000, train_acc: 1.000\n",
      "valid_loss: 0.038, valid_acc: 0.993\n"
     ]
    },
    {
     "name": "stderr",
     "output_type": "stream",
     "text": [
      "training...: 100%|██████████| 132/132 [00:04<00:00, 29.37it/s]\n",
      "evaluating...: 100%|██████████| 44/44 [00:00<00:00, 65.80it/s]\n"
     ]
    },
    {
     "name": "stdout",
     "output_type": "stream",
     "text": [
      "epoch: 32\n",
      "train_loss: 0.000, train_acc: 1.000\n",
      "valid_loss: 0.039, valid_acc: 0.992\n"
     ]
    },
    {
     "name": "stderr",
     "output_type": "stream",
     "text": [
      "training...: 100%|██████████| 132/132 [00:04<00:00, 30.65it/s]\n",
      "evaluating...: 100%|██████████| 44/44 [00:00<00:00, 61.10it/s]\n"
     ]
    },
    {
     "name": "stdout",
     "output_type": "stream",
     "text": [
      "epoch: 33\n",
      "train_loss: 0.000, train_acc: 1.000\n",
      "valid_loss: 0.039, valid_acc: 0.993\n"
     ]
    },
    {
     "name": "stderr",
     "output_type": "stream",
     "text": [
      "training...: 100%|██████████| 132/132 [00:04<00:00, 29.37it/s]\n",
      "evaluating...: 100%|██████████| 44/44 [00:00<00:00, 57.92it/s]\n"
     ]
    },
    {
     "name": "stdout",
     "output_type": "stream",
     "text": [
      "epoch: 34\n",
      "train_loss: 0.001, train_acc: 1.000\n",
      "valid_loss: 0.042, valid_acc: 0.992\n"
     ]
    },
    {
     "name": "stderr",
     "output_type": "stream",
     "text": [
      "training...: 100%|██████████| 132/132 [00:04<00:00, 29.97it/s]\n",
      "evaluating...: 100%|██████████| 44/44 [00:00<00:00, 67.61it/s]\n"
     ]
    },
    {
     "name": "stdout",
     "output_type": "stream",
     "text": [
      "epoch: 35\n",
      "train_loss: 0.001, train_acc: 1.000\n",
      "valid_loss: 0.042, valid_acc: 0.992\n"
     ]
    },
    {
     "name": "stderr",
     "output_type": "stream",
     "text": [
      "training...: 100%|██████████| 132/132 [00:04<00:00, 30.55it/s]\n",
      "evaluating...: 100%|██████████| 44/44 [00:00<00:00, 52.67it/s]\n"
     ]
    },
    {
     "name": "stdout",
     "output_type": "stream",
     "text": [
      "epoch: 36\n",
      "train_loss: 0.001, train_acc: 1.000\n",
      "valid_loss: 0.045, valid_acc: 0.992\n"
     ]
    },
    {
     "name": "stderr",
     "output_type": "stream",
     "text": [
      "training...: 100%|██████████| 132/132 [00:04<00:00, 31.05it/s]\n",
      "evaluating...: 100%|██████████| 44/44 [00:00<00:00, 64.83it/s]\n"
     ]
    },
    {
     "name": "stdout",
     "output_type": "stream",
     "text": [
      "epoch: 37\n",
      "train_loss: 0.001, train_acc: 1.000\n",
      "valid_loss: 0.047, valid_acc: 0.992\n"
     ]
    },
    {
     "name": "stderr",
     "output_type": "stream",
     "text": [
      "training...: 100%|██████████| 132/132 [00:04<00:00, 31.61it/s]\n",
      "evaluating...: 100%|██████████| 44/44 [00:00<00:00, 62.06it/s]\n"
     ]
    },
    {
     "name": "stdout",
     "output_type": "stream",
     "text": [
      "epoch: 38\n",
      "train_loss: 0.001, train_acc: 1.000\n",
      "valid_loss: 0.049, valid_acc: 0.992\n"
     ]
    },
    {
     "name": "stderr",
     "output_type": "stream",
     "text": [
      "training...: 100%|██████████| 132/132 [00:04<00:00, 29.05it/s]\n",
      "evaluating...: 100%|██████████| 44/44 [00:00<00:00, 45.37it/s]\n"
     ]
    },
    {
     "name": "stdout",
     "output_type": "stream",
     "text": [
      "epoch: 39\n",
      "train_loss: 0.001, train_acc: 1.000\n",
      "valid_loss: 0.054, valid_acc: 0.991\n"
     ]
    },
    {
     "name": "stderr",
     "output_type": "stream",
     "text": [
      "training...: 100%|██████████| 132/132 [00:04<00:00, 28.28it/s]\n",
      "evaluating...: 100%|██████████| 44/44 [00:00<00:00, 48.20it/s]\n"
     ]
    },
    {
     "name": "stdout",
     "output_type": "stream",
     "text": [
      "epoch: 40\n",
      "train_loss: 0.001, train_acc: 1.000\n",
      "valid_loss: 0.052, valid_acc: 0.992\n"
     ]
    },
    {
     "name": "stderr",
     "output_type": "stream",
     "text": [
      "training...: 100%|██████████| 132/132 [00:04<00:00, 27.42it/s]\n",
      "evaluating...: 100%|██████████| 44/44 [00:00<00:00, 45.06it/s]\n"
     ]
    },
    {
     "name": "stdout",
     "output_type": "stream",
     "text": [
      "epoch: 41\n",
      "train_loss: 0.001, train_acc: 1.000\n",
      "valid_loss: 0.054, valid_acc: 0.991\n"
     ]
    },
    {
     "name": "stderr",
     "output_type": "stream",
     "text": [
      "training...: 100%|██████████| 132/132 [00:04<00:00, 27.68it/s]\n",
      "evaluating...: 100%|██████████| 44/44 [00:00<00:00, 44.52it/s]\n"
     ]
    },
    {
     "name": "stdout",
     "output_type": "stream",
     "text": [
      "epoch: 42\n",
      "train_loss: 0.000, train_acc: 1.000\n",
      "valid_loss: 0.071, valid_acc: 0.990\n"
     ]
    },
    {
     "name": "stderr",
     "output_type": "stream",
     "text": [
      "training...: 100%|██████████| 132/132 [00:04<00:00, 26.78it/s]\n",
      "evaluating...: 100%|██████████| 44/44 [00:00<00:00, 47.43it/s]\n"
     ]
    },
    {
     "name": "stdout",
     "output_type": "stream",
     "text": [
      "epoch: 43\n",
      "train_loss: 0.001, train_acc: 1.000\n",
      "valid_loss: 0.056, valid_acc: 0.992\n"
     ]
    },
    {
     "name": "stderr",
     "output_type": "stream",
     "text": [
      "training...: 100%|██████████| 132/132 [00:04<00:00, 28.13it/s]\n",
      "evaluating...: 100%|██████████| 44/44 [00:00<00:00, 47.05it/s]\n"
     ]
    },
    {
     "name": "stdout",
     "output_type": "stream",
     "text": [
      "epoch: 44\n",
      "train_loss: 0.000, train_acc: 1.000\n",
      "valid_loss: 0.055, valid_acc: 0.992\n"
     ]
    },
    {
     "name": "stderr",
     "output_type": "stream",
     "text": [
      "training...: 100%|██████████| 132/132 [00:04<00:00, 26.62it/s]\n",
      "evaluating...: 100%|██████████| 44/44 [00:00<00:00, 47.32it/s]\n"
     ]
    },
    {
     "name": "stdout",
     "output_type": "stream",
     "text": [
      "epoch: 45\n",
      "train_loss: 0.000, train_acc: 1.000\n",
      "valid_loss: 0.059, valid_acc: 0.991\n"
     ]
    },
    {
     "name": "stderr",
     "output_type": "stream",
     "text": [
      "training...: 100%|██████████| 132/132 [00:04<00:00, 28.23it/s]\n",
      "evaluating...: 100%|██████████| 44/44 [00:00<00:00, 46.70it/s]\n"
     ]
    },
    {
     "name": "stdout",
     "output_type": "stream",
     "text": [
      "epoch: 46\n",
      "train_loss: 0.000, train_acc: 1.000\n",
      "valid_loss: 0.054, valid_acc: 0.992\n"
     ]
    },
    {
     "name": "stderr",
     "output_type": "stream",
     "text": [
      "training...: 100%|██████████| 132/132 [00:04<00:00, 27.39it/s]\n",
      "evaluating...: 100%|██████████| 44/44 [00:00<00:00, 46.25it/s]\n"
     ]
    },
    {
     "name": "stdout",
     "output_type": "stream",
     "text": [
      "epoch: 47\n",
      "train_loss: 0.001, train_acc: 1.000\n",
      "valid_loss: 0.071, valid_acc: 0.990\n"
     ]
    },
    {
     "name": "stderr",
     "output_type": "stream",
     "text": [
      "training...: 100%|██████████| 132/132 [00:04<00:00, 28.16it/s]\n",
      "evaluating...: 100%|██████████| 44/44 [00:00<00:00, 46.79it/s]\n"
     ]
    },
    {
     "name": "stdout",
     "output_type": "stream",
     "text": [
      "epoch: 48\n",
      "train_loss: 0.000, train_acc: 1.000\n",
      "valid_loss: 0.063, valid_acc: 0.991\n"
     ]
    },
    {
     "name": "stderr",
     "output_type": "stream",
     "text": [
      "training...: 100%|██████████| 132/132 [00:04<00:00, 27.87it/s]\n",
      "evaluating...: 100%|██████████| 44/44 [00:01<00:00, 43.06it/s]"
     ]
    },
    {
     "name": "stdout",
     "output_type": "stream",
     "text": [
      "epoch: 49\n",
      "train_loss: 0.000, train_acc: 1.000\n",
      "valid_loss: 0.061, valid_acc: 0.992\n"
     ]
    },
    {
     "name": "stderr",
     "output_type": "stream",
     "text": [
      "\n"
     ]
    }
   ],
   "source": [
    "outputs, metrics = trainmodel(n_epochs=n_epochs,save_activations=False)"
   ]
  },
  {
   "cell_type": "code",
   "execution_count": 52,
   "id": "603298aa",
   "metadata": {},
   "outputs": [
    {
     "name": "stdout",
     "output_type": "stream",
     "text": [
      "dict_keys([0, 1, 2, 3, 4, 5, 6, 7, 8, 9, 10, 11, 12, 13, 14, 15, 16, 17, 18, 19, 20, 21, 22, 23, 24, 25, 26, 27, 28, 29, 30, 31, 32, 33, 34, 35, 36, 37, 38, 39, 40, 41, 42, 43, 44, 45, 46, 47, 48, 49])\n",
      "dict_keys(['train', 'val'])\n",
      "dict_keys(['loss', 'accuracy', 'activations', 'labels', 'subclasses', 'superclasses', 'predictions'])\n",
      "tensor([True, True, True,  ..., True, True, True])\n"
     ]
    }
   ],
   "source": [
    "print(outputs.keys())\n",
    "l = outputs[3]\n",
    "print(l.keys())\n",
    "train_ = l[\"train\"]\n",
    "print(train_.keys())\n",
    "\n",
    "print(train_[\"labels\"]==train_[\"superclasses\"])"
   ]
  },
  {
   "cell_type": "code",
   "execution_count": 50,
   "id": "30cf7145",
   "metadata": {},
   "outputs": [
    {
     "name": "stdout",
     "output_type": "stream",
     "text": [
      "CNN(\n",
      "  (embedding): Embedding(21332, 300, padding_idx=1)\n",
      "  (convs): ModuleList(\n",
      "    (0): Conv1d(300, 100, kernel_size=(3,), stride=(1,))\n",
      "    (1): Conv1d(300, 100, kernel_size=(5,), stride=(1,))\n",
      "    (2): Conv1d(300, 100, kernel_size=(7,), stride=(1,))\n",
      "  )\n",
      "  (fc): Linear(in_features=300, out_features=5, bias=True)\n",
      "  (dropout): Dropout(p=0.25, inplace=False)\n",
      ")\n"
     ]
    }
   ],
   "source": [
    "print(model)\n",
    "n_epochs = 50"
   ]
  },
  {
   "cell_type": "code",
   "execution_count": 51,
   "id": "03860181",
   "metadata": {},
   "outputs": [
    {
     "data": {
      "image/png": "[encoded data removed]",
      "text/plain": [
       "<Figure size 1000x600 with 1 Axes>"
      ]
     },
     "metadata": {},
     "output_type": "display_data"
    }
   ],
   "source": [
    "fig = plt.figure(figsize=(10, 6))\n",
    "ax = fig.add_subplot(1, 1, 1)\n",
    "ax.plot(range(1,n_epochs+1),metrics[\"train_losses\"], label=\"train loss\")\n",
    "ax.plot(range(1,n_epochs+1),metrics[\"valid_losses\"], label=\"valid loss\")\n",
    "ax.set_xlabel(\"epoch\")\n",
    "ax.set_ylabel(\"loss\")\n",
    "ax.set_xticks(range(1,n_epochs+1))\n",
    "ax.legend()\n",
    "ax.grid()"
   ]
  },
  {
   "cell_type": "code",
   "execution_count": 55,
   "id": "df5d03f9",
   "metadata": {},
   "outputs": [
    {
     "data": {
      "image/png": "[encoded data removed]",
      "text/plain": [
       "<Figure size 1000x600 with 1 Axes>"
      ]
     },
     "metadata": {},
     "output_type": "display_data"
    }
   ],
   "source": [
    "fig = plt.figure(figsize=(10, 6))\n",
    "ax = fig.add_subplot(1, 1, 1)\n",
    "ax.plot(range(1,n_epochs+1),metrics[\"train_accs\"], label=\"train accuracy\")\n",
    "ax.plot(range(1,n_epochs+1),metrics[\"valid_accs\"], label=\"valid accuracy\")\n",
    "ax.set_xlabel(\"epoch\")\n",
    "ax.set_ylabel(\"loss\")\n",
    "ax.set_xticks(range(1,n_epochs+1))\n",
    "ax.legend()\n",
    "ax.grid()"
   ]
  },
  {
   "cell_type": "code",
   "execution_count": 56,
   "id": "e12cff6c",
   "metadata": {},
   "outputs": [
    {
     "name": "stderr",
     "output_type": "stream",
     "text": [
      "evaluating...: 100%|██████████| 132/132 [00:08<00:00, 14.91it/s]\n"
     ]
    }
   ],
   "source": [
    "train_outs = evaluate(train_data_loader, model, criterion, device, save_activations=True)"
   ]
  },
  {
   "cell_type": "code",
   "execution_count": 57,
   "id": "97888b60",
   "metadata": {},
   "outputs": [],
   "source": [
    "torch.save(train_outs, \"e3_train_outputs.pt\")"
   ]
  },
  {
   "cell_type": "code",
   "execution_count": 59,
   "id": "9c8ae1bf",
   "metadata": {},
   "outputs": [
    {
     "name": "stderr",
     "output_type": "stream",
     "text": [
      "evaluating...: 100%|██████████| 44/44 [00:02<00:00, 17.60it/s]\n"
     ]
    }
   ],
   "source": [
    "val_outs = evaluate(valid_data_loader, model, criterion, device, save_activations=True)"
   ]
  },
  {
   "cell_type": "code",
   "execution_count": 60,
   "id": "5554b113",
   "metadata": {},
   "outputs": [],
   "source": [
    "torch.save(val_outs, \"e3_val_outputs.pt\")"
   ]
  },
  {
   "cell_type": "code",
   "execution_count": 61,
   "id": "bb00498a",
   "metadata": {},
   "outputs": [
    {
     "name": "stderr",
     "output_type": "stream",
     "text": [
      "evaluating...: 100%|██████████| 22/22 [00:01<00:00, 20.16it/s]\n"
     ]
    }
   ],
   "source": [
    "test_outs= evaluate(test_data_loader, model, criterion, device, save_activations=True)"
   ]
  },
  {
   "cell_type": "code",
   "execution_count": 62,
   "id": "8b8b85f2",
   "metadata": {},
   "outputs": [],
   "source": [
    "torch.save(test_outs, \"e3_test_outputs.pt\")"
   ]
  },
  {
   "cell_type": "code",
   "execution_count": 63,
   "id": "4df44a12",
   "metadata": {},
   "outputs": [],
   "source": [
    "aaa = torch.load(\"outputs.pt\")\n",
    "\n",
    "train__ = aaa[3][\"train\"]"
   ]
  },
  {
   "cell_type": "code",
   "execution_count": 64,
   "id": "f6045656",
   "metadata": {},
   "outputs": [
    {
     "name": "stdout",
     "output_type": "stream",
     "text": [
      "dict_keys(['loss', 'accuracy', 'activations', 'labels', 'subclasses', 'superclasses'])\n",
      "tensor([True, True, True,  ..., True, True, True])\n"
     ]
    }
   ],
   "source": [
    "print(train__.keys())\n",
    "print(train__[\"labels\"]==train__[\"superclasses\"])"
   ]
  },
  {
   "cell_type": "code",
   "execution_count": 64,
   "id": "3d1ee50a",
   "metadata": {},
   "outputs": [],
   "source": [
    "test_loss = test_outs[\"loss\"]\n",
    "test_acc = test_outs[\"accuracy\"]"
   ]
  },
  {
   "cell_type": "code",
   "execution_count": 65,
   "id": "39eacaaf",
   "metadata": {},
   "outputs": [
    {
     "name": "stdout",
     "output_type": "stream",
     "text": [
      "test_loss: 0.028, test_acc: 0.992\n"
     ]
    }
   ],
   "source": [
    "print(f\"test_loss: {test_loss:.3f}, test_acc: {test_acc:.3f}\")"
   ]
  },
  {
   "cell_type": "code",
   "execution_count": 48,
   "id": "7c08b412",
   "metadata": {},
   "outputs": [],
   "source": [
    "def predict_sentiment(text, model, tokenizer, vocab, device, min_length, pad_index):\n",
    "    tokens = tokenizer(text)\n",
    "    ids = vocab.lookup_indices(tokens)\n",
    "    if len(ids) < min_length:\n",
    "        ids += [pad_index] * (min_length - len(ids))\n",
    "    tensor = torch.LongTensor(ids).unsqueeze(dim=0).to(device)\n",
    "    prediction = model(tensor).squeeze(dim=0)\n",
    "    probability = torch.softmax(prediction, dim=-1)\n",
    "    predicted_class = prediction.argmax(dim=-1).item()\n",
    "    predicted_probability = probability[predicted_class].item()\n",
    "    return predicted_class, predicted_probability"
   ]
  },
  {
   "cell_type": "code",
   "execution_count": 49,
   "id": "4fd0877a",
   "metadata": {},
   "outputs": [
    {
     "data": {
      "text/plain": [
       "(12, 0.954708456993103)"
      ]
     },
     "execution_count": 49,
     "metadata": {},
     "output_type": "execute_result"
    }
   ],
   "source": [
    "text = \"This film is terrible!\"\n",
    "min_length = max(filter_sizes)\n",
    "\n",
    "predict_sentiment(text, model, tokenizer, vocab, device, min_length, pad_index)"
   ]
  },
  {
   "cell_type": "code",
   "execution_count": 50,
   "id": "31063352",
   "metadata": {},
   "outputs": [
    {
     "data": {
      "text/plain": [
       "(12, 0.921493649482727)"
      ]
     },
     "execution_count": 50,
     "metadata": {},
     "output_type": "execute_result"
    }
   ],
   "source": [
    "text = \"This film is great!\"\n",
    "\n",
    "predict_sentiment(text, model, tokenizer, vocab, device, min_length, pad_index)"
   ]
  },
  {
   "cell_type": "code",
   "execution_count": 51,
   "id": "162aea28",
   "metadata": {},
   "outputs": [
    {
     "data": {
      "text/plain": [
       "(12, 0.9487431049346924)"
      ]
     },
     "execution_count": 51,
     "metadata": {},
     "output_type": "execute_result"
    }
   ],
   "source": [
    "text = \"This film is not terrible, it's great!\"\n",
    "\n",
    "predict_sentiment(text, model, tokenizer, vocab, device, min_length, pad_index)"
   ]
  },
  {
   "cell_type": "code",
   "execution_count": 52,
   "id": "83c036aa",
   "metadata": {},
   "outputs": [
    {
     "data": {
      "text/plain": [
       "(12, 0.9126440286636353)"
      ]
     },
     "execution_count": 52,
     "metadata": {},
     "output_type": "execute_result"
    }
   ],
   "source": [
    "text = \"This film is not great, it's terrible!\"\n",
    "\n",
    "predict_sentiment(text, model, tokenizer, vocab, device, min_length, pad_index)"
   ]
  },
  {
   "cell_type": "code",
   "execution_count": 51,
   "id": "73afacde",
   "metadata": {},
   "outputs": [
    {
     "ename": "KeyboardInterrupt",
     "evalue": "",
     "output_type": "error",
     "traceback": [
      "\u001b[0;31m---------------------------------------------------------------------------\u001b[0m",
      "\u001b[0;31mKeyboardInterrupt\u001b[0m                         Traceback (most recent call last)",
      "\u001b[0;32m/tmp/ipykernel_3191787/4236543493.py\u001b[0m in \u001b[0;36m<cell line: 1>\u001b[0;34m()\u001b[0m\n\u001b[0;32m----> 1\u001b[0;31m \u001b[0mactivations\u001b[0m \u001b[0;34m=\u001b[0m \u001b[0mtorch\u001b[0m\u001b[0;34m.\u001b[0m\u001b[0mload\u001b[0m\u001b[0;34m(\u001b[0m\u001b[0;34m\"outputs.pt\"\u001b[0m\u001b[0;34m)\u001b[0m\u001b[0;34m\u001b[0m\u001b[0;34m\u001b[0m\u001b[0m\n\u001b[0m\u001b[1;32m      2\u001b[0m \u001b[0mprint\u001b[0m\u001b[0;34m(\u001b[0m\u001b[0mactivations\u001b[0m\u001b[0;34m.\u001b[0m\u001b[0mkeys\u001b[0m\u001b[0;34m(\u001b[0m\u001b[0;34m)\u001b[0m\u001b[0;34m)\u001b[0m\u001b[0;34m\u001b[0m\u001b[0;34m\u001b[0m\u001b[0m\n\u001b[1;32m      3\u001b[0m \u001b[0mforth_epoch\u001b[0m \u001b[0;34m=\u001b[0m \u001b[0mactivations\u001b[0m\u001b[0;34m[\u001b[0m\u001b[0;36m3\u001b[0m\u001b[0;34m]\u001b[0m\u001b[0;34m\u001b[0m\u001b[0;34m\u001b[0m\u001b[0m\n\u001b[1;32m      4\u001b[0m \u001b[0mprint\u001b[0m\u001b[0;34m(\u001b[0m\u001b[0mforth_epoch\u001b[0m\u001b[0;34m.\u001b[0m\u001b[0mkeys\u001b[0m\u001b[0;34m(\u001b[0m\u001b[0;34m)\u001b[0m\u001b[0;34m)\u001b[0m\u001b[0;34m\u001b[0m\u001b[0;34m\u001b[0m\u001b[0m\n",
      "\u001b[0;32m~/miniconda3/envs/BA-conda-env1/lib/python3.9/site-packages/torch/serialization.py\u001b[0m in \u001b[0;36mload\u001b[0;34m(f, map_location, pickle_module, weights_only, **pickle_load_args)\u001b[0m\n\u001b[1;32m    787\u001b[0m                     \u001b[0;32mexcept\u001b[0m \u001b[0mRuntimeError\u001b[0m \u001b[0;32mas\u001b[0m \u001b[0me\u001b[0m\u001b[0;34m:\u001b[0m\u001b[0;34m\u001b[0m\u001b[0;34m\u001b[0m\u001b[0m\n\u001b[1;32m    788\u001b[0m                         \u001b[0;32mraise\u001b[0m \u001b[0mpickle\u001b[0m\u001b[0;34m.\u001b[0m\u001b[0mUnpicklingError\u001b[0m\u001b[0;34m(\u001b[0m\u001b[0mUNSAFE_MESSAGE\u001b[0m \u001b[0;34m+\u001b[0m \u001b[0mstr\u001b[0m\u001b[0;34m(\u001b[0m\u001b[0me\u001b[0m\u001b[0;34m)\u001b[0m\u001b[0;34m)\u001b[0m \u001b[0;32mfrom\u001b[0m \u001b[0;32mNone\u001b[0m\u001b[0;34m\u001b[0m\u001b[0;34m\u001b[0m\u001b[0m\n\u001b[0;32m--> 789\u001b[0;31m                 \u001b[0;32mreturn\u001b[0m \u001b[0m_load\u001b[0m\u001b[0;34m(\u001b[0m\u001b[0mopened_zipfile\u001b[0m\u001b[0;34m,\u001b[0m \u001b[0mmap_location\u001b[0m\u001b[0;34m,\u001b[0m \u001b[0mpickle_module\u001b[0m\u001b[0;34m,\u001b[0m \u001b[0;34m**\u001b[0m\u001b[0mpickle_load_args\u001b[0m\u001b[0;34m)\u001b[0m\u001b[0;34m\u001b[0m\u001b[0;34m\u001b[0m\u001b[0m\n\u001b[0m\u001b[1;32m    790\u001b[0m         \u001b[0;32mif\u001b[0m \u001b[0mweights_only\u001b[0m\u001b[0;34m:\u001b[0m\u001b[0;34m\u001b[0m\u001b[0;34m\u001b[0m\u001b[0m\n\u001b[1;32m    791\u001b[0m             \u001b[0;32mtry\u001b[0m\u001b[0;34m:\u001b[0m\u001b[0;34m\u001b[0m\u001b[0;34m\u001b[0m\u001b[0m\n",
      "\u001b[0;32m~/miniconda3/envs/BA-conda-env1/lib/python3.9/site-packages/torch/serialization.py\u001b[0m in \u001b[0;36m_load\u001b[0;34m(zip_file, map_location, pickle_module, pickle_file, **pickle_load_args)\u001b[0m\n\u001b[1;32m   1129\u001b[0m     \u001b[0munpickler\u001b[0m \u001b[0;34m=\u001b[0m \u001b[0mUnpicklerWrapper\u001b[0m\u001b[0;34m(\u001b[0m\u001b[0mdata_file\u001b[0m\u001b[0;34m,\u001b[0m \u001b[0;34m**\u001b[0m\u001b[0mpickle_load_args\u001b[0m\u001b[0;34m)\u001b[0m\u001b[0;34m\u001b[0m\u001b[0;34m\u001b[0m\u001b[0m\n\u001b[1;32m   1130\u001b[0m     \u001b[0munpickler\u001b[0m\u001b[0;34m.\u001b[0m\u001b[0mpersistent_load\u001b[0m \u001b[0;34m=\u001b[0m \u001b[0mpersistent_load\u001b[0m\u001b[0;34m\u001b[0m\u001b[0;34m\u001b[0m\u001b[0m\n\u001b[0;32m-> 1131\u001b[0;31m     \u001b[0mresult\u001b[0m \u001b[0;34m=\u001b[0m \u001b[0munpickler\u001b[0m\u001b[0;34m.\u001b[0m\u001b[0mload\u001b[0m\u001b[0;34m(\u001b[0m\u001b[0;34m)\u001b[0m\u001b[0;34m\u001b[0m\u001b[0;34m\u001b[0m\u001b[0m\n\u001b[0m\u001b[1;32m   1132\u001b[0m \u001b[0;34m\u001b[0m\u001b[0m\n\u001b[1;32m   1133\u001b[0m     \u001b[0mtorch\u001b[0m\u001b[0;34m.\u001b[0m\u001b[0m_utils\u001b[0m\u001b[0;34m.\u001b[0m\u001b[0m_validate_loaded_sparse_tensors\u001b[0m\u001b[0;34m(\u001b[0m\u001b[0;34m)\u001b[0m\u001b[0;34m\u001b[0m\u001b[0;34m\u001b[0m\u001b[0m\n",
      "\u001b[0;32m~/miniconda3/envs/BA-conda-env1/lib/python3.9/site-packages/torch/serialization.py\u001b[0m in \u001b[0;36mpersistent_load\u001b[0;34m(saved_id)\u001b[0m\n\u001b[1;32m   1099\u001b[0m         \u001b[0;32mif\u001b[0m \u001b[0mkey\u001b[0m \u001b[0;32mnot\u001b[0m \u001b[0;32min\u001b[0m \u001b[0mloaded_storages\u001b[0m\u001b[0;34m:\u001b[0m\u001b[0;34m\u001b[0m\u001b[0;34m\u001b[0m\u001b[0m\n\u001b[1;32m   1100\u001b[0m             \u001b[0mnbytes\u001b[0m \u001b[0;34m=\u001b[0m \u001b[0mnumel\u001b[0m \u001b[0;34m*\u001b[0m \u001b[0mtorch\u001b[0m\u001b[0;34m.\u001b[0m\u001b[0m_utils\u001b[0m\u001b[0;34m.\u001b[0m\u001b[0m_element_size\u001b[0m\u001b[0;34m(\u001b[0m\u001b[0mdtype\u001b[0m\u001b[0;34m)\u001b[0m\u001b[0;34m\u001b[0m\u001b[0;34m\u001b[0m\u001b[0m\n\u001b[0;32m-> 1101\u001b[0;31m             \u001b[0mload_tensor\u001b[0m\u001b[0;34m(\u001b[0m\u001b[0mdtype\u001b[0m\u001b[0;34m,\u001b[0m \u001b[0mnbytes\u001b[0m\u001b[0;34m,\u001b[0m \u001b[0mkey\u001b[0m\u001b[0;34m,\u001b[0m \u001b[0m_maybe_decode_ascii\u001b[0m\u001b[0;34m(\u001b[0m\u001b[0mlocation\u001b[0m\u001b[0;34m)\u001b[0m\u001b[0;34m)\u001b[0m\u001b[0;34m\u001b[0m\u001b[0;34m\u001b[0m\u001b[0m\n\u001b[0m\u001b[1;32m   1102\u001b[0m \u001b[0;34m\u001b[0m\u001b[0m\n\u001b[1;32m   1103\u001b[0m         \u001b[0;32mreturn\u001b[0m \u001b[0mloaded_storages\u001b[0m\u001b[0;34m[\u001b[0m\u001b[0mkey\u001b[0m\u001b[0;34m]\u001b[0m\u001b[0;34m\u001b[0m\u001b[0;34m\u001b[0m\u001b[0m\n",
      "\u001b[0;32m~/miniconda3/envs/BA-conda-env1/lib/python3.9/site-packages/torch/serialization.py\u001b[0m in \u001b[0;36mload_tensor\u001b[0;34m(dtype, numel, key, location)\u001b[0m\n\u001b[1;32m   1077\u001b[0m         \u001b[0mname\u001b[0m \u001b[0;34m=\u001b[0m \u001b[0;34mf'data/{key}'\u001b[0m\u001b[0;34m\u001b[0m\u001b[0;34m\u001b[0m\u001b[0m\n\u001b[1;32m   1078\u001b[0m \u001b[0;34m\u001b[0m\u001b[0m\n\u001b[0;32m-> 1079\u001b[0;31m         \u001b[0mstorage\u001b[0m \u001b[0;34m=\u001b[0m \u001b[0mzip_file\u001b[0m\u001b[0;34m.\u001b[0m\u001b[0mget_storage_from_record\u001b[0m\u001b[0;34m(\u001b[0m\u001b[0mname\u001b[0m\u001b[0;34m,\u001b[0m \u001b[0mnumel\u001b[0m\u001b[0;34m,\u001b[0m \u001b[0mtorch\u001b[0m\u001b[0;34m.\u001b[0m\u001b[0mUntypedStorage\u001b[0m\u001b[0;34m)\u001b[0m\u001b[0;34m.\u001b[0m\u001b[0mstorage\u001b[0m\u001b[0;34m(\u001b[0m\u001b[0;34m)\u001b[0m\u001b[0;34m.\u001b[0m\u001b[0muntyped\u001b[0m\u001b[0;34m(\u001b[0m\u001b[0;34m)\u001b[0m\u001b[0;34m\u001b[0m\u001b[0;34m\u001b[0m\u001b[0m\n\u001b[0m\u001b[1;32m   1080\u001b[0m         \u001b[0;31m# TODO: Once we decide to break serialization FC, we can\u001b[0m\u001b[0;34m\u001b[0m\u001b[0;34m\u001b[0m\u001b[0m\n\u001b[1;32m   1081\u001b[0m         \u001b[0;31m# stop wrapping with TypedStorage\u001b[0m\u001b[0;34m\u001b[0m\u001b[0;34m\u001b[0m\u001b[0m\n",
      "\u001b[0;31mKeyboardInterrupt\u001b[0m: "
     ]
    }
   ],
   "source": [
    "activations = torch.load(\"outputs.pt\")\n",
    "print(activations.keys())\n",
    "forth_epoch = activations[3]\n",
    "print(forth_epoch.keys())"
   ]
  },
  {
   "cell_type": "code",
   "execution_count": 119,
   "id": "0d06b891",
   "metadata": {},
   "outputs": [
    {
     "name": "stdout",
     "output_type": "stream",
     "text": [
      "<class 'list'>\n",
      "4\n"
     ]
    }
   ],
   "source": [
    "print(type(forth_epoch[\"train\"]))\n",
    "print(len(forth_epoch[\"train\"]))"
   ]
  },
  {
   "cell_type": "code",
   "execution_count": 128,
   "id": "907421a7",
   "metadata": {},
   "outputs": [
    {
     "name": "stdout",
     "output_type": "stream",
     "text": [
      "torch.Size([512, 25000])\n"
     ]
    }
   ],
   "source": [
    "print(forth_epoch[\"train\"][0].size())"
   ]
  }
 ],
 "metadata": {
  "kernelspec": {
   "display_name": "BA-conda-env1",
   "language": "python",
   "name": "python3"
  },
  "language_info": {
   "codemirror_mode": {
    "name": "ipython",
    "version": 3
   },
   "file_extension": ".py",
   "mimetype": "text/x-python",
   "name": "python",
   "nbconvert_exporter": "python",
   "pygments_lexer": "ipython3",
   "version": "3.9.16"
  }
 },
 "nbformat": 4,
 "nbformat_minor": 5
}
