{
 "cells": [
  {
   "cell_type": "code",
   "execution_count": 1,
   "id": "b1797021",
   "metadata": {},
   "outputs": [],
   "source": [
    "import collections\n",
    "\n",
    "import datasets\n",
    "import matplotlib.pyplot as plt\n",
    "import numpy as np\n",
    "import torch\n",
    "import torch.nn as nn\n",
    "import torch.optim as optim\n",
    "import torchtext\n",
    "import tqdm\n",
    "\n",
    "\n",
    "from datasets.arrow_dataset import Dataset"
   ]
  },
  {
   "cell_type": "code",
   "execution_count": 2,
   "id": "0d5b5146",
   "metadata": {},
   "outputs": [],
   "source": [
    "seed = 1234\n",
    "\n",
    "np.random.seed(seed)\n",
    "torch.manual_seed(seed)\n",
    "torch.cuda.manual_seed(seed)\n",
    "torch.backends.cudnn.deterministic = True"
   ]
  },
  {
   "cell_type": "markdown",
   "id": "d5601cfc",
   "metadata": {},
   "source": [
    "### Dataset"
   ]
  },
  {
   "cell_type": "code",
   "execution_count": 3,
   "id": "1f9cda19",
   "metadata": {},
   "outputs": [],
   "source": [
    "train_data, test_data  = datasets.load_dataset(\"imdb\", split=[\"train\", \"test\"])\n",
    "dataset_name = \"IMDB\""
   ]
  },
  {
   "cell_type": "code",
   "execution_count": 3,
   "id": "8da8833c",
   "metadata": {},
   "outputs": [],
   "source": [
    "train_data, test_data = datasets.load_dataset(\"fancyzhx/dbpedia_14\", split=[\"train\", \"test\"])\n",
    "dataset_name = \"DBPedia\""
   ]
  },
  {
   "cell_type": "code",
   "execution_count": 33,
   "id": "f615d39f",
   "metadata": {},
   "outputs": [
    {
     "name": "stderr",
     "output_type": "stream",
     "text": [
      "Repo card metadata block was not found. Setting CardData to empty.\n"
     ]
    }
   ],
   "source": [
    "train_data, test_data= datasets.load_dataset(\"SetFit/20_newsgroups\", split=[\"train\", \"test\"])\n",
    "dataset_name = \"Newsgroup\""
   ]
  },
  {
   "cell_type": "code",
   "execution_count": 4,
   "id": "32a115b5",
   "metadata": {},
   "outputs": [],
   "source": [
    "train_data : Dataset\n",
    "test_data : Dataset"
   ]
  },
  {
   "cell_type": "code",
   "execution_count": 60,
   "id": "12170449",
   "metadata": {},
   "outputs": [],
   "source": [
    "train_on = \"superclasses\""
   ]
  },
  {
   "cell_type": "code",
   "execution_count": 5,
   "id": "58d67878",
   "metadata": {},
   "outputs": [],
   "source": [
    "train_on = \"subclasses\""
   ]
  },
  {
   "cell_type": "code",
   "execution_count": 10,
   "id": "97ed128f",
   "metadata": {},
   "outputs": [
    {
     "name": "stdout",
     "output_type": "stream",
     "text": [
      "Original train_data length: 11314\n",
      "Original test_data length: 7532\n",
      "Reduced train_data length: 1131\n",
      "Reduced test_data length: 753\n"
     ]
    }
   ],
   "source": [
    "### sample and reduce poth splits to 10% of the original size\n",
    "\n",
    "\n",
    "print(f\"Original train_data length: {len(train_data)}\")\n",
    "print(f\"Original test_data length: {len(test_data)}\")\n",
    "\n",
    "\n",
    "train_data = train_data.select(indices=np.random.choice(len(train_data), len(train_data)//10))\n",
    "test_data = test_data.select(indices=np.random.choice(len(test_data), len(test_data)//10))\n",
    "\n",
    "print(f\"Reduced train_data length: {len(train_data)}\")\n",
    "print(f\"Reduced test_data length: {len(test_data)}\")"
   ]
  },
  {
   "cell_type": "markdown",
   "id": "6f5c34f9",
   "metadata": {},
   "source": [
    "### newsgroup"
   ]
  },
  {
   "cell_type": "code",
   "execution_count": 36,
   "id": "106c0448",
   "metadata": {},
   "outputs": [],
   "source": [
    "def unique_labels_and_names(dataset: Dataset):\n",
    "    \n",
    "    # STEP 1: Get the unique labels and their names\n",
    "    labels = []\n",
    "    names = []\n",
    "    for example in dataset:\n",
    "        # print(example)\n",
    "        if example[\"label\"] in labels:\n",
    "            continue\n",
    "        else:\n",
    "            print(example[\"label\"], example[\"label_text\"])\n",
    "\n",
    "            labels.append(example[\"label\"])\n",
    "            names.append(example[\"label_text\"])\n",
    "\n",
    "    # STEP 2: sort the labels and names\n",
    "    labels, names = zip(*sorted(zip(labels, names)))\n",
    "\n",
    "\n",
    "    return labels, names\n",
    "\n",
    "# xxxlabels,xxx_names = unique_labels_and_names(train_data)"
   ]
  },
  {
   "cell_type": "markdown",
   "id": "33f00d11",
   "metadata": {},
   "source": [
    "| computers                                        | recreation                                         | science                         |\n",
    "|----------------------------------------------------|---------------------------------------------------|-------------------------------------|\n",
    "| comp.graphics<br>comp.os.ms-windows.misc<br>comp.sys.ibm.pc.hardware<br>comp.sys.mac.hardware<br>comp.windows.x | rec.autos<br>rec.motorcycles<br>rec.sport.baseball<br>rec.sport.hockey | sci.crypt<br>sci.electronics<br>sci.med<br>sci.space |\n",
    "\n",
    "\n",
    "| misc    | talk                                                      | religion                                                     |\n",
    "|---------------|----------------------------------------------------------------|----------------------------------------------------------------|\n",
    "| misc.forsale | talk.politics.misc<br>talk.politics.guns<br>talk.politics.mideast | talk.religion.misc<br>alt.atheism<br>soc.religion.christian |\n"
   ]
  },
  {
   "cell_type": "code",
   "execution_count": 37,
   "id": "54976489",
   "metadata": {},
   "outputs": [],
   "source": [
    "newsgroups_subclass_names = ['alt.atheism', 'comp.graphics', 'comp.os.ms-windows.misc',\n",
    "                            'comp.sys.ibm.pc.hardware', 'comp.sys.mac.hardware',\n",
    "                            'comp.windows.x', 'misc.forsale', 'rec.autos',\n",
    "                            'rec.motorcycles', 'rec.sport.baseball', 'rec.sport.hockey',\n",
    "                            'sci.crypt', 'sci.electronics', 'sci.med', 'sci.space', \n",
    "                            'soc.religion.christian','talk.politics.guns','talk.politics.mideast',\n",
    "                            'talk.politics.misc', 'talk.religion.misc']\n",
    "\n",
    "newsgroups_ontology = { 0: 5, # alt.atheism: religion\n",
    "                        1: 0, # comp.graphics: computers\n",
    "                        2: 0, # comp.os.ms-windows.misc: computers\n",
    "                        3: 0, # comp.sys.ibm.pc.hardware: computers\n",
    "                        4: 0, # comp.sys.mac.hardware: computers\n",
    "                        5: 0, # comp.windows.x: computers\n",
    "                        6: 3, # misc.forsale: misc\n",
    "                        7: 1, # rec.autos: recreation\n",
    "                        8: 1, # rec.motorcycles: recreation\n",
    "                        9: 1, # rec.sport.baseball: recreation\n",
    "                        10: 1, # rec.sport.hockey: recreation\n",
    "                        11: 2, # sci.crypt: science\n",
    "                        12: 2, # sci.electronics: science\n",
    "                        13: 2, # sci.med: science\n",
    "                        14: 2, # sci.space: science\n",
    "                        15: 5, # soc.religion.christian: religion\n",
    "                        16: 4, # talk.politics.guns: politics\n",
    "                        17: 4, # talk.politics.mideast: politics\n",
    "                        18: 4, # talk.politics.misc: politics\n",
    "                        19: 5 # talk.religion.misc: religion\n",
    "                    }\n",
    "\n",
    "\n",
    "\n",
    "newsgroups_superclass_names = ['computers', 'recreation', 'science', 'misc', 'politics', 'religion']\n",
    "\n",
    "\n"
   ]
  },
  {
   "cell_type": "markdown",
   "id": "6d76d211",
   "metadata": {},
   "source": [
    "### DBpedia"
   ]
  },
  {
   "cell_type": "code",
   "execution_count": 38,
   "id": "1c78956b",
   "metadata": {},
   "outputs": [],
   "source": [
    "dbpedia_subclass_names = [\n",
    "    'company', 'educational institution', 'artist', 'athlete', \n",
    "    'office holder', 'mean of transportation', 'building', \n",
    "    'natural place', 'village', 'animal', 'plant', \n",
    "    'album', 'film', 'writtenWork'\n",
    "]\n",
    "\n",
    "\n",
    "\n",
    "dbpedia_ontology ={      0: 1, # company : other\n",
    "        1: 1, # educational institution : other\n",
    "        2: 0, # artist : person\n",
    "        3: 0, # athlete : person\n",
    "        4: 0, # office holder : person\n",
    "        5: 1, # mean of transportation : other\n",
    "        6: 2, # building : place\n",
    "        7: 2, # natural place : place\n",
    "        8: 2, # village : place\n",
    "        9: 3, # animal : organism\n",
    "        10: 3, # plant : organism\n",
    "        11: 4, # album : artwork\n",
    "        12: 4, # film : artwork\n",
    "        13: 4, # writtenWork : artwork\n",
    "    }\n",
    "\n",
    "\n",
    "dbpedia_superclass_names = [\"other\", \"person\", \"place\", \"organism\", \"artwork\"]\n",
    "\n"
   ]
  },
  {
   "cell_type": "markdown",
   "id": "94a615da",
   "metadata": {},
   "source": [
    "## prepare"
   ]
  },
  {
   "cell_type": "code",
   "execution_count": 39,
   "id": "81008c1e",
   "metadata": {},
   "outputs": [
    {
     "name": "stdout",
     "output_type": "stream",
     "text": [
      "Newsgroup\n"
     ]
    }
   ],
   "source": [
    "print(dataset_name)\n",
    "if dataset_name == \"IMDB\":\n",
    "    superclass_names = [\"negative\", \"positive\"]\n",
    "    subclass_names = [\"negative\", \"positive\"]\n",
    "    ont_mapping = {0: 0, 1: 1}\n",
    "\n",
    "elif dataset_name == \"Newsgroup\":\n",
    "    superclass_names = newsgroups_superclass_names\n",
    "    subclass_names = newsgroups_subclass_names\n",
    "    ont_mapping = newsgroups_ontology\n",
    "elif dataset_name == \"DBPedia\":\n",
    "\n",
    "    superclass_names = dbpedia_superclass_names\n",
    "    subclass_names = dbpedia_subclass_names\n",
    "    ont_mapping = dbpedia_ontology\n",
    "else:\n",
    "    raise ValueError(\"Unknown dataset\")"
   ]
  },
  {
   "cell_type": "code",
   "execution_count": 40,
   "id": "8a178fe0",
   "metadata": {},
   "outputs": [
    {
     "name": "stdout",
     "output_type": "stream",
     "text": [
      "alt.atheism : religion\n",
      "comp.graphics : computers\n",
      "comp.os.ms-windows.misc : computers\n",
      "comp.sys.ibm.pc.hardware : computers\n",
      "comp.sys.mac.hardware : computers\n",
      "comp.windows.x : computers\n",
      "misc.forsale : misc\n",
      "rec.autos : recreation\n",
      "rec.motorcycles : recreation\n",
      "rec.sport.baseball : recreation\n",
      "rec.sport.hockey : recreation\n",
      "sci.crypt : science\n",
      "sci.electronics : science\n",
      "sci.med : science\n",
      "sci.space : science\n",
      "soc.religion.christian : religion\n",
      "talk.politics.guns : politics\n",
      "talk.politics.mideast : politics\n",
      "talk.politics.misc : politics\n",
      "talk.religion.misc : religion\n"
     ]
    }
   ],
   "source": [
    "### sanity check..\n",
    "\n",
    "for i in range(len(subclass_names)):\n",
    "    print(subclass_names[i], \":\", superclass_names[ont_mapping[i]])"
   ]
  },
  {
   "cell_type": "markdown",
   "id": "7afb92a6",
   "metadata": {},
   "source": [
    "###### for now reduce in size to save time"
   ]
  },
  {
   "cell_type": "markdown",
   "id": "eeca3793",
   "metadata": {},
   "source": [
    "### Prepare Data"
   ]
  },
  {
   "cell_type": "code",
   "execution_count": 41,
   "id": "7318b0e8",
   "metadata": {},
   "outputs": [],
   "source": [
    "\n",
    "\n",
    "def set_labels_superclasses(batch):\n",
    "\n",
    "    ### set the superclasses as the labels\n",
    "    ### the subclasses are the original labels\n",
    "    labels = batch[\"label\"]\n",
    "\n",
    "    superclasses = [ont_mapping[subclass] for subclass in labels]\n",
    "\n",
    "    batch[\"subclasses\"] = labels\n",
    "    batch[\"superclasses\"] = superclasses\n",
    "\n",
    "\n",
    "    batch[\"label\"] = superclasses\n",
    "\n",
    "    return batch\n",
    "\n",
    "def set_labels_subclasses(batch):\n",
    "\n",
    "    ## just add the superclasses for analysis\n",
    "    ## subclasses are the original labels\n",
    "    labels = batch[\"label\"]\n",
    "\n",
    "    superclasses = [ont_mapping[subclass] for subclass in labels]\n",
    "\n",
    "    batch[\"subclasses\"] = labels\n",
    "    batch[\"superclasses\"] = superclasses\n",
    "\n",
    "\n",
    "    return batch\n",
    "\n",
    "\n",
    "\n",
    "if train_on == \"superclasses\":\n",
    "    train_data = train_data.map(set_labels_superclasses, batched=True)\n",
    "    test_data = test_data.map(set_labels_superclasses, batched=True)\n",
    "\n",
    "elif train_on == \"subclasses\":\n",
    "    train_data = train_data.map(set_labels_subclasses, batched=True)\n",
    "    test_data = test_data.map(set_labels_subclasses, batched=True)\n",
    "\n",
    "else:\n",
    "    raise ValueError(f\"Invalid train_on value : {train_on}\")"
   ]
  },
  {
   "cell_type": "code",
   "execution_count": 42,
   "id": "48f4c1f6",
   "metadata": {},
   "outputs": [],
   "source": [
    "tokenizer = torchtext.data.utils.get_tokenizer(\"basic_english\")"
   ]
  },
  {
   "cell_type": "code",
   "execution_count": 43,
   "id": "4815a1f5",
   "metadata": {},
   "outputs": [],
   "source": [
    "###use  either the \"tiles\" or the \"content\" for tokenizations \n",
    "def tokenize_example_content(example, tokenizer, max_length):\n",
    "    tokens = tokenizer(example[\"content\"])[:max_length]\n",
    "    return {\"tokens\": tokens}\n",
    "\n",
    "def tokenize_example_title(example, tokenizer, max_length):\n",
    "    tokens = tokenizer(example[\"title\"])[:max_length]\n",
    "    return {\"tokens\": tokens}\n",
    "\n",
    "\n",
    "\n",
    "def tokenize_example(example, tokenizer, max_length):\n",
    "    tokens = tokenizer(example[\"text\"])[:max_length]\n",
    "    return {\"tokens\": tokens}"
   ]
  },
  {
   "cell_type": "code",
   "execution_count": 44,
   "id": "98a0df00",
   "metadata": {},
   "outputs": [
    {
     "name": "stdout",
     "output_type": "stream",
     "text": [
      "{'text': 'I was wondering if anyone out there could enlighten me on this car I saw\\nthe other day. It was a 2-door sports car, looked to be from the late 60s/\\nearly 70s. It was called a Bricklin. The doors were really small. In addition,\\nthe front bumper was separate from the rest of the body. This is \\nall I know. If anyone can tellme a model name, engine specs, years\\nof production, where this car is made, history, or whatever info you\\nhave on this funky looking car, please e-mail.', 'label': 7, 'label_text': 'rec.autos', 'subclasses': 7, 'superclasses': 1}\n"
     ]
    }
   ],
   "source": [
    "print(train_data[0])"
   ]
  },
  {
   "cell_type": "code",
   "execution_count": null,
   "id": "41a5c8e6",
   "metadata": {},
   "outputs": [],
   "source": []
  },
  {
   "cell_type": "code",
   "execution_count": 45,
   "id": "eca685b6",
   "metadata": {},
   "outputs": [],
   "source": [
    "max_length = 256\n",
    "\n",
    "if dataset_name == \"DBPedia\":\n",
    "    train_data = train_data.map(\n",
    "        tokenize_example_content, fn_kwargs={\"tokenizer\": tokenizer, \"max_length\": max_length}\n",
    "    )\n",
    "    test_data = test_data.map(\n",
    "        tokenize_example_content, fn_kwargs={\"tokenizer\": tokenizer, \"max_length\": max_length}\n",
    "    )\n",
    "elif dataset_name == \"IMDB\":\n",
    "\n",
    "    train_data = train_data.map(\n",
    "        tokenize_example, fn_kwargs={\"tokenizer\": tokenizer, \"max_length\": max_length}\n",
    "    )\n",
    "    test_data = test_data.map(\n",
    "        tokenize_example, fn_kwargs={\"tokenizer\": tokenizer, \"max_length\": max_length}\n",
    "    )\n",
    "elif dataset_name == \"Newsgroup\":\n",
    "    train_data = train_data.map(\n",
    "        tokenize_example, fn_kwargs={\"tokenizer\": tokenizer, \"max_length\": max_length}\n",
    "    )\n",
    "    test_data = test_data.map(\n",
    "        tokenize_example, fn_kwargs={\"tokenizer\": tokenizer, \"max_length\": max_length}\n",
    "    )\n",
    "else:\n",
    "    raise ValueError(f\"Invalid dataset_name value : {dataset_name}\")"
   ]
  },
  {
   "cell_type": "code",
   "execution_count": 46,
   "id": "cb53b268",
   "metadata": {},
   "outputs": [],
   "source": [
    "test_size = 0.25\n",
    "\n",
    "train_valid_data = train_data.train_test_split(test_size=test_size)\n",
    "train_data = train_valid_data[\"train\"]\n",
    "valid_data = train_valid_data[\"test\"]"
   ]
  },
  {
   "cell_type": "code",
   "execution_count": 47,
   "id": "a7f7d1d7",
   "metadata": {},
   "outputs": [],
   "source": [
    "min_freq = 5\n",
    "special_tokens = [\"<unk>\", \"<pad>\"]\n",
    "\n",
    "vocab = torchtext.vocab.build_vocab_from_iterator(\n",
    "    train_data[\"tokens\"],\n",
    "    min_freq=min_freq,\n",
    "    specials=special_tokens,\n",
    ")"
   ]
  },
  {
   "cell_type": "code",
   "execution_count": 48,
   "id": "d029794a",
   "metadata": {},
   "outputs": [],
   "source": [
    "unk_index = vocab[\"<unk>\"]\n",
    "pad_index = vocab[\"<pad>\"]"
   ]
  },
  {
   "cell_type": "code",
   "execution_count": 49,
   "id": "03aa4514",
   "metadata": {},
   "outputs": [],
   "source": [
    "vocab.set_default_index(unk_index)"
   ]
  },
  {
   "cell_type": "code",
   "execution_count": 50,
   "id": "0133bdd3",
   "metadata": {},
   "outputs": [],
   "source": [
    "def numericalize_example(example, vocab):\n",
    "    ids = vocab.lookup_indices(example[\"tokens\"])\n",
    "    return {\"ids\": ids}"
   ]
  },
  {
   "cell_type": "code",
   "execution_count": 51,
   "id": "558fd52a",
   "metadata": {},
   "outputs": [
    {
     "data": {
      "application/vnd.jupyter.widget-view+json": {
       "model_id": "a65bb5b872754a8eb8a2c6e141e75861",
       "version_major": 2,
       "version_minor": 0
      },
      "text/plain": [
       "Map:   0%|          | 0/8485 [00:00<?, ? examples/s]"
      ]
     },
     "metadata": {},
     "output_type": "display_data"
    },
    {
     "name": "stdout",
     "output_type": "stream",
     "text": [
      "[ 0  1  2  3  4  5  6  7  8  9 10 11 12 13 14 15 16 17 18 19]\n"
     ]
    }
   ],
   "source": [
    "def test_debug(batch):\n",
    "    labels = batch[\"label\"]\n",
    "    lables_np = np.array(labels)\n",
    "\n",
    "    unique = np.unique(lables_np)\n",
    "    print(unique)\n",
    "    return batch\n",
    "\n",
    "\n",
    "train_data = train_data.map(test_debug, batched=True, batch_size=len(train_data))"
   ]
  },
  {
   "cell_type": "code",
   "execution_count": 52,
   "id": "a8deac4e",
   "metadata": {},
   "outputs": [
    {
     "data": {
      "application/vnd.jupyter.widget-view+json": {
       "model_id": "89c98e48e56a4af1a46549a2b26a33ed",
       "version_major": 2,
       "version_minor": 0
      },
      "text/plain": [
       "Map:   0%|          | 0/8485 [00:00<?, ? examples/s]"
      ]
     },
     "metadata": {},
     "output_type": "display_data"
    },
    {
     "data": {
      "application/vnd.jupyter.widget-view+json": {
       "model_id": "059584cf10344fc487ee3f25cc4a1214",
       "version_major": 2,
       "version_minor": 0
      },
      "text/plain": [
       "Map:   0%|          | 0/2829 [00:00<?, ? examples/s]"
      ]
     },
     "metadata": {},
     "output_type": "display_data"
    },
    {
     "data": {
      "application/vnd.jupyter.widget-view+json": {
       "model_id": "2aec4316238045b8ac6e1fbac990b121",
       "version_major": 2,
       "version_minor": 0
      },
      "text/plain": [
       "Map:   0%|          | 0/7532 [00:00<?, ? examples/s]"
      ]
     },
     "metadata": {},
     "output_type": "display_data"
    }
   ],
   "source": [
    "train_data = train_data.map(numericalize_example, fn_kwargs={\"vocab\": vocab})\n",
    "valid_data = valid_data.map(numericalize_example, fn_kwargs={\"vocab\": vocab})\n",
    "test_data = test_data.map(numericalize_example, fn_kwargs={\"vocab\": vocab})"
   ]
  },
  {
   "cell_type": "code",
   "execution_count": 53,
   "id": "29f4bd82",
   "metadata": {},
   "outputs": [],
   "source": [
    "train_data = train_data.with_format(type=\"torch\", columns=[\"ids\", \"label\", \"subclasses\", \"superclasses\"])\n",
    "valid_data = valid_data.with_format(type=\"torch\", columns=[\"ids\", \"label\", \"subclasses\", \"superclasses\"])\n",
    "test_data = test_data.with_format(type=\"torch\", columns=[\"ids\", \"label\", \"subclasses\", \"superclasses\"])\n",
    "\n",
    "\n"
   ]
  },
  {
   "cell_type": "code",
   "execution_count": 54,
   "id": "aa8b61f1",
   "metadata": {},
   "outputs": [
    {
     "data": {
      "application/vnd.jupyter.widget-view+json": {
       "model_id": "3a5a2d39d2df4a7ea23e0d908d82ddb5",
       "version_major": 2,
       "version_minor": 0
      },
      "text/plain": [
       "Map:   0%|          | 0/8485 [00:00<?, ? examples/s]"
      ]
     },
     "metadata": {},
     "output_type": "display_data"
    },
    {
     "data": {
      "application/vnd.jupyter.widget-view+json": {
       "model_id": "c0a4f319a3aa4c88a7471c8d067dcd5d",
       "version_major": 2,
       "version_minor": 0
      },
      "text/plain": [
       "Map:   0%|          | 0/2829 [00:00<?, ? examples/s]"
      ]
     },
     "metadata": {},
     "output_type": "display_data"
    },
    {
     "data": {
      "application/vnd.jupyter.widget-view+json": {
       "model_id": "7633581b16c54c0f8e0d982dbbbe2d4e",
       "version_major": 2,
       "version_minor": 0
      },
      "text/plain": [
       "Map:   0%|          | 0/7532 [00:00<?, ? examples/s]"
      ]
     },
     "metadata": {},
     "output_type": "display_data"
    }
   ],
   "source": [
    "def pad_to_max_length(batch):\n",
    "    # Extract `ids` as a list of tensors\n",
    "    ids = batch[\"ids\"]\n",
    "    \n",
    "    # Pad each tensor in `ids` to the same length\n",
    "    padded_ids = nn.utils.rnn.pad_sequence(ids, batch_first=True, padding_value=pad_index)\n",
    "    \n",
    "    # Truncate to max_seq_len if necessary\n",
    "    if padded_ids.shape[1] > max_length:\n",
    "        padded_ids = padded_ids[:, :max_length]\n",
    "    \n",
    "    # Add padded data back to batch\n",
    "    batch[\"padded_ids\"] = [padded_ids[i] for i in range(len(padded_ids))]\n",
    "    return batch\n",
    "\n",
    "# Apply padding function to each batch in the dataset\n",
    "# dataset = test_data.map(pad_to_max_length, batched=True, batch_size=len(test_data))\n",
    "\n",
    "train_data = train_data.map(pad_to_max_length, batched=True, batch_size=len(train_data))\n",
    "valid_data = valid_data.map(pad_to_max_length, batched=True, batch_size=len(valid_data))\n",
    "test_data = test_data.map(pad_to_max_length, batched=True, batch_size=len(test_data))\n"
   ]
  },
  {
   "cell_type": "code",
   "execution_count": 55,
   "id": "93f5e575",
   "metadata": {},
   "outputs": [
    {
     "name": "stdout",
     "output_type": "stream",
     "text": [
      "dict_keys(['label', 'subclasses', 'superclasses', 'ids', 'padded_ids'])\n",
      "<class 'torch.Tensor'>\n",
      "<class 'torch.Tensor'>\n",
      "<class 'torch.Tensor'>\n",
      "<class 'torch.Tensor'>\n",
      "<class 'torch.Tensor'>\n",
      "tensor([  17,  124,    8,   18,   25, 2795,    8,    3,    0,    0,    4,   44,\n",
      "        1119,    8,    0,   49,   18,   86,   10,  121,   19,    7,   89,  254,\n",
      "          17,    0,    0,    4, 2803,    0,    4,   10, 2803, 1485,   81,    0,\n",
      "           2,   16,   36,   18,  164,   14,    3,    0, 1135,  882, 5003,    2,\n",
      "        2197,    6,    0,   17,    3, 1592, 4535, 1966, 7099,    0,   35,   35,\n",
      "          35,   59,  116,    7,    9,   76, 1779,   13,    0,    2,    2,    2,\n",
      "          15,  127,    4,    1,    1,    1,    1,    1,    1,    1,    1,    1,\n",
      "           1,    1,    1,    1,    1,    1,    1,    1,    1,    1,    1,    1,\n",
      "           1,    1,    1,    1,    1,    1,    1,    1,    1,    1,    1,    1,\n",
      "           1,    1,    1,    1,    1,    1,    1,    1,    1,    1,    1,    1,\n",
      "           1,    1,    1,    1,    1,    1,    1,    1,    1,    1,    1,    1,\n",
      "           1,    1,    1,    1,    1,    1,    1,    1,    1,    1,    1,    1,\n",
      "           1,    1,    1,    1,    1,    1,    1,    1,    1,    1,    1,    1,\n",
      "           1,    1,    1,    1,    1,    1,    1,    1,    1,    1,    1,    1,\n",
      "           1,    1,    1,    1,    1,    1,    1,    1,    1,    1,    1,    1,\n",
      "           1,    1,    1,    1,    1,    1,    1,    1,    1,    1,    1,    1,\n",
      "           1,    1,    1,    1,    1,    1,    1,    1,    1,    1,    1,    1,\n",
      "           1,    1,    1,    1,    1,    1,    1,    1,    1,    1,    1,    1,\n",
      "           1,    1,    1,    1,    1,    1,    1,    1,    1,    1,    1,    1,\n",
      "           1,    1,    1,    1,    1,    1,    1,    1,    1,    1,    1,    1,\n",
      "           1,    1,    1,    1,    1,    1,    1,    1,    1,    1,    1,    1,\n",
      "           1,    1,    1,    1])\n",
      "tensor([  17,  124,    8,   18,   25, 2795,    8,    3,    0,    0,    4,   44,\n",
      "        1119,    8,    0,   49,   18,   86,   10,  121,   19,    7,   89,  254,\n",
      "          17,    0,    0,    4, 2803,    0,    4,   10, 2803, 1485,   81,    0,\n",
      "           2,   16,   36,   18,  164,   14,    3,    0, 1135,  882, 5003,    2,\n",
      "        2197,    6,    0,   17,    3, 1592, 4535, 1966, 7099,    0,   35,   35,\n",
      "          35,   59,  116,    7,    9,   76, 1779,   13,    0,    2,    2,    2,\n",
      "          15,  127,    4])\n"
     ]
    }
   ],
   "source": [
    "for jj in train_data:\n",
    "    print(jj.keys())\n",
    "    for kk in jj.keys():\n",
    "        print(type(jj[kk]))\n",
    "\n",
    "    print(jj[\"padded_ids\"])\n",
    "    print(jj[\"ids\"])\n",
    "    break"
   ]
  },
  {
   "cell_type": "code",
   "execution_count": 56,
   "id": "e2d6971c",
   "metadata": {},
   "outputs": [
    {
     "name": "stdout",
     "output_type": "stream",
     "text": [
      "<class 'datasets.arrow_dataset.Dataset'>\n",
      "8485\n",
      "torch.Size([256])\n",
      "dict_keys(['label', 'subclasses', 'superclasses', 'ids', 'padded_ids'])\n",
      "tensor(False)\n",
      "tensor(True)\n",
      "torch.Size([256])\n",
      "dict_keys(['label', 'subclasses', 'superclasses', 'ids', 'padded_ids'])\n",
      "tensor(False)\n",
      "tensor(True)\n",
      "torch.Size([256])\n",
      "dict_keys(['label', 'subclasses', 'superclasses', 'ids', 'padded_ids'])\n",
      "tensor(False)\n",
      "tensor(True)\n",
      "torch.Size([256])\n",
      "dict_keys(['label', 'subclasses', 'superclasses', 'ids', 'padded_ids'])\n",
      "tensor(False)\n",
      "tensor(True)\n",
      "torch.Size([256])\n",
      "dict_keys(['label', 'subclasses', 'superclasses', 'ids', 'padded_ids'])\n",
      "tensor(False)\n",
      "tensor(True)\n",
      "torch.Size([256])\n",
      "dict_keys(['label', 'subclasses', 'superclasses', 'ids', 'padded_ids'])\n",
      "tensor(False)\n",
      "tensor(True)\n",
      "torch.Size([256])\n",
      "dict_keys(['label', 'subclasses', 'superclasses', 'ids', 'padded_ids'])\n",
      "tensor(False)\n",
      "tensor(True)\n",
      "torch.Size([256])\n",
      "dict_keys(['label', 'subclasses', 'superclasses', 'ids', 'padded_ids'])\n",
      "tensor(False)\n",
      "tensor(True)\n",
      "torch.Size([256])\n",
      "dict_keys(['label', 'subclasses', 'superclasses', 'ids', 'padded_ids'])\n",
      "tensor(False)\n",
      "tensor(True)\n",
      "torch.Size([256])\n",
      "dict_keys(['label', 'subclasses', 'superclasses', 'ids', 'padded_ids'])\n",
      "tensor(False)\n",
      "tensor(True)\n"
     ]
    }
   ],
   "source": [
    "db_train = train_data\n",
    "print(type(db_train))\n",
    "print(db_train.__len__())\n",
    "\n",
    "for i in range(10):\n",
    "    print(db_train[i][\"padded_ids\"].size())\n",
    "    print(db_train[i].keys())\n",
    "    print(db_train[i][\"label\"]==db_train[i][\"superclasses\"])\n",
    "    print(db_train[i][\"label\"]==db_train[i][\"subclasses\"])"
   ]
  },
  {
   "cell_type": "code",
   "execution_count": 57,
   "id": "e7325258",
   "metadata": {},
   "outputs": [],
   "source": [
    "def get_collate_fn(pad_index):\n",
    "    def collate_fn(batch):\n",
    "        batch_ids = [i[\"padded_ids\"] for i in batch]\n",
    "        # batch_ids = nn.utils.rnn.pad_sequence(\n",
    "        #     batch_ids, padding_value=pad_index, batch_first=True\n",
    "        # )\n",
    "        batch_ids = torch.stack(batch_ids)\n",
    "        batch_label = [i[\"label\"] for i in batch]\n",
    "        batch_label = torch.stack(batch_label)\n",
    "        batch = {\"ids\": batch_ids, \"label\": batch_label}\n",
    "        return batch\n",
    "\n",
    "    return collate_fn"
   ]
  },
  {
   "cell_type": "code",
   "execution_count": 58,
   "id": "f1f41aff",
   "metadata": {},
   "outputs": [],
   "source": [
    "def get_collate_fn_2(pad_index):\n",
    "    def collate_fn(batch):\n",
    "        batch_ids = [i[\"padded_ids\"] for i in batch]\n",
    "        # batch_ids = nn.utils.rnn.pad_sequence(\n",
    "        #     batch_ids, padding_value=pad_index, batch_first=True\n",
    "        # )\n",
    "        batch_ids = torch.stack(batch_ids)\n",
    "        batch_label = [i[\"label\"] for i in batch]\n",
    "        batch_label = torch.stack(batch_label)\n",
    "\n",
    "        batch_subclasses = [i[\"subclasses\"] for i in batch]\n",
    "        batch_subclasses = torch.stack(batch_subclasses)\n",
    "\n",
    "        batch_superclasses = [i[\"superclasses\"] for i in batch]\n",
    "        batch_superclasses = torch.stack(batch_superclasses)\n",
    "\n",
    "        batch = {\"ids\": batch_ids, \"label\": batch_label, \"subclasses\": batch_subclasses, \"superclasses\": batch_superclasses}\n",
    "        return batch\n",
    "\n",
    "    return collate_fn"
   ]
  },
  {
   "cell_type": "code",
   "execution_count": 59,
   "id": "a3ba6bc6",
   "metadata": {},
   "outputs": [],
   "source": [
    "def get_data_loader(dataset, batch_size, pad_index, shuffle=False):\n",
    "    collate_fn = get_collate_fn_2(pad_index)\n",
    "    data_loader = torch.utils.data.DataLoader(\n",
    "        dataset=dataset,\n",
    "        batch_size=batch_size,\n",
    "        collate_fn=collate_fn,\n",
    "        shuffle=shuffle,\n",
    "    )\n",
    "    return data_loader"
   ]
  },
  {
   "cell_type": "code",
   "execution_count": 60,
   "id": "be456751",
   "metadata": {},
   "outputs": [],
   "source": [
    "batch_size = 320\n",
    "\n",
    "train_data_loader = get_data_loader(train_data, batch_size, pad_index, shuffle=True)\n",
    "valid_data_loader = get_data_loader(valid_data, batch_size, pad_index)\n",
    "test_data_loader = get_data_loader(test_data, batch_size, pad_index)"
   ]
  },
  {
   "cell_type": "code",
   "execution_count": 61,
   "id": "1e7ec7b7",
   "metadata": {},
   "outputs": [
    {
     "name": "stdout",
     "output_type": "stream",
     "text": [
      "number of training samples:  8485\n",
      "275\n"
     ]
    }
   ],
   "source": [
    "print(\"number of training samples: \", len(train_data))\n",
    "print(1875-(batch_size * 5))"
   ]
  },
  {
   "cell_type": "code",
   "execution_count": 63,
   "id": "1946775f",
   "metadata": {},
   "outputs": [
    {
     "name": "stdout",
     "output_type": "stream",
     "text": [
      "Number of train batches: 27\n",
      "Number of valid batches: 9\n",
      "Number of test batches: 24\n"
     ]
    }
   ],
   "source": [
    "print(f\"Number of train batches: {len(train_data_loader)}\")\n",
    "print(f\"Number of valid batches: {len(valid_data_loader)}\")\n",
    "print(f\"Number of test batches: {len(test_data_loader)}\")"
   ]
  },
  {
   "cell_type": "markdown",
   "id": "6116c2a8",
   "metadata": {},
   "source": [
    "## model defintion"
   ]
  },
  {
   "cell_type": "code",
   "execution_count": 64,
   "id": "ce3903f7",
   "metadata": {},
   "outputs": [],
   "source": [
    "def register_save_activations_hook(model, model_activation_layer, activations_list):\n",
    "    \"\"\"Registers a forward pass hook that saves activations.\n",
    "    \n",
    "    Args:\n",
    "        model(nn.Module): A PyTorch model.\n",
    "        model_activation_layer(str): The name of the module in the network that\n",
    "            produces the activations of interest.\n",
    "        activations_list(List[torch.Tensor]) The list in which we should store the\n",
    "            model activations.\n",
    "    \"\"\"\n",
    "    def save_activations(model, inp, out):\n",
    "        # print(f\"save_activations: {out.size()}\")\n",
    "        # activs = out.view(out.size(0), -1).detach().cpu()      \n",
    "        # \n",
    "        # important change\n",
    "        activs = out.detach().cpu() \n",
    "        activations_list.append(activs)\n",
    "\n",
    "    for name, m in model.named_modules():\n",
    "        if name == model_activation_layer or \\\n",
    "          (isinstance(model, torch.nn.DataParallel) and \\\n",
    "           name.replace('module.', '') == model_activation_layer):\n",
    "            return m.register_forward_hook(save_activations)\n",
    "    return None"
   ]
  },
  {
   "cell_type": "code",
   "execution_count": 65,
   "id": "65cd046f",
   "metadata": {},
   "outputs": [],
   "source": [
    "class CNN(nn.Module):\n",
    "\n",
    "\n",
    "\n",
    "    def __init__(\n",
    "        self,\n",
    "        vocab_size,\n",
    "        embedding_dim,\n",
    "        n_filters,\n",
    "        filter_sizes,\n",
    "        output_dim,\n",
    "        dropout_rate,\n",
    "        pad_index,\n",
    "    ):\n",
    "        super().__init__()\n",
    "        self.embedding = nn.Embedding(vocab_size, embedding_dim, padding_idx=pad_index)\n",
    "        self.convs = nn.ModuleList(\n",
    "            [\n",
    "                nn.Conv1d(embedding_dim, n_filters, filter_size)\n",
    "                for filter_size in filter_sizes\n",
    "            ]\n",
    "        )\n",
    "        self.fc = nn.Linear(len(filter_sizes) * n_filters, output_dim)\n",
    "        self.dropout = nn.Dropout(dropout_rate)\n",
    "\n",
    "        ## last layer name\n",
    "        self.activation_layer_name =f\"convs.{len(filter_sizes)-1}\"\n",
    "\n",
    "    def _init_activations_hook(self, model, activations_list, layer_name):\n",
    "        \"\"\"Initializes the forward hook to save model activations.\"\"\"\n",
    "        # if isinstance(model, torch.nn.DataParallel):\n",
    "        #     activation_layer = f\"model.module.{layer_name}\"\n",
    "        # else:\n",
    "        #     activation_layer = f\"model.{layer_name}\"\n",
    "        activation_layer = layer_name\n",
    "        activations_handle = register_save_activations_hook(model, activation_layer,\n",
    "                                                            activations_list)\n",
    "        if activation_layer is not None:\n",
    "            assert activations_handle is not None, \\\n",
    "                f'No hook registered for activation_layer={activation_layer}'\n",
    "        return activations_handle\n",
    "\n",
    "\n",
    "    def forward(self, ids):\n",
    "        # ids = [batch size, seq len]\n",
    "        embedded = self.dropout(self.embedding(ids))\n",
    "        # embedded = [batch size, seq len, embedding dim]\n",
    "        embedded = embedded.permute(0, 2, 1)\n",
    "        # embedded = [batch size, embedding dim, seq len]\n",
    "        conved = [torch.relu(conv(embedded)) for conv in self.convs]\n",
    "        # conved_n = [batch size, n filters, seq len - filter_sizes[n] + 1]\n",
    "\n",
    "        # print(conved[0].shape)\n",
    "        pooled = [conv.max(dim=-1).values for conv in conved]\n",
    "\n",
    "        # print(pooled[0].shape)\n",
    "        # pooled_n = [batch size, n filters]\n",
    "        cat = self.dropout(torch.cat(pooled, dim=-1))\n",
    "        # cat = [batch size, n filters * len(filter_sizes)]\n",
    "        prediction = self.fc(cat)\n",
    "        # prediction = [batch size, output dim]\n",
    "        return prediction"
   ]
  },
  {
   "cell_type": "code",
   "execution_count": 66,
   "id": "ad3da9c4",
   "metadata": {},
   "outputs": [],
   "source": [
    "vocab_size = len(vocab)\n",
    "embedding_dim = 300\n",
    "n_filters = 100\n",
    "filter_sizes = [3, 5, 7]\n",
    "output_dim = len(train_data.unique(\"label\"))\n",
    "dropout_rate = 0.25\n",
    "\n",
    "model = CNN(\n",
    "    vocab_size,\n",
    "    embedding_dim,\n",
    "    n_filters,\n",
    "    filter_sizes,\n",
    "    output_dim,\n",
    "    dropout_rate,\n",
    "    pad_index,\n",
    ")"
   ]
  },
  {
   "cell_type": "markdown",
   "id": "54e20faa",
   "metadata": {},
   "source": [
    "## training settigs and hyper parameters"
   ]
  },
  {
   "cell_type": "code",
   "execution_count": 67,
   "id": "e5b9314c",
   "metadata": {},
   "outputs": [
    {
     "name": "stdout",
     "output_type": "stream",
     "text": [
      "The model has 3,873,020 trainable parameters\n"
     ]
    }
   ],
   "source": [
    "def count_parameters(model):\n",
    "    return sum(p.numel() for p in model.parameters() if p.requires_grad)\n",
    "\n",
    "\n",
    "print(f\"The model has {count_parameters(model):,} trainable parameters\")"
   ]
  },
  {
   "cell_type": "code",
   "execution_count": 68,
   "id": "48dd9079",
   "metadata": {},
   "outputs": [],
   "source": [
    "def initialize_weights(m):\n",
    "    if isinstance(m, nn.Linear):\n",
    "        nn.init.xavier_normal_(m.weight)\n",
    "        nn.init.zeros_(m.bias)\n",
    "    elif isinstance(m, nn.Conv1d):\n",
    "        nn.init.kaiming_normal_(m.weight, nonlinearity=\"relu\")\n",
    "        nn.init.zeros_(m.bias)"
   ]
  },
  {
   "cell_type": "code",
   "execution_count": 69,
   "id": "e455a168",
   "metadata": {},
   "outputs": [
    {
     "data": {
      "text/plain": [
       "CNN(\n",
       "  (embedding): Embedding(11389, 300, padding_idx=1)\n",
       "  (convs): ModuleList(\n",
       "    (0): Conv1d(300, 100, kernel_size=(3,), stride=(1,))\n",
       "    (1): Conv1d(300, 100, kernel_size=(5,), stride=(1,))\n",
       "    (2): Conv1d(300, 100, kernel_size=(7,), stride=(1,))\n",
       "  )\n",
       "  (fc): Linear(in_features=300, out_features=20, bias=True)\n",
       "  (dropout): Dropout(p=0.25, inplace=False)\n",
       ")"
      ]
     },
     "execution_count": 69,
     "metadata": {},
     "output_type": "execute_result"
    }
   ],
   "source": [
    "model.apply(initialize_weights)"
   ]
  },
  {
   "cell_type": "code",
   "execution_count": 70,
   "id": "cca8ce6b",
   "metadata": {},
   "outputs": [],
   "source": [
    "vectors = torchtext.vocab.GloVe()"
   ]
  },
  {
   "cell_type": "code",
   "execution_count": 71,
   "id": "e8f96c10",
   "metadata": {},
   "outputs": [
    {
     "name": "stdout",
     "output_type": "stream",
     "text": [
      "torch.Size([11389, 300])\n"
     ]
    }
   ],
   "source": [
    "pretrained_embedding = vectors.get_vecs_by_tokens(vocab.get_itos())\n",
    "print(pretrained_embedding.shape)"
   ]
  },
  {
   "cell_type": "code",
   "execution_count": 72,
   "id": "bb09a2aa",
   "metadata": {},
   "outputs": [],
   "source": [
    "model.embedding.weight.data = pretrained_embedding"
   ]
  },
  {
   "cell_type": "code",
   "execution_count": 73,
   "id": "836f8381",
   "metadata": {},
   "outputs": [],
   "source": [
    "learning_rate = 1e-4"
   ]
  },
  {
   "cell_type": "code",
   "execution_count": 74,
   "id": "7a5e39e9",
   "metadata": {},
   "outputs": [],
   "source": [
    "optimizer = optim.Adam(model.parameters(),lr=learning_rate)"
   ]
  },
  {
   "cell_type": "code",
   "execution_count": 75,
   "id": "e123ae07",
   "metadata": {},
   "outputs": [],
   "source": [
    "criterion = nn.CrossEntropyLoss()"
   ]
  },
  {
   "cell_type": "code",
   "execution_count": 76,
   "id": "825a973d",
   "metadata": {},
   "outputs": [
    {
     "data": {
      "text/plain": [
       "device(type='cuda')"
      ]
     },
     "execution_count": 76,
     "metadata": {},
     "output_type": "execute_result"
    }
   ],
   "source": [
    "device = torch.device(\"cuda\" if torch.cuda.is_available() else \"cpu\")\n",
    "\n",
    "device"
   ]
  },
  {
   "cell_type": "code",
   "execution_count": 77,
   "id": "f9512ae1",
   "metadata": {},
   "outputs": [],
   "source": [
    "model = model.to(device)\n",
    "criterion = criterion.to(device)"
   ]
  },
  {
   "cell_type": "code",
   "execution_count": 78,
   "id": "3cf2f1e1",
   "metadata": {},
   "outputs": [],
   "source": [
    "def get_accuracy(prediction, label):\n",
    "    batch_size, _ = prediction.shape\n",
    "    predicted_classes = prediction.argmax(dim=-1)\n",
    "    correct_predictions = predicted_classes.eq(label).sum()\n",
    "    accuracy = correct_predictions / batch_size\n",
    "    return accuracy"
   ]
  },
  {
   "cell_type": "markdown",
   "id": "39719ab6",
   "metadata": {},
   "source": [
    "## training"
   ]
  },
  {
   "cell_type": "code",
   "execution_count": 79,
   "id": "869d77c8",
   "metadata": {},
   "outputs": [],
   "source": [
    "def run_epoch(do_train: bool,data_loader, model, criterion, optimizer, device, save_activations):\n",
    "\n",
    "\n",
    "    ##this is not the best way, but it works\n",
    "    epoch_losses = []\n",
    "    epoch_accs = []\n",
    "    epoch_activations = {}\n",
    "    epoch_labels = []\n",
    "    epoch_preds = []\n",
    "    epoch_subclasses = []\n",
    "    epoch_superclasses = []\n",
    "\n",
    "\n",
    "    ### activation handles for saving the activations\n",
    "\n",
    "    activation_handles = []\n",
    "    if save_activations:\n",
    "        for conv in [\"convs.0\", \"convs.1\", \"convs.2\"]:\n",
    "        \n",
    "            conv_activations = []\n",
    "            activations_handle = model._init_activations_hook(model, conv_activations, conv)\n",
    "            activation_handles.append(activations_handle)\n",
    "            epoch_activations[conv] = conv_activations\n",
    "\n",
    "\n",
    "\n",
    "    ### set the model to train mode if we are training, otherwise to eval mode  \n",
    "\n",
    "    model.train() if do_train else model.eval()\n",
    "\n",
    "    ### enable or disable gradient computation depending on whether we are training or not\n",
    "    with torch.no_grad() if not do_train else torch.enable_grad():\n",
    "\n",
    "\n",
    "        for batch in tqdm.tqdm(data_loader, desc=\"training...\" if do_train else \"evaluating...\"):\n",
    "            \n",
    "            \n",
    "            ids = batch[\"ids\"].to(device)\n",
    "            label = batch[\"label\"].to(device)\n",
    "            subclasses = batch[\"subclasses\"].to(device)\n",
    "            superclasses = batch[\"superclasses\"].to(device)\n",
    "\n",
    "            ###consistency check...\n",
    "            if train_on == \"superclasses\":\n",
    "                assert torch.equal(superclasses, label), \"superclass and labels must be the same!!!\"\n",
    "            elif train_on == \"subclasses\":\n",
    "                assert torch.equal(subclasses, label), \"subclass and labels must be the same!!!\"\n",
    "            else:\n",
    "                raise ValueError(\"trained_on must be either superclasses or subclasses\")\n",
    "\n",
    "\n",
    "\n",
    "\n",
    "            prediction = model(ids)\n",
    "            predicted_classes = prediction.argmax(dim=-1)\n",
    "\n",
    "\n",
    "            loss = criterion(prediction, label)\n",
    "            accuracy = get_accuracy(prediction, label)\n",
    "            \n",
    "            \n",
    "            ### do an optimizer step if we are training\n",
    "            if do_train:\n",
    "            \n",
    "                optimizer.zero_grad()\n",
    "                loss.backward()\n",
    "                optimizer.step()\n",
    "\n",
    "\n",
    "\n",
    "            epoch_losses.append(loss.item())\n",
    "            epoch_accs.append(accuracy.item())\n",
    "            epoch_labels.append(label.detach().cpu())\n",
    "            epoch_subclasses.append(subclasses.detach().cpu())\n",
    "            epoch_superclasses.append(superclasses.detach().cpu())\n",
    "            epoch_preds.append(predicted_classes.detach().cpu())\n",
    "            \n",
    "\n",
    "\n",
    "\n",
    "    for handle in activation_handles:\n",
    "        handle.remove()\n",
    "\n",
    "\n",
    "    epoch_labels = torch.cat(epoch_labels, dim=0)\n",
    "    epoch_preds = torch.cat(epoch_preds, dim=0)\n",
    "    epoch_subclasses = torch.cat(epoch_subclasses, dim=0)\n",
    "    epoch_superclasses = torch.cat(epoch_superclasses, dim=0)\n",
    "\n",
    "    if save_activations:\n",
    "        for key, value in tqdm.tqdm(epoch_activations.items(), desc=\"concatting activations batches\"):\n",
    "                    epoch_activations[key] = torch.cat(value, dim=0)\n",
    "\n",
    "\n",
    " \n",
    "\n",
    "\n",
    "    epoch_outputs = {\n",
    "        \"loss\": np.mean(epoch_losses),\n",
    "        \"accuracy\": np.mean(epoch_accs),\n",
    "        \"activations\": epoch_activations,\n",
    "        \"labels\": epoch_labels,\n",
    "        \"subclasses\": epoch_subclasses,\n",
    "        \"superclasses\": epoch_superclasses,\n",
    "        \"predictions\": epoch_preds\n",
    "    }\n",
    "\n",
    "\n",
    "    return epoch_outputs"
   ]
  },
  {
   "cell_type": "code",
   "execution_count": 80,
   "id": "af6e8a15",
   "metadata": {},
   "outputs": [],
   "source": [
    "def trainmodel(n_epochs: int, save_activations: bool):\n",
    "    best_valid_loss = float(\"inf\")\n",
    "\n",
    "    metrics = collections.defaultdict(list)\n",
    "\n",
    "    outputs = {}\n",
    "\n",
    "    for epoch in range(n_epochs):\n",
    "\n",
    "        t_outs = run_epoch(True, train_data_loader, model, criterion, optimizer, device, save_activations)\n",
    "        v_outs = run_epoch(False, valid_data_loader, model, criterion, optimizer, device, save_activations)\n",
    "\n",
    "        metrics[\"train_losses\"].append(t_outs[\"loss\"])\n",
    "        metrics[\"train_accs\"].append(t_outs[\"accuracy\"])\n",
    "\n",
    "        metrics[\"valid_losses\"].append(v_outs[\"loss\"])\n",
    "        metrics[\"valid_accs\"].append(v_outs[\"accuracy\"])\n",
    "        \n",
    "        \n",
    "        \n",
    "        if v_outs[\"loss\"] < best_valid_loss:\n",
    "            best_valid_loss = v_outs[\"loss\"]\n",
    "            torch.save(model.state_dict(), \"cnn.pt\")\n",
    "        print(f\"epoch: {epoch}\")\n",
    "\n",
    "        train_loss = t_outs[\"loss\"]\n",
    "        train_acc = t_outs[\"accuracy\"]\n",
    "\n",
    "        valid_loss = v_outs[\"loss\"]\n",
    "        valid_acc = v_outs[\"accuracy\"]\n",
    "\n",
    "        print(f\"train_loss: {train_loss:.3f}, train_acc: {train_acc:.3f}\")\n",
    "        print(f\"valid_loss: {valid_loss:.3f}, valid_acc: {valid_acc:.3f}\")\n",
    "\n",
    "\n",
    "    \n",
    "        outputs[epoch] = {\"train\": t_outs, \"val\": v_outs}\n",
    "    \n",
    "    return outputs, metrics"
   ]
  },
  {
   "cell_type": "code",
   "execution_count": 81,
   "id": "50126537",
   "metadata": {},
   "outputs": [],
   "source": [
    "from copy import deepcopy\n",
    "\n",
    "state_dict = deepcopy(model.state_dict()) "
   ]
  },
  {
   "cell_type": "code",
   "execution_count": 63,
   "id": "078e4965",
   "metadata": {},
   "outputs": [
    {
     "data": {
      "text/plain": [
       "<All keys matched successfully>"
      ]
     },
     "execution_count": 63,
     "metadata": {},
     "output_type": "execute_result"
    }
   ],
   "source": [
    "model.load_state_dict(state_dict)"
   ]
  },
  {
   "cell_type": "code",
   "execution_count": 82,
   "id": "5b8d3503",
   "metadata": {},
   "outputs": [],
   "source": [
    "n_epochs = 50"
   ]
  },
  {
   "cell_type": "code",
   "execution_count": 83,
   "id": "6d2cc377",
   "metadata": {},
   "outputs": [
    {
     "name": "stderr",
     "output_type": "stream",
     "text": [
      "training...: 100%|██████████| 27/27 [00:02<00:00, 13.44it/s]\n",
      "evaluating...: 100%|██████████| 9/9 [00:00<00:00, 36.85it/s]\n"
     ]
    },
    {
     "name": "stdout",
     "output_type": "stream",
     "text": [
      "epoch: 0\n",
      "train_loss: 3.505, train_acc: 0.050\n",
      "valid_loss: 2.936, valid_acc: 0.095\n"
     ]
    },
    {
     "name": "stderr",
     "output_type": "stream",
     "text": [
      "training...: 100%|██████████| 27/27 [00:00<00:00, 27.88it/s]\n",
      "evaluating...: 100%|██████████| 9/9 [00:00<00:00, 44.65it/s]\n"
     ]
    },
    {
     "name": "stdout",
     "output_type": "stream",
     "text": [
      "epoch: 1\n",
      "train_loss: 3.255, train_acc: 0.074\n",
      "valid_loss: 2.800, valid_acc: 0.180\n"
     ]
    },
    {
     "name": "stderr",
     "output_type": "stream",
     "text": [
      "training...: 100%|██████████| 27/27 [00:00<00:00, 27.09it/s]\n",
      "evaluating...: 100%|██████████| 9/9 [00:00<00:00, 40.92it/s]\n"
     ]
    },
    {
     "name": "stdout",
     "output_type": "stream",
     "text": [
      "epoch: 2\n",
      "train_loss: 3.087, train_acc: 0.098\n",
      "valid_loss: 2.675, valid_acc: 0.283\n"
     ]
    },
    {
     "name": "stderr",
     "output_type": "stream",
     "text": [
      "training...: 100%|██████████| 27/27 [00:00<00:00, 27.87it/s]\n",
      "evaluating...: 100%|██████████| 9/9 [00:00<00:00, 55.89it/s]\n"
     ]
    },
    {
     "name": "stdout",
     "output_type": "stream",
     "text": [
      "epoch: 3\n",
      "train_loss: 2.952, train_acc: 0.118\n",
      "valid_loss: 2.555, valid_acc: 0.359\n"
     ]
    },
    {
     "name": "stderr",
     "output_type": "stream",
     "text": [
      "training...: 100%|██████████| 27/27 [00:00<00:00, 27.50it/s]\n",
      "evaluating...: 100%|██████████| 9/9 [00:00<00:00, 45.91it/s]\n"
     ]
    },
    {
     "name": "stdout",
     "output_type": "stream",
     "text": [
      "epoch: 4\n",
      "train_loss: 2.814, train_acc: 0.153\n",
      "valid_loss: 2.439, valid_acc: 0.410\n"
     ]
    },
    {
     "name": "stderr",
     "output_type": "stream",
     "text": [
      "training...: 100%|██████████| 27/27 [00:01<00:00, 26.82it/s]\n",
      "evaluating...: 100%|██████████| 9/9 [00:00<00:00, 46.31it/s]\n"
     ]
    },
    {
     "name": "stdout",
     "output_type": "stream",
     "text": [
      "epoch: 5\n",
      "train_loss: 2.684, train_acc: 0.193\n",
      "valid_loss: 2.326, valid_acc: 0.457\n"
     ]
    },
    {
     "name": "stderr",
     "output_type": "stream",
     "text": [
      "training...: 100%|██████████| 27/27 [00:00<00:00, 29.08it/s]\n",
      "evaluating...: 100%|██████████| 9/9 [00:00<00:00, 22.48it/s]\n"
     ]
    },
    {
     "name": "stdout",
     "output_type": "stream",
     "text": [
      "epoch: 6\n",
      "train_loss: 2.570, train_acc: 0.226\n",
      "valid_loss: 2.218, valid_acc: 0.486\n"
     ]
    },
    {
     "name": "stderr",
     "output_type": "stream",
     "text": [
      "training...: 100%|██████████| 27/27 [00:01<00:00, 26.83it/s]\n",
      "evaluating...: 100%|██████████| 9/9 [00:00<00:00, 43.85it/s]\n"
     ]
    },
    {
     "name": "stdout",
     "output_type": "stream",
     "text": [
      "epoch: 7\n",
      "train_loss: 2.429, train_acc: 0.270\n",
      "valid_loss: 2.113, valid_acc: 0.513\n"
     ]
    },
    {
     "name": "stderr",
     "output_type": "stream",
     "text": [
      "training...: 100%|██████████| 27/27 [00:01<00:00, 26.47it/s]\n",
      "evaluating...: 100%|██████████| 9/9 [00:00<00:00, 37.36it/s]\n"
     ]
    },
    {
     "name": "stdout",
     "output_type": "stream",
     "text": [
      "epoch: 8\n",
      "train_loss: 2.311, train_acc: 0.307\n",
      "valid_loss: 2.016, valid_acc: 0.535\n"
     ]
    },
    {
     "name": "stderr",
     "output_type": "stream",
     "text": [
      "training...: 100%|██████████| 27/27 [00:00<00:00, 28.60it/s]\n",
      "evaluating...: 100%|██████████| 9/9 [00:00<00:00, 46.64it/s]\n"
     ]
    },
    {
     "name": "stdout",
     "output_type": "stream",
     "text": [
      "epoch: 9\n",
      "train_loss: 2.212, train_acc: 0.339\n",
      "valid_loss: 1.923, valid_acc: 0.558\n"
     ]
    },
    {
     "name": "stderr",
     "output_type": "stream",
     "text": [
      "training...: 100%|██████████| 27/27 [00:01<00:00, 26.70it/s]\n",
      "evaluating...: 100%|██████████| 9/9 [00:00<00:00, 46.11it/s]\n"
     ]
    },
    {
     "name": "stdout",
     "output_type": "stream",
     "text": [
      "epoch: 10\n",
      "train_loss: 2.103, train_acc: 0.382\n",
      "valid_loss: 1.839, valid_acc: 0.572\n"
     ]
    },
    {
     "name": "stderr",
     "output_type": "stream",
     "text": [
      "training...: 100%|██████████| 27/27 [00:00<00:00, 27.74it/s]\n",
      "evaluating...: 100%|██████████| 9/9 [00:00<00:00, 44.53it/s]\n"
     ]
    },
    {
     "name": "stdout",
     "output_type": "stream",
     "text": [
      "epoch: 11\n",
      "train_loss: 2.026, train_acc: 0.403\n",
      "valid_loss: 1.765, valid_acc: 0.583\n"
     ]
    },
    {
     "name": "stderr",
     "output_type": "stream",
     "text": [
      "training...: 100%|██████████| 27/27 [00:00<00:00, 27.67it/s]\n",
      "evaluating...: 100%|██████████| 9/9 [00:00<00:00, 47.60it/s]\n"
     ]
    },
    {
     "name": "stdout",
     "output_type": "stream",
     "text": [
      "epoch: 12\n",
      "train_loss: 1.919, train_acc: 0.445\n",
      "valid_loss: 1.692, valid_acc: 0.595\n"
     ]
    },
    {
     "name": "stderr",
     "output_type": "stream",
     "text": [
      "training...: 100%|██████████| 27/27 [00:00<00:00, 28.19it/s]\n",
      "evaluating...: 100%|██████████| 9/9 [00:00<00:00, 45.53it/s]\n"
     ]
    },
    {
     "name": "stdout",
     "output_type": "stream",
     "text": [
      "epoch: 13\n",
      "train_loss: 1.837, train_acc: 0.464\n",
      "valid_loss: 1.630, valid_acc: 0.600\n"
     ]
    },
    {
     "name": "stderr",
     "output_type": "stream",
     "text": [
      "training...: 100%|██████████| 27/27 [00:00<00:00, 28.21it/s]\n",
      "evaluating...: 100%|██████████| 9/9 [00:00<00:00, 49.70it/s]\n"
     ]
    },
    {
     "name": "stdout",
     "output_type": "stream",
     "text": [
      "epoch: 14\n",
      "train_loss: 1.778, train_acc: 0.482\n",
      "valid_loss: 1.572, valid_acc: 0.604\n"
     ]
    },
    {
     "name": "stderr",
     "output_type": "stream",
     "text": [
      "training...: 100%|██████████| 27/27 [00:00<00:00, 27.24it/s]\n",
      "evaluating...: 100%|██████████| 9/9 [00:00<00:00, 47.86it/s]\n"
     ]
    },
    {
     "name": "stdout",
     "output_type": "stream",
     "text": [
      "epoch: 15\n",
      "train_loss: 1.709, train_acc: 0.506\n",
      "valid_loss: 1.521, valid_acc: 0.619\n"
     ]
    },
    {
     "name": "stderr",
     "output_type": "stream",
     "text": [
      "training...: 100%|██████████| 27/27 [00:01<00:00, 26.76it/s]\n",
      "evaluating...: 100%|██████████| 9/9 [00:00<00:00, 40.52it/s]\n"
     ]
    },
    {
     "name": "stdout",
     "output_type": "stream",
     "text": [
      "epoch: 16\n",
      "train_loss: 1.638, train_acc: 0.528\n",
      "valid_loss: 1.476, valid_acc: 0.622\n"
     ]
    },
    {
     "name": "stderr",
     "output_type": "stream",
     "text": [
      "training...: 100%|██████████| 27/27 [00:01<00:00, 23.86it/s]\n",
      "evaluating...: 100%|██████████| 9/9 [00:00<00:00, 37.36it/s]\n"
     ]
    },
    {
     "name": "stdout",
     "output_type": "stream",
     "text": [
      "epoch: 17\n",
      "train_loss: 1.587, train_acc: 0.544\n",
      "valid_loss: 1.435, valid_acc: 0.630\n"
     ]
    },
    {
     "name": "stderr",
     "output_type": "stream",
     "text": [
      "training...: 100%|██████████| 27/27 [00:01<00:00, 26.80it/s]\n",
      "evaluating...: 100%|██████████| 9/9 [00:00<00:00, 40.73it/s]\n"
     ]
    },
    {
     "name": "stdout",
     "output_type": "stream",
     "text": [
      "epoch: 18\n",
      "train_loss: 1.531, train_acc: 0.558\n",
      "valid_loss: 1.400, valid_acc: 0.635\n"
     ]
    },
    {
     "name": "stderr",
     "output_type": "stream",
     "text": [
      "training...: 100%|██████████| 27/27 [00:00<00:00, 27.80it/s]\n",
      "evaluating...: 100%|██████████| 9/9 [00:00<00:00, 42.43it/s]\n"
     ]
    },
    {
     "name": "stdout",
     "output_type": "stream",
     "text": [
      "epoch: 19\n",
      "train_loss: 1.492, train_acc: 0.574\n",
      "valid_loss: 1.366, valid_acc: 0.640\n"
     ]
    },
    {
     "name": "stderr",
     "output_type": "stream",
     "text": [
      "training...: 100%|██████████| 27/27 [00:00<00:00, 28.98it/s]\n",
      "evaluating...: 100%|██████████| 9/9 [00:00<00:00, 42.72it/s]\n"
     ]
    },
    {
     "name": "stdout",
     "output_type": "stream",
     "text": [
      "epoch: 20\n",
      "train_loss: 1.440, train_acc: 0.584\n",
      "valid_loss: 1.336, valid_acc: 0.645\n"
     ]
    },
    {
     "name": "stderr",
     "output_type": "stream",
     "text": [
      "training...: 100%|██████████| 27/27 [00:00<00:00, 28.35it/s]\n",
      "evaluating...: 100%|██████████| 9/9 [00:00<00:00, 40.64it/s]\n"
     ]
    },
    {
     "name": "stdout",
     "output_type": "stream",
     "text": [
      "epoch: 21\n",
      "train_loss: 1.419, train_acc: 0.585\n",
      "valid_loss: 1.311, valid_acc: 0.648\n"
     ]
    },
    {
     "name": "stderr",
     "output_type": "stream",
     "text": [
      "training...: 100%|██████████| 27/27 [00:00<00:00, 29.11it/s]\n",
      "evaluating...: 100%|██████████| 9/9 [00:00<00:00, 43.59it/s]\n"
     ]
    },
    {
     "name": "stdout",
     "output_type": "stream",
     "text": [
      "epoch: 22\n",
      "train_loss: 1.366, train_acc: 0.606\n",
      "valid_loss: 1.286, valid_acc: 0.649\n"
     ]
    },
    {
     "name": "stderr",
     "output_type": "stream",
     "text": [
      "training...: 100%|██████████| 27/27 [00:00<00:00, 28.36it/s]\n",
      "evaluating...: 100%|██████████| 9/9 [00:00<00:00, 46.36it/s]\n"
     ]
    },
    {
     "name": "stdout",
     "output_type": "stream",
     "text": [
      "epoch: 23\n",
      "train_loss: 1.346, train_acc: 0.607\n",
      "valid_loss: 1.264, valid_acc: 0.654\n"
     ]
    },
    {
     "name": "stderr",
     "output_type": "stream",
     "text": [
      "training...: 100%|██████████| 27/27 [00:00<00:00, 28.05it/s]\n",
      "evaluating...: 100%|██████████| 9/9 [00:00<00:00, 43.73it/s]\n"
     ]
    },
    {
     "name": "stdout",
     "output_type": "stream",
     "text": [
      "epoch: 24\n",
      "train_loss: 1.305, train_acc: 0.619\n",
      "valid_loss: 1.244, valid_acc: 0.655\n"
     ]
    },
    {
     "name": "stderr",
     "output_type": "stream",
     "text": [
      "training...: 100%|██████████| 27/27 [00:00<00:00, 27.78it/s]\n",
      "evaluating...: 100%|██████████| 9/9 [00:00<00:00, 48.80it/s]\n"
     ]
    },
    {
     "name": "stdout",
     "output_type": "stream",
     "text": [
      "epoch: 25\n",
      "train_loss: 1.283, train_acc: 0.627\n",
      "valid_loss: 1.225, valid_acc: 0.659\n"
     ]
    },
    {
     "name": "stderr",
     "output_type": "stream",
     "text": [
      "training...: 100%|██████████| 27/27 [00:01<00:00, 26.90it/s]\n",
      "evaluating...: 100%|██████████| 9/9 [00:00<00:00, 46.03it/s]\n"
     ]
    },
    {
     "name": "stdout",
     "output_type": "stream",
     "text": [
      "epoch: 26\n",
      "train_loss: 1.242, train_acc: 0.642\n",
      "valid_loss: 1.209, valid_acc: 0.663\n"
     ]
    },
    {
     "name": "stderr",
     "output_type": "stream",
     "text": [
      "training...: 100%|██████████| 27/27 [00:01<00:00, 26.87it/s]\n",
      "evaluating...: 100%|██████████| 9/9 [00:00<00:00, 23.12it/s]\n"
     ]
    },
    {
     "name": "stdout",
     "output_type": "stream",
     "text": [
      "epoch: 27\n",
      "train_loss: 1.220, train_acc: 0.644\n",
      "valid_loss: 1.195, valid_acc: 0.663\n"
     ]
    },
    {
     "name": "stderr",
     "output_type": "stream",
     "text": [
      "training...: 100%|██████████| 27/27 [00:01<00:00, 25.77it/s]\n",
      "evaluating...: 100%|██████████| 9/9 [00:00<00:00, 40.58it/s]\n"
     ]
    },
    {
     "name": "stdout",
     "output_type": "stream",
     "text": [
      "epoch: 28\n",
      "train_loss: 1.193, train_acc: 0.659\n",
      "valid_loss: 1.179, valid_acc: 0.667\n"
     ]
    },
    {
     "name": "stderr",
     "output_type": "stream",
     "text": [
      "training...: 100%|██████████| 27/27 [00:01<00:00, 26.12it/s]\n",
      "evaluating...: 100%|██████████| 9/9 [00:00<00:00, 40.33it/s]\n"
     ]
    },
    {
     "name": "stdout",
     "output_type": "stream",
     "text": [
      "epoch: 29\n",
      "train_loss: 1.170, train_acc: 0.654\n",
      "valid_loss: 1.167, valid_acc: 0.666\n"
     ]
    },
    {
     "name": "stderr",
     "output_type": "stream",
     "text": [
      "training...: 100%|██████████| 27/27 [00:00<00:00, 28.02it/s]\n",
      "evaluating...: 100%|██████████| 9/9 [00:00<00:00, 49.80it/s]\n"
     ]
    },
    {
     "name": "stdout",
     "output_type": "stream",
     "text": [
      "epoch: 30\n",
      "train_loss: 1.153, train_acc: 0.668\n",
      "valid_loss: 1.155, valid_acc: 0.665\n"
     ]
    },
    {
     "name": "stderr",
     "output_type": "stream",
     "text": [
      "training...: 100%|██████████| 27/27 [00:00<00:00, 29.23it/s]\n",
      "evaluating...: 100%|██████████| 9/9 [00:00<00:00, 43.38it/s]\n"
     ]
    },
    {
     "name": "stdout",
     "output_type": "stream",
     "text": [
      "epoch: 31\n",
      "train_loss: 1.131, train_acc: 0.673\n",
      "valid_loss: 1.143, valid_acc: 0.669\n"
     ]
    },
    {
     "name": "stderr",
     "output_type": "stream",
     "text": [
      "training...: 100%|██████████| 27/27 [00:00<00:00, 27.87it/s]\n",
      "evaluating...: 100%|██████████| 9/9 [00:00<00:00, 40.09it/s]\n"
     ]
    },
    {
     "name": "stdout",
     "output_type": "stream",
     "text": [
      "epoch: 32\n",
      "train_loss: 1.114, train_acc: 0.677\n",
      "valid_loss: 1.133, valid_acc: 0.671\n"
     ]
    },
    {
     "name": "stderr",
     "output_type": "stream",
     "text": [
      "training...: 100%|██████████| 27/27 [00:00<00:00, 27.02it/s]\n",
      "evaluating...: 100%|██████████| 9/9 [00:00<00:00, 41.29it/s]\n"
     ]
    },
    {
     "name": "stdout",
     "output_type": "stream",
     "text": [
      "epoch: 33\n",
      "train_loss: 1.092, train_acc: 0.681\n",
      "valid_loss: 1.124, valid_acc: 0.674\n"
     ]
    },
    {
     "name": "stderr",
     "output_type": "stream",
     "text": [
      "training...: 100%|██████████| 27/27 [00:00<00:00, 28.05it/s]\n",
      "evaluating...: 100%|██████████| 9/9 [00:00<00:00, 49.28it/s]\n"
     ]
    },
    {
     "name": "stdout",
     "output_type": "stream",
     "text": [
      "epoch: 34\n",
      "train_loss: 1.075, train_acc: 0.691\n",
      "valid_loss: 1.114, valid_acc: 0.677\n"
     ]
    },
    {
     "name": "stderr",
     "output_type": "stream",
     "text": [
      "training...: 100%|██████████| 27/27 [00:01<00:00, 26.68it/s]\n",
      "evaluating...: 100%|██████████| 9/9 [00:00<00:00, 44.82it/s]\n"
     ]
    },
    {
     "name": "stdout",
     "output_type": "stream",
     "text": [
      "epoch: 35\n",
      "train_loss: 1.060, train_acc: 0.690\n",
      "valid_loss: 1.105, valid_acc: 0.677\n"
     ]
    },
    {
     "name": "stderr",
     "output_type": "stream",
     "text": [
      "training...: 100%|██████████| 27/27 [00:01<00:00, 26.37it/s]\n",
      "evaluating...: 100%|██████████| 9/9 [00:00<00:00, 43.29it/s]\n"
     ]
    },
    {
     "name": "stdout",
     "output_type": "stream",
     "text": [
      "epoch: 36\n",
      "train_loss: 1.050, train_acc: 0.692\n",
      "valid_loss: 1.098, valid_acc: 0.676\n"
     ]
    },
    {
     "name": "stderr",
     "output_type": "stream",
     "text": [
      "training...: 100%|██████████| 27/27 [00:00<00:00, 28.33it/s]\n",
      "evaluating...: 100%|██████████| 9/9 [00:00<00:00, 42.67it/s]\n"
     ]
    },
    {
     "name": "stdout",
     "output_type": "stream",
     "text": [
      "epoch: 37\n",
      "train_loss: 1.025, train_acc: 0.703\n",
      "valid_loss: 1.091, valid_acc: 0.679\n"
     ]
    },
    {
     "name": "stderr",
     "output_type": "stream",
     "text": [
      "training...: 100%|██████████| 27/27 [00:01<00:00, 26.96it/s]\n",
      "evaluating...: 100%|██████████| 9/9 [00:00<00:00, 23.00it/s]\n"
     ]
    },
    {
     "name": "stdout",
     "output_type": "stream",
     "text": [
      "epoch: 38\n",
      "train_loss: 1.009, train_acc: 0.708\n",
      "valid_loss: 1.084, valid_acc: 0.679\n"
     ]
    },
    {
     "name": "stderr",
     "output_type": "stream",
     "text": [
      "training...: 100%|██████████| 27/27 [00:00<00:00, 27.57it/s]\n",
      "evaluating...: 100%|██████████| 9/9 [00:00<00:00, 45.17it/s]\n"
     ]
    },
    {
     "name": "stdout",
     "output_type": "stream",
     "text": [
      "epoch: 39\n",
      "train_loss: 0.995, train_acc: 0.715\n",
      "valid_loss: 1.077, valid_acc: 0.682\n"
     ]
    },
    {
     "name": "stderr",
     "output_type": "stream",
     "text": [
      "training...: 100%|██████████| 27/27 [00:01<00:00, 26.25it/s]\n",
      "evaluating...: 100%|██████████| 9/9 [00:00<00:00, 43.15it/s]\n"
     ]
    },
    {
     "name": "stdout",
     "output_type": "stream",
     "text": [
      "epoch: 40\n",
      "train_loss: 0.985, train_acc: 0.719\n",
      "valid_loss: 1.071, valid_acc: 0.682\n"
     ]
    },
    {
     "name": "stderr",
     "output_type": "stream",
     "text": [
      "training...: 100%|██████████| 27/27 [00:00<00:00, 27.43it/s]\n",
      "evaluating...: 100%|██████████| 9/9 [00:00<00:00, 38.67it/s]\n"
     ]
    },
    {
     "name": "stdout",
     "output_type": "stream",
     "text": [
      "epoch: 41\n",
      "train_loss: 0.963, train_acc: 0.724\n",
      "valid_loss: 1.064, valid_acc: 0.683\n"
     ]
    },
    {
     "name": "stderr",
     "output_type": "stream",
     "text": [
      "training...: 100%|██████████| 27/27 [00:00<00:00, 28.22it/s]\n",
      "evaluating...: 100%|██████████| 9/9 [00:00<00:00, 43.91it/s]\n"
     ]
    },
    {
     "name": "stdout",
     "output_type": "stream",
     "text": [
      "epoch: 42\n",
      "train_loss: 0.956, train_acc: 0.725\n",
      "valid_loss: 1.058, valid_acc: 0.684\n"
     ]
    },
    {
     "name": "stderr",
     "output_type": "stream",
     "text": [
      "training...: 100%|██████████| 27/27 [00:00<00:00, 28.09it/s]\n",
      "evaluating...: 100%|██████████| 9/9 [00:00<00:00, 44.04it/s]\n"
     ]
    },
    {
     "name": "stdout",
     "output_type": "stream",
     "text": [
      "epoch: 43\n",
      "train_loss: 0.948, train_acc: 0.723\n",
      "valid_loss: 1.055, valid_acc: 0.686\n"
     ]
    },
    {
     "name": "stderr",
     "output_type": "stream",
     "text": [
      "training...: 100%|██████████| 27/27 [00:00<00:00, 28.87it/s]\n",
      "evaluating...: 100%|██████████| 9/9 [00:00<00:00, 40.88it/s]\n"
     ]
    },
    {
     "name": "stdout",
     "output_type": "stream",
     "text": [
      "epoch: 44\n",
      "train_loss: 0.927, train_acc: 0.731\n",
      "valid_loss: 1.048, valid_acc: 0.687\n"
     ]
    },
    {
     "name": "stderr",
     "output_type": "stream",
     "text": [
      "training...: 100%|██████████| 27/27 [00:00<00:00, 29.34it/s]\n",
      "evaluating...: 100%|██████████| 9/9 [00:00<00:00, 52.43it/s]\n"
     ]
    },
    {
     "name": "stdout",
     "output_type": "stream",
     "text": [
      "epoch: 45\n",
      "train_loss: 0.923, train_acc: 0.735\n",
      "valid_loss: 1.042, valid_acc: 0.686\n"
     ]
    },
    {
     "name": "stderr",
     "output_type": "stream",
     "text": [
      "training...: 100%|██████████| 27/27 [00:00<00:00, 28.32it/s]\n",
      "evaluating...: 100%|██████████| 9/9 [00:00<00:00, 43.86it/s]\n"
     ]
    },
    {
     "name": "stdout",
     "output_type": "stream",
     "text": [
      "epoch: 46\n",
      "train_loss: 0.905, train_acc: 0.738\n",
      "valid_loss: 1.038, valid_acc: 0.688\n"
     ]
    },
    {
     "name": "stderr",
     "output_type": "stream",
     "text": [
      "training...: 100%|██████████| 27/27 [00:01<00:00, 26.84it/s]\n",
      "evaluating...: 100%|██████████| 9/9 [00:00<00:00, 45.72it/s]\n"
     ]
    },
    {
     "name": "stdout",
     "output_type": "stream",
     "text": [
      "epoch: 47\n",
      "train_loss: 0.887, train_acc: 0.747\n",
      "valid_loss: 1.033, valid_acc: 0.688\n"
     ]
    },
    {
     "name": "stderr",
     "output_type": "stream",
     "text": [
      "training...: 100%|██████████| 27/27 [00:00<00:00, 27.00it/s]\n",
      "evaluating...: 100%|██████████| 9/9 [00:00<00:00, 45.80it/s]\n"
     ]
    },
    {
     "name": "stdout",
     "output_type": "stream",
     "text": [
      "epoch: 48\n",
      "train_loss: 0.883, train_acc: 0.751\n",
      "valid_loss: 1.028, valid_acc: 0.688\n"
     ]
    },
    {
     "name": "stderr",
     "output_type": "stream",
     "text": [
      "training...: 100%|██████████| 27/27 [00:01<00:00, 22.69it/s]\n",
      "evaluating...: 100%|██████████| 9/9 [00:00<00:00, 33.95it/s]\n"
     ]
    },
    {
     "name": "stdout",
     "output_type": "stream",
     "text": [
      "epoch: 49\n",
      "train_loss: 0.859, train_acc: 0.755\n",
      "valid_loss: 1.024, valid_acc: 0.691\n"
     ]
    }
   ],
   "source": [
    "outputs, metrics = trainmodel(n_epochs=n_epochs,save_activations=False)"
   ]
  },
  {
   "cell_type": "code",
   "execution_count": 86,
   "id": "30cf7145",
   "metadata": {},
   "outputs": [
    {
     "name": "stdout",
     "output_type": "stream",
     "text": [
      "CNN(\n",
      "  (embedding): Embedding(11389, 300, padding_idx=1)\n",
      "  (convs): ModuleList(\n",
      "    (0): Conv1d(300, 100, kernel_size=(3,), stride=(1,))\n",
      "    (1): Conv1d(300, 100, kernel_size=(5,), stride=(1,))\n",
      "    (2): Conv1d(300, 100, kernel_size=(7,), stride=(1,))\n",
      "  )\n",
      "  (fc): Linear(in_features=300, out_features=20, bias=True)\n",
      "  (dropout): Dropout(p=0.25, inplace=False)\n",
      ")\n"
     ]
    }
   ],
   "source": [
    "print(model)\n",
    "n_epochs = 50"
   ]
  },
  {
   "cell_type": "code",
   "execution_count": 87,
   "id": "03860181",
   "metadata": {},
   "outputs": [
    {
     "data": {
      "image/png": "[encoded data removed]",
      "text/plain": [
       "<Figure size 1000x600 with 1 Axes>"
      ]
     },
     "metadata": {},
     "output_type": "display_data"
    }
   ],
   "source": [
    "fig = plt.figure(figsize=(10, 6))\n",
    "ax = fig.add_subplot(1, 1, 1)\n",
    "ax.plot(range(1,n_epochs+1),metrics[\"train_losses\"], label=\"train loss\")\n",
    "ax.plot(range(1,n_epochs+1),metrics[\"valid_losses\"], label=\"valid loss\")\n",
    "ax.set_xlabel(\"epoch\")\n",
    "ax.set_ylabel(\"loss\")\n",
    "ax.set_xticks(range(1,n_epochs+1))\n",
    "ax.legend()\n",
    "ax.grid()"
   ]
  },
  {
   "cell_type": "code",
   "execution_count": 88,
   "id": "df5d03f9",
   "metadata": {},
   "outputs": [
    {
     "data": {
      "image/png": "[encoded data removed]",
      "text/plain": [
       "<Figure size 1000x600 with 1 Axes>"
      ]
     },
     "metadata": {},
     "output_type": "display_data"
    }
   ],
   "source": [
    "fig = plt.figure(figsize=(10, 6))\n",
    "ax = fig.add_subplot(1, 1, 1)\n",
    "ax.plot(range(1,n_epochs+1),metrics[\"train_accs\"], label=\"train accuracy\")\n",
    "ax.plot(range(1,n_epochs+1),metrics[\"valid_accs\"], label=\"valid accuracy\")\n",
    "ax.set_xlabel(\"epoch\")\n",
    "ax.set_ylabel(\"loss\")\n",
    "ax.set_xticks(range(1,n_epochs+1))\n",
    "ax.legend()\n",
    "ax.grid()"
   ]
  },
  {
   "cell_type": "code",
   "execution_count": 93,
   "id": "21d21ff7",
   "metadata": {},
   "outputs": [
    {
     "name": "stdout",
     "output_type": "stream",
     "text": [
      "0.0001\n"
     ]
    }
   ],
   "source": [
    "print(learning_rate)"
   ]
  },
  {
   "cell_type": "code",
   "execution_count": 94,
   "id": "eaf299e0",
   "metadata": {},
   "outputs": [
    {
     "name": "stdout",
     "output_type": "stream",
     "text": [
      "0.0001\n"
     ]
    }
   ],
   "source": [
    "print(1e-4)"
   ]
  },
  {
   "cell_type": "code",
   "execution_count": 92,
   "id": "e12cff6c",
   "metadata": {},
   "outputs": [
    {
     "name": "stderr",
     "output_type": "stream",
     "text": [
      "training...: 100%|██████████| 27/27 [00:02<00:00, 11.44it/s]\n",
      "concatting activations batches: 100%|██████████| 3/3 [00:01<00:00,  1.86it/s]\n"
     ]
    }
   ],
   "source": [
    "train_outs = run_epoch(\"False\",train_data_loader, model, criterion,optimizer, device, save_activations=True)"
   ]
  },
  {
   "cell_type": "code",
   "execution_count": 95,
   "id": "97888b60",
   "metadata": {},
   "outputs": [],
   "source": [
    "torch.save(train_outs, \"ng_e4_train_outputs.pt\")"
   ]
  },
  {
   "cell_type": "code",
   "execution_count": 96,
   "id": "9c8ae1bf",
   "metadata": {},
   "outputs": [
    {
     "name": "stderr",
     "output_type": "stream",
     "text": [
      "training...: 100%|██████████| 9/9 [00:00<00:00, 12.07it/s]\n",
      "concatting activations batches: 100%|██████████| 3/3 [00:00<00:00,  6.53it/s]\n"
     ]
    }
   ],
   "source": [
    "val_outs = run_epoch(\"False\",valid_data_loader, model, criterion, optimizer, device, save_activations=True)"
   ]
  },
  {
   "cell_type": "code",
   "execution_count": 97,
   "id": "5554b113",
   "metadata": {},
   "outputs": [],
   "source": [
    "torch.save(val_outs, \"ng_e4_val_outputs.pt\")"
   ]
  },
  {
   "cell_type": "code",
   "execution_count": 98,
   "id": "bb00498a",
   "metadata": {},
   "outputs": [
    {
     "name": "stderr",
     "output_type": "stream",
     "text": [
      "training...: 100%|██████████| 24/24 [00:01<00:00, 13.15it/s]\n",
      "concatting activations batches: 100%|██████████| 3/3 [00:01<00:00,  2.24it/s]\n"
     ]
    }
   ],
   "source": [
    "test_outs= run_epoch(\"False\",test_data_loader, model, criterion, optimizer, device, save_activations=True)"
   ]
  },
  {
   "cell_type": "code",
   "execution_count": 99,
   "id": "8b8b85f2",
   "metadata": {},
   "outputs": [],
   "source": [
    "torch.save(test_outs, \"ng_e4_test_outputs.pt\")"
   ]
  },
  {
   "cell_type": "code",
   "execution_count": 100,
   "id": "3d1ee50a",
   "metadata": {},
   "outputs": [],
   "source": [
    "test_loss = test_outs[\"loss\"]\n",
    "test_acc = test_outs[\"accuracy\"]"
   ]
  },
  {
   "cell_type": "code",
   "execution_count": 101,
   "id": "39eacaaf",
   "metadata": {},
   "outputs": [
    {
     "name": "stdout",
     "output_type": "stream",
     "text": [
      "test_loss: 1.291, test_acc: 0.609\n"
     ]
    }
   ],
   "source": [
    "print(f\"test_loss: {test_loss:.3f}, test_acc: {test_acc:.3f}\")"
   ]
  },
  {
   "cell_type": "code",
   "execution_count": 102,
   "id": "7c08b412",
   "metadata": {},
   "outputs": [],
   "source": [
    "def predict_sentiment(text, model, tokenizer, vocab, device, min_length, pad_index):\n",
    "    tokens = tokenizer(text)\n",
    "    ids = vocab.lookup_indices(tokens)\n",
    "    if len(ids) < min_length:\n",
    "        ids += [pad_index] * (min_length - len(ids))\n",
    "    tensor = torch.LongTensor(ids).unsqueeze(dim=0).to(device)\n",
    "    prediction = model(tensor).squeeze(dim=0)\n",
    "    probability = torch.softmax(prediction, dim=-1)\n",
    "    predicted_class = prediction.argmax(dim=-1).item()\n",
    "    predicted_probability = probability[predicted_class].item()\n",
    "    return predicted_class, predicted_probability"
   ]
  },
  {
   "cell_type": "code",
   "execution_count": 103,
   "id": "4fd0877a",
   "metadata": {},
   "outputs": [
    {
     "data": {
      "text/plain": [
       "(18, 0.09750284254550934)"
      ]
     },
     "execution_count": 103,
     "metadata": {},
     "output_type": "execute_result"
    }
   ],
   "source": [
    "text = \"This film is terrible!\"\n",
    "min_length = max(filter_sizes)\n",
    "\n",
    "predict_sentiment(text, model, tokenizer, vocab, device, min_length, pad_index)"
   ]
  },
  {
   "cell_type": "code",
   "execution_count": 50,
   "id": "31063352",
   "metadata": {},
   "outputs": [
    {
     "data": {
      "text/plain": [
       "(12, 0.921493649482727)"
      ]
     },
     "execution_count": 50,
     "metadata": {},
     "output_type": "execute_result"
    }
   ],
   "source": [
    "text = \"This film is great!\"\n",
    "\n",
    "predict_sentiment(text, model, tokenizer, vocab, device, min_length, pad_index)"
   ]
  },
  {
   "cell_type": "code",
   "execution_count": 51,
   "id": "162aea28",
   "metadata": {},
   "outputs": [
    {
     "data": {
      "text/plain": [
       "(12, 0.9487431049346924)"
      ]
     },
     "execution_count": 51,
     "metadata": {},
     "output_type": "execute_result"
    }
   ],
   "source": [
    "text = \"This film is not terrible, it's great!\"\n",
    "\n",
    "predict_sentiment(text, model, tokenizer, vocab, device, min_length, pad_index)"
   ]
  },
  {
   "cell_type": "code",
   "execution_count": 52,
   "id": "83c036aa",
   "metadata": {},
   "outputs": [
    {
     "data": {
      "text/plain": [
       "(12, 0.9126440286636353)"
      ]
     },
     "execution_count": 52,
     "metadata": {},
     "output_type": "execute_result"
    }
   ],
   "source": [
    "text = \"This film is not great, it's terrible!\"\n",
    "\n",
    "predict_sentiment(text, model, tokenizer, vocab, device, min_length, pad_index)"
   ]
  }
 ],
 "metadata": {
  "kernelspec": {
   "display_name": "BA-conda-env1",
   "language": "python",
   "name": "python3"
  },
  "language_info": {
   "codemirror_mode": {
    "name": "ipython",
    "version": 3
   },
   "file_extension": ".py",
   "mimetype": "text/x-python",
   "name": "python",
   "nbconvert_exporter": "python",
   "pygments_lexer": "ipython3",
   "version": "3.9.16"
  }
 },
 "nbformat": 4,
 "nbformat_minor": 5
}
