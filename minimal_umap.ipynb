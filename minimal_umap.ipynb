{
 "cells": [
  {
   "cell_type": "code",
   "execution_count": 1,
   "metadata": {},
   "outputs": [],
   "source": [
    "import torch\n",
    "import os"
   ]
  },
  {
   "cell_type": "code",
   "execution_count": null,
   "metadata": {},
   "outputs": [],
   "source": [
    "outputs_path = \"/mnt/scratch/kf237/experiments/textCNN_first_tries/outputs_trained_subclasses.pt\"\n",
    "print(os.path.exists(outputs_path))"
   ]
  },
  {
   "cell_type": "code",
   "execution_count": null,
   "metadata": {},
   "outputs": [],
   "source": [
    "outputs_path = \"/mnt/scratch/kf237/experiments/textCNN_first_tries/outputs_trained_superclasses.pt\"\n",
    "print(os.path.exists(outputs_path))"
   ]
  },
  {
   "cell_type": "code",
   "execution_count": null,
   "metadata": {},
   "outputs": [],
   "source": [
    "### CNN\n",
    "\n",
    "outputs = torch.load(outputs_path)\n"
   ]
  },
  {
   "cell_type": "code",
   "execution_count": null,
   "metadata": {},
   "outputs": [],
   "source": [
    "selected_conv = \"convs.0\""
   ]
  },
  {
   "cell_type": "markdown",
   "metadata": {},
   "source": [
    "##### trained_on_subclasses"
   ]
  },
  {
   "cell_type": "code",
   "execution_count": null,
   "metadata": {},
   "outputs": [],
   "source": [
    "print(type(outputs))\n",
    "\n",
    "print(outputs.keys())\n",
    "\n",
    "last_epoch = list(outputs.keys())[-1]\n",
    "\n",
    "print(last_epoch)\n",
    "\n",
    "epoch_outputs = outputs[last_epoch]\n",
    "\n",
    "\n",
    "\n",
    "print(type(epoch_outputs))\n",
    "print(epoch_outputs.keys())\n",
    "\n",
    "train_outputs = epoch_outputs[\"train\"]\n",
    "print(type(train_outputs))\n",
    "print(train_outputs.keys())\n",
    "selected_subclass_lables = train_outputs[\"labels\"]\n",
    "\n",
    "train_activations = train_outputs[\"activations\"]\n",
    "\n",
    "print(train_activations.keys())\n",
    "\n",
    "\n",
    "\n",
    "\n",
    "selected_activations = train_activations[selected_conv]\n",
    "\n",
    "print(selected_activations.shape)"
   ]
  },
  {
   "cell_type": "markdown",
   "metadata": {},
   "source": [
    "##### trained_on_superclasses"
   ]
  },
  {
   "cell_type": "code",
   "execution_count": null,
   "metadata": {},
   "outputs": [],
   "source": [
    "print(type(outputs))\n",
    "\n",
    "print(outputs.keys())\n",
    "\n",
    "last_epoch = list(outputs.keys())[-1]\n",
    "\n",
    "print(last_epoch)\n",
    "\n",
    "epoch_outputs = outputs[last_epoch]\n",
    "\n",
    "\n",
    "\n",
    "print(type(epoch_outputs))\n",
    "print(epoch_outputs.keys())\n",
    "\n",
    "train_outputs = epoch_outputs[\"train\"]\n",
    "print(type(train_outputs))\n",
    "print(train_outputs.keys())\n",
    "\n",
    "superclasses = train_outputs[\"superclass\"]\n",
    "subclasses = train_outputs[\"subclasses\"]\n",
    "\n",
    "train_activations = train_outputs[\"activations\"]\n",
    "\n",
    "print(train_activations.keys())\n",
    "\n",
    "\n",
    "\n",
    "\n",
    "selected_activations = train_activations[selected_conv]\n",
    "\n",
    "print(selected_activations.shape)"
   ]
  },
  {
   "cell_type": "code",
   "execution_count": null,
   "metadata": {},
   "outputs": [],
   "source": [
    "import numpy as np"
   ]
  },
  {
   "cell_type": "code",
   "execution_count": null,
   "metadata": {},
   "outputs": [],
   "source": [
    "print(np.unique(np.array(selected_supeclass_labels)))"
   ]
  },
  {
   "cell_type": "code",
   "execution_count": null,
   "metadata": {},
   "outputs": [],
   "source": [
    "aaaaa = selected_activations.max(dim=-1).values\n",
    "\n",
    "print(aaaaa.shape)\n",
    "\n",
    "print(selected_activations.shape)"
   ]
  },
  {
   "cell_type": "markdown",
   "metadata": {},
   "source": [
    "### continue"
   ]
  },
  {
   "cell_type": "code",
   "execution_count": null,
   "metadata": {},
   "outputs": [],
   "source": [
    "import numpy as np\n",
    "\n",
    "\n",
    "unique_subclass, counts_subclass = np.unique(selected_subclass_lables.numpy(), return_counts=True)"
   ]
  },
  {
   "cell_type": "code",
   "execution_count": null,
   "metadata": {},
   "outputs": [],
   "source": [
    "\n",
    "ont_1_mapping = {\n",
    "        0: 1, # company : other\n",
    "        1: 1, # educational institution : other\n",
    "        2: 0, # artist : person\n",
    "        3: 0, # athlete : person\n",
    "        4: 0, # office holder : person\n",
    "        5: 1, # mean of transportation : other\n",
    "        6: 2, # building : place\n",
    "        7: 2, # natural place : place\n",
    "        8: 2, # village : place\n",
    "        9: 3, # animal : organism\n",
    "        10: 3, # plant : organism\n",
    "        11: 4, # album : artwork\n",
    "        12: 4, # film : artwork\n",
    "        13: 4, # writtenWork : artwork\n",
    "    }\n",
    "\n",
    "\n",
    "superclasses = [ont_1_mapping[subclass] for subclass in selected_subclass_lables.tolist()]\n",
    "\n",
    "a,b = np.unique(np.array(superclasses), return_counts=True)"
   ]
  },
  {
   "cell_type": "code",
   "execution_count": null,
   "metadata": {},
   "outputs": [],
   "source": [
    "import matplotlib.pyplot as plt\n",
    "\n",
    "plt.bar(a,b)\n",
    "\n",
    "plt.show()"
   ]
  },
  {
   "cell_type": "code",
   "execution_count": null,
   "metadata": {},
   "outputs": [],
   "source": [
    "import matplotlib.pyplot as plt\n",
    "\n",
    "\n",
    "\n",
    "## bar plot\n",
    "\n",
    "plt.bar(unique_subclass, counts_subclass)\n",
    "plt.show()"
   ]
  },
  {
   "cell_type": "code",
   "execution_count": null,
   "metadata": {},
   "outputs": [],
   "source": [
    "seed = 42"
   ]
  },
  {
   "cell_type": "code",
   "execution_count": null,
   "metadata": {},
   "outputs": [],
   "source": [
    "import umap\n",
    "\n",
    "reducer = umap.UMAP(random_state=seed)\n",
    "\n",
    "embedding = reducer.fit_transform(selected_activations)\n"
   ]
  },
  {
   "cell_type": "code",
   "execution_count": null,
   "metadata": {},
   "outputs": [],
   "source": [
    "\n",
    "print(embedding.shape)\n",
    "\n",
    "\n",
    "print(selected_subclass_lables.shape)"
   ]
  },
  {
   "cell_type": "markdown",
   "metadata": {},
   "source": [
    "###### trained on subllasses"
   ]
  },
  {
   "cell_type": "code",
   "execution_count": null,
   "metadata": {},
   "outputs": [],
   "source": [
    "# Class names\n",
    "subclass_names = [\n",
    "    'company', 'educational institution', 'artist', 'athlete', \n",
    "    'office holder', 'mean of transportation', 'building', \n",
    "    'natural place', 'village', 'animal', 'plant', \n",
    "    'album', 'film', 'writtenWork'\n",
    "]\n",
    "\n",
    "\n",
    "\n",
    "ont_1_mapping = {\n",
    "        0: 1, # company : other\n",
    "        1: 1, # educational institution : other\n",
    "        2: 0, # artist : person\n",
    "        3: 0, # athlete : person\n",
    "        4: 0, # office holder : person\n",
    "        5: 1, # mean of transportation : other\n",
    "        6: 2, # building : place\n",
    "        7: 2, # natural place : place\n",
    "        8: 2, # village : place\n",
    "        9: 3, # animal : organism\n",
    "        10: 3, # plant : organism\n",
    "        11: 4, # album : artwork\n",
    "        12: 4, # film : artwork\n",
    "        13: 4, # writtenWork : artwork\n",
    "    }\n",
    "\n",
    "\n",
    "superclasses = [ont_1_mapping[subclass] for subclass in selected_subclass_lables.tolist()]\n",
    "\n",
    "\n",
    "superclass_names = [\"other\", \"person\", \"place\", \"organism\", \"artwork\"]\n"
   ]
  },
  {
   "cell_type": "markdown",
   "metadata": {},
   "source": [
    "##### trained on superclasses"
   ]
  },
  {
   "cell_type": "code",
   "execution_count": null,
   "metadata": {},
   "outputs": [],
   "source": [
    "# Class names\n",
    "subclass_names = [\n",
    "    'company', 'educational institution', 'artist', 'athlete', \n",
    "    'office holder', 'mean of transportation', 'building', \n",
    "    'natural place', 'village', 'animal', 'plant', \n",
    "    'album', 'film', 'writtenWork'\n",
    "]\n",
    "\n",
    "\n",
    "\n",
    "ont_1_mapping = {\n",
    "        0: 1, # company : other\n",
    "        1: 1, # educational institution : other\n",
    "        2: 0, # artist : person\n",
    "        3: 0, # athlete : person\n",
    "        4: 0, # office holder : person\n",
    "        5: 1, # mean of transportation : other\n",
    "        6: 2, # building : place\n",
    "        7: 2, # natural place : place\n",
    "        8: 2, # village : place\n",
    "        9: 3, # animal : organism\n",
    "        10: 3, # plant : organism\n",
    "        11: 4, # album : artwork\n",
    "        12: 4, # film : artwork\n",
    "        13: 4, # writtenWork : artwork\n",
    "    }\n",
    "\n",
    "\n",
    "##TODO this is impossible to do without the subclass labels....why dif i thought otherwise....\n",
    "\n",
    "\n",
    "superclasses = [ont_1_mapping_reversed[superclass] for superclass in selected_supeclass_labels.tolist()]\n",
    "\n",
    "\n",
    "superclass_names = [\"other\", \"person\", \"place\", \"organism\", \"artwork\"]"
   ]
  },
  {
   "cell_type": "markdown",
   "metadata": {},
   "source": [
    "#### continue"
   ]
  },
  {
   "cell_type": "code",
   "execution_count": null,
   "metadata": {},
   "outputs": [],
   "source": [
    "import matplotlib.pyplot as plt\n",
    "import numpy as np\n",
    "\n",
    "\n",
    "\n",
    "# Set up the figure and subplots\n",
    "fig, axes = plt.subplots(ncols=2, figsize=(15, 6))  # Adjust width and height as desired\n",
    "\n",
    "# Set the overall title for the figure\n",
    "fig.suptitle(f\"Trained on subclasses: activation plots of {selected_conv}\", fontsize=16)\n",
    "\n",
    "# First subplot\n",
    "scatter1 = axes[0].scatter(embedding[:, 0], embedding[:, 1], c=selected_subclass_lables, cmap=\"tab20\")\n",
    "legend_elements1, _ = scatter1.legend_elements()\n",
    "axes[0].legend(legend_elements1, subclass_names, title=\"Subclasses\", bbox_to_anchor=(1.05, 1), loc='upper left')\n",
    "axes[0].set_title(\"Subclasses\")\n",
    "\n",
    "# Second subplot (same data)\n",
    "scatter2 = axes[1].scatter(embedding[:, 0], embedding[:, 1], c=superclasses, cmap=\"viridis\")\n",
    "legend_elements2, _ = scatter2.legend_elements()\n",
    "axes[1].legend(legend_elements2, superclass_names, title=\"Superclasses\", bbox_to_anchor=(1.05, 1), loc='upper left')\n",
    "axes[1].set_title(\"Superclasses\")\n",
    "\n",
    "# Adjust layout to make room for legends and title\n",
    "plt.tight_layout(rect=[0, 0, 0.9, 1])  # Adjust rect to fit legends and title\n",
    "\n",
    "# Display plot\n",
    "plt.show()\n"
   ]
  },
  {
   "cell_type": "code",
   "execution_count": null,
   "metadata": {},
   "outputs": [],
   "source": [
    "#### filter the activations by class\n",
    "\n",
    "\n",
    "filtered_superclass = 0\n",
    "\n",
    "\n",
    "\n",
    "## first  construc the binary mask\n",
    "\n",
    "superclasses_np = np.array(superclasses)\n",
    "\n",
    "mask = superclasses_np == filtered_superclass\n",
    "\n",
    "filtered_activations = selected_activations.numpy()[mask]\n",
    "\n",
    "filtered_subclass_lables = selected_subclass_lables.numpy()[mask]\n",
    "\n",
    "\n",
    "unique_labels = np.unique(filtered_subclass_lables)\n",
    "\n",
    "print(unique_labels)\n",
    "\n",
    "filtered_subclass_names = [ name for i, name in enumerate(subclass_names) if i in unique_labels]\n",
    "\n",
    "print(filtered_subclass_names)\n",
    "\n",
    "\n",
    "\n",
    "\n"
   ]
  },
  {
   "cell_type": "code",
   "execution_count": null,
   "metadata": {},
   "outputs": [],
   "source": [
    "\n",
    "reducer = umap.UMAP(random_state=seed)\n",
    "filted_embedding = reducer.fit_transform(filtered_activations)"
   ]
  },
  {
   "cell_type": "code",
   "execution_count": null,
   "metadata": {},
   "outputs": [],
   "source": [
    "import matplotlib.pyplot as plt\n",
    "\n",
    "\n",
    "\n",
    "# Set the figure size to make the plot wider\n",
    "plt.figure(figsize=(10, 6))  # Adjust width (12) and height (6) as desired\n",
    "\n",
    "\n",
    "# Create scatter plot\n",
    "scatter = plt.scatter(filted_embedding[:, 0], filted_embedding[:, 1], c=filtered_subclass_lables, cmap=\"viridis\")\n",
    "\n",
    "# Create legend and position it outside the plot to the right\n",
    "legend_elements, _ = scatter.legend_elements()\n",
    "plt.legend(legend_elements, filtered_subclass_names, title=\"Classes\", bbox_to_anchor=(1.05, 1), loc='upper left')\n",
    "\n",
    "# Adjust layout to make room for the legend\n",
    "plt.tight_layout(rect=[0, 0, 0.85, 1])  # Adjusts the plot to leave room for the legend on the right\n",
    "\n",
    "plt.title(f\"activation plot of {selected_conv} for superclass {filtered_superclass}\")\n",
    "\n",
    "# Display plot\n",
    "plt.show()\n"
   ]
  },
  {
   "cell_type": "code",
   "execution_count": null,
   "metadata": {},
   "outputs": [],
   "source": [
    "### complete.....\n",
    "import matplotlib.pyplot as plt\n",
    "\n",
    "\n",
    "for filtered_superclass in range(5):\n",
    " \n",
    "\n",
    "\n",
    "\n",
    "    ## first  construc the binary mask\n",
    "\n",
    "    superclasses_np = np.array(superclasses)\n",
    "\n",
    "    mask = superclasses_np == filtered_superclass\n",
    "\n",
    "    filtered_activations = selected_activations.numpy()[mask]\n",
    "\n",
    "    filtered_subclass_lables = selected_subclass_lables.numpy()[mask]\n",
    "\n",
    "\n",
    "    unique_labels = np.unique(filtered_subclass_lables)\n",
    "\n",
    "    print(unique_labels)\n",
    "\n",
    "    filtered_subclass_names = [ name for i, name in enumerate(subclass_names) if i in unique_labels]\n",
    "\n",
    "    print(filtered_subclass_names)\n",
    "\n",
    "\n",
    "\n",
    "\n",
    "    reducer = umap.UMAP(random_state=seed)\n",
    "    filted_embedding = reducer.fit_transform(filtered_activations)\n",
    "\n",
    "\n",
    "\n",
    "\n",
    "\n",
    "    # Set the figure size to make the plot wider\n",
    "    plt.figure(figsize=(10, 6))  # Adjust width (12) and height (6) as desired\n",
    "\n",
    "\n",
    "    # Create scatter plot\n",
    "    scatter = plt.scatter(filted_embedding[:, 0], filted_embedding[:, 1], c=filtered_subclass_lables, cmap=\"viridis\")\n",
    "\n",
    "    # Create legend and position it outside the plot to the right\n",
    "    legend_elements, _ = scatter.legend_elements()\n",
    "    plt.legend(legend_elements, filtered_subclass_names, title=\"Classes\", bbox_to_anchor=(1.05, 1), loc='upper left')\n",
    "\n",
    "    plt.title(f\"activation plot of {selected_conv} for superclass {filtered_superclass}\")\n",
    "\n",
    "    # Adjust layout to make room for the legend\n",
    "    plt.tight_layout(rect=[0, 0, 0.85, 1])  # Adjusts the plot to leave room for the legend on the right\n",
    "\n",
    "\n",
    "\n",
    "    plt.savefig(f\"activation_plot_{selected_conv}_superclass_{filtered_superclass}.png\")"
   ]
  },
  {
   "cell_type": "markdown",
   "metadata": {},
   "source": [
    "## use the "
   ]
  },
  {
   "cell_type": "code",
   "execution_count": null,
   "metadata": {},
   "outputs": [],
   "source": [
    "ont_1_mapping = {\n",
    "        0: 1, # company : other\n",
    "        1: 1, # educational institution : other\n",
    "        2: 0, # artist : person\n",
    "        3: 0, # athlete : person\n",
    "        4: 0, # office holder : person\n",
    "        5: 1, # mean of transportation : other\n",
    "        6: 2, # building : place\n",
    "        7: 2, # natural place : place\n",
    "        8: 2, # village : place\n",
    "        9: 3, # animal : organism\n",
    "        10: 3, # plant : organism\n",
    "        11: 4, # album : artwork\n",
    "        12: 4, # film : artwork\n",
    "        13: 4, # writtenWork : artwork\n",
    "    }"
   ]
  },
  {
   "cell_type": "markdown",
   "metadata": {},
   "source": [
    "## Transformer"
   ]
  },
  {
   "cell_type": "code",
   "execution_count": null,
   "metadata": {},
   "outputs": [],
   "source": [
    "path = os.path.join(\"testRunArticles\",\"collector.pt\")\n",
    "collector = torch.load(path)\n",
    "epoch_1 = collector[0]\n",
    "print(epoch_1.keys())\n",
    "\n",
    "trainSplit = epoch_1[\"train_outputs\"]\n",
    "activations = trainSplit[\"activations\"]\n",
    "targets = trainSplit[\"targets\"]\n",
    "preds = trainSplit[\"preds\"]\n",
    "true_subclasses = trainSplit[\"true_subclass\"]\n",
    "print(targets.shape)\n",
    "print(activations.shape)\n",
    "print(preds.shape)\n",
    "print(true_subclasses.shape)"
   ]
  },
  {
   "cell_type": "code",
   "execution_count": null,
   "metadata": {},
   "outputs": [],
   "source": [
    "print(trainSplit.keys())"
   ]
  },
  {
   "cell_type": "code",
   "execution_count": null,
   "metadata": {},
   "outputs": [],
   "source": [
    "print(trainSplit[\"true_subclass\"].shape)\n",
    "print(trainSplit[\"targets\"].shape)"
   ]
  },
  {
   "cell_type": "code",
   "execution_count": null,
   "metadata": {},
   "outputs": [],
   "source": [
    "print(targets.unique())\n",
    "print(trainSplit[\"true_subclass\"].unique())"
   ]
  },
  {
   "cell_type": "code",
   "execution_count": null,
   "metadata": {},
   "outputs": [],
   "source": [
    "print(activations.shape)\n",
    "print(targets.shape)\n",
    "print(preds.shape)\n",
    "print(true_subclasses.shape)"
   ]
  },
  {
   "cell_type": "code",
   "execution_count": null,
   "metadata": {},
   "outputs": [],
   "source": [
    "selcted_superclass = 3"
   ]
  },
  {
   "cell_type": "code",
   "execution_count": null,
   "metadata": {},
   "outputs": [],
   "source": [
    "selected_activations = activations[targets == selcted_superclass]\n",
    "selected_subclasses = true_subclasses[targets == selcted_superclass]"
   ]
  },
  {
   "cell_type": "code",
   "execution_count": null,
   "metadata": {},
   "outputs": [],
   "source": [
    "import umap\n",
    "\n",
    "reducer = umap.UMAP()\n",
    "\n",
    "embedding = reducer.fit_transform(selected_activations)\n"
   ]
  },
  {
   "cell_type": "code",
   "execution_count": null,
   "metadata": {},
   "outputs": [],
   "source": [
    "print(embedding.shape)\n",
    "print(selected_subclasses.shape)\n",
    "\n",
    "\n",
    "print(selected_subclasses.unique())"
   ]
  },
  {
   "cell_type": "code",
   "execution_count": null,
   "metadata": {},
   "outputs": [],
   "source": [
    "true_subclass_names = [\n",
    "        \" 0 - Company\",\n",
    "        \" 1 - Educational Institution\",\n",
    "        \" 2 - Artist\",\n",
    "        \" 3 - Athlete\",\n",
    "        \" 4 - Office Holder\",\n",
    "        \" 5 - Mean of Transportation\",\n",
    "        \" 6 - Building\",\n",
    "        \" 7 - Natural Place\",\n",
    "        \" 8 - Village\",\n",
    "        \" 9 - Animal\",\n",
    "        \"10 - Plant\",\n",
    "        \"11 - Album\",\n",
    "        \"12 - Film\",\n",
    "        \"13 - Written Work\",\n",
    "    \n",
    "    ]"
   ]
  },
  {
   "cell_type": "code",
   "execution_count": null,
   "metadata": {},
   "outputs": [],
   "source": [
    "used_subclass_names = [true_subclass_names[i] for i in selected_subclasses.unique()]\n",
    "print(used_subclass_names)"
   ]
  },
  {
   "cell_type": "code",
   "execution_count": null,
   "metadata": {},
   "outputs": [],
   "source": [
    "import matplotlib.pyplot as plt\n",
    "scatter = plt.scatter(embedding[:,0], embedding[:,1])\n",
    "plt.legend()"
   ]
  },
  {
   "cell_type": "code",
   "execution_count": null,
   "metadata": {},
   "outputs": [],
   "source": [
    "### plot the embedding\n",
    "import matplotlib.pyplot as plt\n",
    "scatter = plt.scatter(embedding[:, 0], embedding[:, 1],s =1,c = selected_subclasses, cmap='tab20')\n",
    "legend = plt.legend(handles=scatter.legend_elements()[0], labels=used_subclass_names, title=\"Classes\", loc='upper right', bbox_to_anchor=(1.5, 1))\n",
    "plt.show()"
   ]
  }
 ],
 "metadata": {
  "kernelspec": {
   "display_name": "BA-conda-env1",
   "language": "python",
   "name": "python3"
  },
  "language_info": {
   "codemirror_mode": {
    "name": "ipython",
    "version": 3
   },
   "file_extension": ".py",
   "mimetype": "text/x-python",
   "name": "python",
   "nbconvert_exporter": "python",
   "pygments_lexer": "ipython3",
   "version": "3.9.16"
  }
 },
 "nbformat": 4,
 "nbformat_minor": 2
}
